{
 "cells": [
  {
   "cell_type": "markdown",
   "metadata": {},
   "source": [
    "Описание есть стартап который работает в сфере продуктов питания. Цель проекта узнать как пользователи доходят до покупки и проанализировать эксперимет компании по внедрению нового шрифта на странице сайта."
   ]
  },
  {
   "cell_type": "markdown",
   "metadata": {},
   "source": [
    "Для работы дан датасет где в котором по каждому пользователю проведённому по сайту собрано (его индентификатор, совершённые пользователем события, время эксперимента, номер группы (в зависимости на какой версии сайта находился участник))"
   ]
  },
  {
   "cell_type": "markdown",
   "metadata": {},
   "source": [
    "## Импорт библиотек (загрузка данных)"
   ]
  },
  {
   "cell_type": "code",
   "execution_count": 1,
   "metadata": {},
   "outputs": [
    {
     "name": "stdout",
     "output_type": "stream",
     "text": [
      "Requirement already satisfied: plotly in c:\\python39\\lib\\site-packages (5.8.0)\n",
      "Requirement already satisfied: tenacity>=6.2.0 in c:\\python39\\lib\\site-packages (from plotly) (8.0.1)\n"
     ]
    },
    {
     "name": "stderr",
     "output_type": "stream",
     "text": [
      "WARNING: You are using pip version 21.2.4; however, version 22.2.1 is available.\n",
      "You should consider upgrading via the 'c:\\python39\\python.exe -m pip install --upgrade pip' command.\n"
     ]
    }
   ],
   "source": [
    "!pip install plotly "
   ]
  },
  {
   "cell_type": "code",
   "execution_count": 2,
   "metadata": {},
   "outputs": [],
   "source": [
    "import pandas as pd\n",
    "import numpy as np\n",
    "import seaborn as sns\n",
    "import matplotlib.pyplot as plt\n",
    "import plotly.express as px\n",
    "import datetime as dt\n",
    "from datetime import datetime\n",
    "import math as mth\n",
    "from scipy import stats as st"
   ]
  },
  {
   "cell_type": "code",
   "execution_count": 3,
   "metadata": {},
   "outputs": [],
   "source": [
    "lg = pd.read_csv('logs_exp.csv', sep='\\t')"
   ]
  },
  {
   "cell_type": "code",
   "execution_count": 4,
   "metadata": {},
   "outputs": [
    {
     "data": {
      "text/html": [
       "<div>\n",
       "<style scoped>\n",
       "    .dataframe tbody tr th:only-of-type {\n",
       "        vertical-align: middle;\n",
       "    }\n",
       "\n",
       "    .dataframe tbody tr th {\n",
       "        vertical-align: top;\n",
       "    }\n",
       "\n",
       "    .dataframe thead th {\n",
       "        text-align: right;\n",
       "    }\n",
       "</style>\n",
       "<table border=\"1\" class=\"dataframe\">\n",
       "  <thead>\n",
       "    <tr style=\"text-align: right;\">\n",
       "      <th></th>\n",
       "      <th>EventName</th>\n",
       "      <th>DeviceIDHash</th>\n",
       "      <th>EventTimestamp</th>\n",
       "      <th>ExpId</th>\n",
       "    </tr>\n",
       "  </thead>\n",
       "  <tbody>\n",
       "    <tr>\n",
       "      <th>0</th>\n",
       "      <td>MainScreenAppear</td>\n",
       "      <td>4575588528974610257</td>\n",
       "      <td>1564029816</td>\n",
       "      <td>246</td>\n",
       "    </tr>\n",
       "    <tr>\n",
       "      <th>1</th>\n",
       "      <td>MainScreenAppear</td>\n",
       "      <td>7416695313311560658</td>\n",
       "      <td>1564053102</td>\n",
       "      <td>246</td>\n",
       "    </tr>\n",
       "    <tr>\n",
       "      <th>2</th>\n",
       "      <td>PaymentScreenSuccessful</td>\n",
       "      <td>3518123091307005509</td>\n",
       "      <td>1564054127</td>\n",
       "      <td>248</td>\n",
       "    </tr>\n",
       "    <tr>\n",
       "      <th>3</th>\n",
       "      <td>CartScreenAppear</td>\n",
       "      <td>3518123091307005509</td>\n",
       "      <td>1564054127</td>\n",
       "      <td>248</td>\n",
       "    </tr>\n",
       "    <tr>\n",
       "      <th>4</th>\n",
       "      <td>PaymentScreenSuccessful</td>\n",
       "      <td>6217807653094995999</td>\n",
       "      <td>1564055322</td>\n",
       "      <td>248</td>\n",
       "    </tr>\n",
       "  </tbody>\n",
       "</table>\n",
       "</div>"
      ],
      "text/plain": [
       "                 EventName         DeviceIDHash  EventTimestamp  ExpId\n",
       "0         MainScreenAppear  4575588528974610257      1564029816    246\n",
       "1         MainScreenAppear  7416695313311560658      1564053102    246\n",
       "2  PaymentScreenSuccessful  3518123091307005509      1564054127    248\n",
       "3         CartScreenAppear  3518123091307005509      1564054127    248\n",
       "4  PaymentScreenSuccessful  6217807653094995999      1564055322    248"
      ]
     },
     "execution_count": 4,
     "metadata": {},
     "output_type": "execute_result"
    }
   ],
   "source": [
    "lg.head()"
   ]
  },
  {
   "cell_type": "markdown",
   "metadata": {},
   "source": [
    "## Подготовка данных"
   ]
  },
  {
   "cell_type": "code",
   "execution_count": 5,
   "metadata": {},
   "outputs": [
    {
     "name": "stdout",
     "output_type": "stream",
     "text": [
      "<class 'pandas.core.frame.DataFrame'>\n",
      "RangeIndex: 244126 entries, 0 to 244125\n",
      "Data columns (total 4 columns):\n",
      " #   Column          Non-Null Count   Dtype \n",
      "---  ------          --------------   ----- \n",
      " 0   EventName       244126 non-null  object\n",
      " 1   DeviceIDHash    244126 non-null  int64 \n",
      " 2   EventTimestamp  244126 non-null  int64 \n",
      " 3   ExpId           244126 non-null  int64 \n",
      "dtypes: int64(3), object(1)\n",
      "memory usage: 7.5+ MB\n"
     ]
    }
   ],
   "source": [
    "lg.info()"
   ]
  },
  {
   "cell_type": "code",
   "execution_count": 6,
   "metadata": {},
   "outputs": [],
   "source": [
    "lg.columns = ['event', 'id', 'datetime', 'group']"
   ]
  },
  {
   "cell_type": "code",
   "execution_count": 7,
   "metadata": {},
   "outputs": [
    {
     "data": {
      "text/plain": [
       "Index(['event', 'id', 'datetime', 'group'], dtype='object')"
      ]
     },
     "execution_count": 7,
     "metadata": {},
     "output_type": "execute_result"
    }
   ],
   "source": [
    "lg.columns"
   ]
  },
  {
   "cell_type": "code",
   "execution_count": 8,
   "metadata": {},
   "outputs": [],
   "source": [
    "lg['datetime'] = pd.to_datetime(lg['datetime'], unit='s')"
   ]
  },
  {
   "cell_type": "code",
   "execution_count": 9,
   "metadata": {},
   "outputs": [
    {
     "data": {
      "text/plain": [
       "0   2019-07-25 04:43:36\n",
       "1   2019-07-25 11:11:42\n",
       "2   2019-07-25 11:28:47\n",
       "3   2019-07-25 11:28:47\n",
       "4   2019-07-25 11:48:42\n",
       "Name: datetime, dtype: datetime64[ns]"
      ]
     },
     "execution_count": 9,
     "metadata": {},
     "output_type": "execute_result"
    }
   ],
   "source": [
    "lg.datetime.head()"
   ]
  },
  {
   "cell_type": "code",
   "execution_count": 10,
   "metadata": {},
   "outputs": [
    {
     "data": {
      "text/html": [
       "<div>\n",
       "<style scoped>\n",
       "    .dataframe tbody tr th:only-of-type {\n",
       "        vertical-align: middle;\n",
       "    }\n",
       "\n",
       "    .dataframe tbody tr th {\n",
       "        vertical-align: top;\n",
       "    }\n",
       "\n",
       "    .dataframe thead th {\n",
       "        text-align: right;\n",
       "    }\n",
       "</style>\n",
       "<table border=\"1\" class=\"dataframe\">\n",
       "  <thead>\n",
       "    <tr style=\"text-align: right;\">\n",
       "      <th></th>\n",
       "      <th>event</th>\n",
       "      <th>id</th>\n",
       "      <th>datetime</th>\n",
       "      <th>group</th>\n",
       "    </tr>\n",
       "  </thead>\n",
       "  <tbody>\n",
       "    <tr>\n",
       "      <th>453</th>\n",
       "      <td>MainScreenAppear</td>\n",
       "      <td>5613408041324010552</td>\n",
       "      <td>2019-07-30 08:19:44</td>\n",
       "      <td>248</td>\n",
       "    </tr>\n",
       "    <tr>\n",
       "      <th>2350</th>\n",
       "      <td>CartScreenAppear</td>\n",
       "      <td>1694940645335807244</td>\n",
       "      <td>2019-07-31 21:51:39</td>\n",
       "      <td>248</td>\n",
       "    </tr>\n",
       "    <tr>\n",
       "      <th>3573</th>\n",
       "      <td>MainScreenAppear</td>\n",
       "      <td>434103746454591587</td>\n",
       "      <td>2019-08-01 02:59:37</td>\n",
       "      <td>248</td>\n",
       "    </tr>\n",
       "    <tr>\n",
       "      <th>4076</th>\n",
       "      <td>MainScreenAppear</td>\n",
       "      <td>3761373764179762633</td>\n",
       "      <td>2019-08-01 03:47:46</td>\n",
       "      <td>247</td>\n",
       "    </tr>\n",
       "    <tr>\n",
       "      <th>4803</th>\n",
       "      <td>MainScreenAppear</td>\n",
       "      <td>2835328739789306622</td>\n",
       "      <td>2019-08-01 04:44:01</td>\n",
       "      <td>248</td>\n",
       "    </tr>\n",
       "  </tbody>\n",
       "</table>\n",
       "</div>"
      ],
      "text/plain": [
       "                 event                   id            datetime  group\n",
       "453   MainScreenAppear  5613408041324010552 2019-07-30 08:19:44    248\n",
       "2350  CartScreenAppear  1694940645335807244 2019-07-31 21:51:39    248\n",
       "3573  MainScreenAppear   434103746454591587 2019-08-01 02:59:37    248\n",
       "4076  MainScreenAppear  3761373764179762633 2019-08-01 03:47:46    247\n",
       "4803  MainScreenAppear  2835328739789306622 2019-08-01 04:44:01    248"
      ]
     },
     "execution_count": 10,
     "metadata": {},
     "output_type": "execute_result"
    }
   ],
   "source": [
    "lg[lg.duplicated()].head()"
   ]
  },
  {
   "cell_type": "code",
   "execution_count": 11,
   "metadata": {},
   "outputs": [
    {
     "data": {
      "text/plain": [
       "413"
      ]
     },
     "execution_count": 11,
     "metadata": {},
     "output_type": "execute_result"
    }
   ],
   "source": [
    "lg.duplicated().sum()"
   ]
  },
  {
   "cell_type": "code",
   "execution_count": 12,
   "metadata": {},
   "outputs": [
    {
     "data": {
      "text/plain": [
       "0"
      ]
     },
     "execution_count": 12,
     "metadata": {},
     "output_type": "execute_result"
    }
   ],
   "source": [
    "lg = lg.drop_duplicates()\n",
    "lg.duplicated().sum()"
   ]
  },
  {
   "cell_type": "code",
   "execution_count": 13,
   "metadata": {},
   "outputs": [
    {
     "data": {
      "text/html": [
       "<div>\n",
       "<style scoped>\n",
       "    .dataframe tbody tr th:only-of-type {\n",
       "        vertical-align: middle;\n",
       "    }\n",
       "\n",
       "    .dataframe tbody tr th {\n",
       "        vertical-align: top;\n",
       "    }\n",
       "\n",
       "    .dataframe thead th {\n",
       "        text-align: right;\n",
       "    }\n",
       "</style>\n",
       "<table border=\"1\" class=\"dataframe\">\n",
       "  <thead>\n",
       "    <tr style=\"text-align: right;\">\n",
       "      <th></th>\n",
       "      <th>event</th>\n",
       "      <th>id</th>\n",
       "      <th>datetime</th>\n",
       "      <th>group</th>\n",
       "      <th>date</th>\n",
       "      <th>time</th>\n",
       "    </tr>\n",
       "  </thead>\n",
       "  <tbody>\n",
       "    <tr>\n",
       "      <th>0</th>\n",
       "      <td>MainScreenAppear</td>\n",
       "      <td>4575588528974610257</td>\n",
       "      <td>2019-07-25 04:43:36</td>\n",
       "      <td>246</td>\n",
       "      <td>2019-07-25</td>\n",
       "      <td>04:43:36</td>\n",
       "    </tr>\n",
       "    <tr>\n",
       "      <th>1</th>\n",
       "      <td>MainScreenAppear</td>\n",
       "      <td>7416695313311560658</td>\n",
       "      <td>2019-07-25 11:11:42</td>\n",
       "      <td>246</td>\n",
       "      <td>2019-07-25</td>\n",
       "      <td>11:11:42</td>\n",
       "    </tr>\n",
       "    <tr>\n",
       "      <th>2</th>\n",
       "      <td>PaymentScreenSuccessful</td>\n",
       "      <td>3518123091307005509</td>\n",
       "      <td>2019-07-25 11:28:47</td>\n",
       "      <td>248</td>\n",
       "      <td>2019-07-25</td>\n",
       "      <td>11:28:47</td>\n",
       "    </tr>\n",
       "    <tr>\n",
       "      <th>3</th>\n",
       "      <td>CartScreenAppear</td>\n",
       "      <td>3518123091307005509</td>\n",
       "      <td>2019-07-25 11:28:47</td>\n",
       "      <td>248</td>\n",
       "      <td>2019-07-25</td>\n",
       "      <td>11:28:47</td>\n",
       "    </tr>\n",
       "    <tr>\n",
       "      <th>4</th>\n",
       "      <td>PaymentScreenSuccessful</td>\n",
       "      <td>6217807653094995999</td>\n",
       "      <td>2019-07-25 11:48:42</td>\n",
       "      <td>248</td>\n",
       "      <td>2019-07-25</td>\n",
       "      <td>11:48:42</td>\n",
       "    </tr>\n",
       "  </tbody>\n",
       "</table>\n",
       "</div>"
      ],
      "text/plain": [
       "                     event                   id            datetime  group  \\\n",
       "0         MainScreenAppear  4575588528974610257 2019-07-25 04:43:36    246   \n",
       "1         MainScreenAppear  7416695313311560658 2019-07-25 11:11:42    246   \n",
       "2  PaymentScreenSuccessful  3518123091307005509 2019-07-25 11:28:47    248   \n",
       "3         CartScreenAppear  3518123091307005509 2019-07-25 11:28:47    248   \n",
       "4  PaymentScreenSuccessful  6217807653094995999 2019-07-25 11:48:42    248   \n",
       "\n",
       "        date      time  \n",
       "0 2019-07-25  04:43:36  \n",
       "1 2019-07-25  11:11:42  \n",
       "2 2019-07-25  11:28:47  \n",
       "3 2019-07-25  11:28:47  \n",
       "4 2019-07-25  11:48:42  "
      ]
     },
     "execution_count": 13,
     "metadata": {},
     "output_type": "execute_result"
    }
   ],
   "source": [
    "lg['date'] = lg['datetime'].dt.date\n",
    "lg['time'] = lg['datetime'].dt.time\n",
    "lg['date'] = pd.to_datetime(lg['date'])\n",
    "lg.head()"
   ]
  },
  {
   "cell_type": "markdown",
   "metadata": {},
   "source": [
    "При первичной подготовке данных выявлено:\n",
    "1. Отсутсвие некорректных значений (NAN)\n",
    "2. Присутсвие дубликатов (удалены)\n",
    "3. Добавьте столбец даты и времени, а также отдельный столбец дат "
   ]
  },
  {
   "cell_type": "markdown",
   "metadata": {},
   "source": [
    "## Изучение и проверка данных"
   ]
  },
  {
   "cell_type": "markdown",
   "metadata": {},
   "source": [
    "Проверим сколько всего событий в логе"
   ]
  },
  {
   "cell_type": "code",
   "execution_count": 14,
   "metadata": {},
   "outputs": [
    {
     "data": {
      "text/plain": [
       "array(['MainScreenAppear', 'PaymentScreenSuccessful', 'CartScreenAppear',\n",
       "       'OffersScreenAppear', 'Tutorial'], dtype=object)"
      ]
     },
     "metadata": {},
     "output_type": "display_data"
    },
    {
     "data": {
      "text/plain": [
       "5"
      ]
     },
     "metadata": {},
     "output_type": "display_data"
    }
   ],
   "source": [
    "display(lg.event.unique())\n",
    "display(len(lg.event.unique()))"
   ]
  },
  {
   "cell_type": "markdown",
   "metadata": {},
   "source": [
    "Проверим сколько всего пользователей в логе"
   ]
  },
  {
   "cell_type": "code",
   "execution_count": 15,
   "metadata": {},
   "outputs": [
    {
     "data": {
      "text/plain": [
       "7551"
      ]
     },
     "metadata": {},
     "output_type": "display_data"
    }
   ],
   "source": [
    "display(len(lg.id.unique()))"
   ]
  },
  {
   "cell_type": "markdown",
   "metadata": {},
   "source": [
    "Проверим сколько в среднем событий приходится на пользователя"
   ]
  },
  {
   "cell_type": "code",
   "execution_count": 16,
   "metadata": {},
   "outputs": [
    {
     "data": {
      "text/plain": [
       "2.6744802012978415"
      ]
     },
     "execution_count": 16,
     "metadata": {},
     "output_type": "execute_result"
    }
   ],
   "source": [
    "lg.pivot_table(index='id', values='event', aggfunc='nunique').event.mean()"
   ]
  },
  {
   "cell_type": "code",
   "execution_count": 17,
   "metadata": {},
   "outputs": [
    {
     "data": {
      "text/plain": [
       "32.27559263673685"
      ]
     },
     "execution_count": 17,
     "metadata": {},
     "output_type": "execute_result"
    }
   ],
   "source": [
    "len(lg) / lg.id.nunique()"
   ]
  },
  {
   "cell_type": "markdown",
   "metadata": {},
   "source": [
    "Посмотрим за какой период дат мы распологаем\n",
    "\n"
   ]
  },
  {
   "cell_type": "code",
   "execution_count": 18,
   "metadata": {
    "scrolled": true
   },
   "outputs": [
    {
     "data": {
      "image/png": "[encoded data removed]",
      "text/plain": [
       "<Figure size 1080x360 with 1 Axes>"
      ]
     },
     "metadata": {
      "needs_background": "light"
     },
     "output_type": "display_data"
    }
   ],
   "source": [
    "plt.figure(figsize=(15,5))\n",
    "plt.title('Распределение дат активности клиентов')\n",
    "plt.xlabel('Даты')\n",
    "plt.ylabel('Количество')\n",
    "lg.date.hist(bins=50)\n",
    "plt.show()"
   ]
  },
  {
   "cell_type": "markdown",
   "metadata": {},
   "source": [
    "Как видно на графике мы видим, что активный период наблюдений начался с 2019.08.01 . До это наблюдений крайне мало"
   ]
  },
  {
   "cell_type": "markdown",
   "metadata": {},
   "source": [
    "Отбросим старые малочисленные даты, наблюдений в которых мало. Проверим на сколько это повлияет на количество всех данных"
   ]
  },
  {
   "cell_type": "code",
   "execution_count": 19,
   "metadata": {},
   "outputs": [
    {
     "name": "stdout",
     "output_type": "stream",
     "text": [
      "243713\n",
      "240887\n"
     ]
    }
   ],
   "source": [
    "print(len(lg))\n",
    "old = lg\n",
    "lg = lg.query('date >= \"2019-08-01\"')\n",
    "print(len(lg))"
   ]
  },
  {
   "cell_type": "code",
   "execution_count": 20,
   "metadata": {},
   "outputs": [
    {
     "data": {
      "image/png": "[encoded data removed]",
      "text/plain": [
       "<Figure size 1080x360 with 1 Axes>"
      ]
     },
     "metadata": {
      "needs_background": "light"
     },
     "output_type": "display_data"
    }
   ],
   "source": [
    "plt.figure(figsize=(15,5))\n",
    "plt.title('Распределение дат активности клиентов')\n",
    "plt.xlabel('Даты')\n",
    "plt.ylabel('Количество')\n",
    "lg.date.hist(bins=50)\n",
    "plt.show()"
   ]
  },
  {
   "cell_type": "markdown",
   "metadata": {},
   "source": [
    "Распределение дат теперь выглядит корректно, потерю данных можно назвать несущественной"
   ]
  },
  {
   "cell_type": "code",
   "execution_count": 21,
   "metadata": {
    "scrolled": true
   },
   "outputs": [
    {
     "data": {
      "image/png": "[encoded data removed]",
      "text/plain": [
       "<Figure size 432x288 with 1 Axes>"
      ]
     },
     "metadata": {
      "needs_background": "light"
     },
     "output_type": "display_data"
    }
   ],
   "source": [
    "lg.group.hist()\n",
    "plt.title('Количество наблюдаемых событий по каждой группе')\n",
    "plt.show()"
   ]
  },
  {
   "cell_type": "markdown",
   "metadata": {},
   "source": [
    "Пользователи по каждой группе сохранились в достаточном (почти в равном) количестве"
   ]
  },
  {
   "cell_type": "markdown",
   "metadata": {},
   "source": [
    "Посчитаем изменение в пользователях"
   ]
  },
  {
   "cell_type": "code",
   "execution_count": 22,
   "metadata": {},
   "outputs": [
    {
     "name": "stdout",
     "output_type": "stream",
     "text": [
      "Абсолютное изменение в пользователях\n"
     ]
    },
    {
     "data": {
      "text/plain": [
       "1.0022564374834086"
      ]
     },
     "metadata": {},
     "output_type": "display_data"
    },
    {
     "name": "stdout",
     "output_type": "stream",
     "text": [
      "Относительное изменение в пользователях\n"
     ]
    },
    {
     "data": {
      "text/plain": [
       "0.0022513574361011784"
      ]
     },
     "metadata": {},
     "output_type": "display_data"
    },
    {
     "name": "stdout",
     "output_type": "stream",
     "text": [
      "Абсолютное изменение в событиях\n"
     ]
    },
    {
     "data": {
      "text/plain": [
       "1.0117316418071545"
      ]
     },
     "metadata": {},
     "output_type": "display_data"
    },
    {
     "name": "stdout",
     "output_type": "stream",
     "text": [
      "Относительное изменение в собятиях\n"
     ]
    },
    {
     "data": {
      "text/plain": [
       "0.011595606307418972"
      ]
     },
     "metadata": {},
     "output_type": "display_data"
    }
   ],
   "source": [
    "print('Абсолютное изменение в пользователях')\n",
    "display(old.id.nunique() / lg.id.nunique())\n",
    "\n",
    "\n",
    "print('Относительное изменение в пользователях')\n",
    "display((old.id.nunique() - lg.id.nunique()) /  old.id.nunique())\n",
    "\n",
    "print('Абсолютное изменение в событиях')\n",
    "display(len(old) / len(lg))\n",
    "\n",
    "\n",
    "print('Относительное изменение в собятиях')\n",
    "display((len(old) - len(lg)) /  len(old))"
   ]
  },
  {
   "cell_type": "code",
   "execution_count": 23,
   "metadata": {},
   "outputs": [
    {
     "data": {
      "text/html": [
       "<div>\n",
       "<style scoped>\n",
       "    .dataframe tbody tr th:only-of-type {\n",
       "        vertical-align: middle;\n",
       "    }\n",
       "\n",
       "    .dataframe tbody tr th {\n",
       "        vertical-align: top;\n",
       "    }\n",
       "\n",
       "    .dataframe thead th {\n",
       "        text-align: right;\n",
       "    }\n",
       "</style>\n",
       "<table border=\"1\" class=\"dataframe\">\n",
       "  <thead>\n",
       "    <tr style=\"text-align: right;\">\n",
       "      <th></th>\n",
       "      <th>event</th>\n",
       "      <th>absolut_change_uniq_users</th>\n",
       "      <th>relative_change_uniq_users</th>\n",
       "      <th>absolut_change_all_events</th>\n",
       "      <th>relative_change_all_events</th>\n",
       "    </tr>\n",
       "  </thead>\n",
       "  <tbody>\n",
       "    <tr>\n",
       "      <th>0</th>\n",
       "      <td>CartScreenAppear</td>\n",
       "      <td>1.004017</td>\n",
       "      <td>0.004001</td>\n",
       "      <td>1.008628</td>\n",
       "      <td>0.008554</td>\n",
       "    </tr>\n",
       "    <tr>\n",
       "      <th>1</th>\n",
       "      <td>MainScreenAppear</td>\n",
       "      <td>1.002696</td>\n",
       "      <td>0.002689</td>\n",
       "      <td>1.015111</td>\n",
       "      <td>0.014887</td>\n",
       "    </tr>\n",
       "    <tr>\n",
       "      <th>2</th>\n",
       "      <td>OffersScreenAppear</td>\n",
       "      <td>1.004354</td>\n",
       "      <td>0.004336</td>\n",
       "      <td>1.010252</td>\n",
       "      <td>0.010148</td>\n",
       "    </tr>\n",
       "    <tr>\n",
       "      <th>3</th>\n",
       "      <td>PaymentScreenSuccessful</td>\n",
       "      <td>1.002261</td>\n",
       "      <td>0.002255</td>\n",
       "      <td>1.005897</td>\n",
       "      <td>0.005862</td>\n",
       "    </tr>\n",
       "    <tr>\n",
       "      <th>4</th>\n",
       "      <td>Tutorial</td>\n",
       "      <td>1.008333</td>\n",
       "      <td>0.008264</td>\n",
       "      <td>1.012935</td>\n",
       "      <td>0.012770</td>\n",
       "    </tr>\n",
       "  </tbody>\n",
       "</table>\n",
       "</div>"
      ],
      "text/plain": [
       "                     event  absolut_change_uniq_users  \\\n",
       "0         CartScreenAppear                   1.004017   \n",
       "1         MainScreenAppear                   1.002696   \n",
       "2       OffersScreenAppear                   1.004354   \n",
       "3  PaymentScreenSuccessful                   1.002261   \n",
       "4                 Tutorial                   1.008333   \n",
       "\n",
       "   relative_change_uniq_users  absolut_change_all_events  \\\n",
       "0                    0.004001                   1.008628   \n",
       "1                    0.002689                   1.015111   \n",
       "2                    0.004336                   1.010252   \n",
       "3                    0.002255                   1.005897   \n",
       "4                    0.008264                   1.012935   \n",
       "\n",
       "   relative_change_all_events  \n",
       "0                    0.008554  \n",
       "1                    0.014887  \n",
       "2                    0.010148  \n",
       "3                    0.005862  \n",
       "4                    0.012770  "
      ]
     },
     "metadata": {},
     "output_type": "display_data"
    }
   ],
   "source": [
    "first = old.groupby('event').agg({'id': 'nunique', 'group': 'count'}).reset_index()\n",
    "second = lg.groupby('event').agg({'id': 'nunique', 'group': 'count'}).reset_index()\n",
    "third = first.merge(second, on='event')\n",
    "third['absolut_change_uniq_users'] = third.id_x / third.id_y\n",
    "third['relative_change_uniq_users'] = (third.id_x - third.id_y) / third.id_x\n",
    "third['absolut_change_all_events'] = third.group_x / third.group_y\n",
    "third['relative_change_all_events'] = (third.group_x - third.group_y) / third.group_x\n",
    "display(third[['event','absolut_change_uniq_users','relative_change_uniq_users','absolut_change_all_events','relative_change_all_events']])"
   ]
  },
  {
   "cell_type": "markdown",
   "metadata": {},
   "source": [
    "## Изучим воронку событий"
   ]
  },
  {
   "cell_type": "markdown",
   "metadata": {},
   "source": [
    "Посмотрим, какие события есть в логах, как часто они встречаются. Отсортируем события по частоте."
   ]
  },
  {
   "cell_type": "code",
   "execution_count": 24,
   "metadata": {
    "scrolled": false
   },
   "outputs": [
    {
     "data": {
      "text/html": [
       "<div>\n",
       "<style scoped>\n",
       "    .dataframe tbody tr th:only-of-type {\n",
       "        vertical-align: middle;\n",
       "    }\n",
       "\n",
       "    .dataframe tbody tr th {\n",
       "        vertical-align: top;\n",
       "    }\n",
       "\n",
       "    .dataframe thead th {\n",
       "        text-align: right;\n",
       "    }\n",
       "</style>\n",
       "<table border=\"1\" class=\"dataframe\">\n",
       "  <thead>\n",
       "    <tr style=\"text-align: right;\">\n",
       "      <th></th>\n",
       "      <th>event</th>\n",
       "      <th>id</th>\n",
       "    </tr>\n",
       "  </thead>\n",
       "  <tbody>\n",
       "    <tr>\n",
       "      <th>0</th>\n",
       "      <td>MainScreenAppear</td>\n",
       "      <td>117328</td>\n",
       "    </tr>\n",
       "    <tr>\n",
       "      <th>1</th>\n",
       "      <td>OffersScreenAppear</td>\n",
       "      <td>46333</td>\n",
       "    </tr>\n",
       "    <tr>\n",
       "      <th>2</th>\n",
       "      <td>CartScreenAppear</td>\n",
       "      <td>42303</td>\n",
       "    </tr>\n",
       "    <tr>\n",
       "      <th>3</th>\n",
       "      <td>PaymentScreenSuccessful</td>\n",
       "      <td>33918</td>\n",
       "    </tr>\n",
       "    <tr>\n",
       "      <th>4</th>\n",
       "      <td>Tutorial</td>\n",
       "      <td>1005</td>\n",
       "    </tr>\n",
       "  </tbody>\n",
       "</table>\n",
       "</div>"
      ],
      "text/plain": [
       "                     event      id\n",
       "0         MainScreenAppear  117328\n",
       "1       OffersScreenAppear   46333\n",
       "2         CartScreenAppear   42303\n",
       "3  PaymentScreenSuccessful   33918\n",
       "4                 Tutorial    1005"
      ]
     },
     "metadata": {},
     "output_type": "display_data"
    },
    {
     "data": {
      "image/png": "[encoded data removed]",
      "text/plain": [
       "<Figure size 1080x360 with 1 Axes>"
      ]
     },
     "metadata": {
      "needs_background": "light"
     },
     "output_type": "display_data"
    }
   ],
   "source": [
    "event_count = lg.pivot_table(index='event', values='id', aggfunc='count').sort_values(by='id', ascending=False).reset_index()\n",
    "display(event_count)\n",
    "plt.figure(figsize=(15,5))\n",
    "plt.title('Распределение событий')\n",
    "plt.bar(event_count.event, event_count.id)\n",
    "plt.show()"
   ]
  },
  {
   "cell_type": "markdown",
   "metadata": {},
   "source": [
    "Большинство количество событий MainScreenAppear (показ главного экрана), котороый сильно опережает все остальные, самый низкий показатель у события Tutorial, который намного ниже остальных"
   ]
  },
  {
   "cell_type": "markdown",
   "metadata": {},
   "source": [
    "Мы так же видим что порядок у событий следующий:\n",
    "1. MainScreenAppear\n",
    "2. OffersScreenAppear\n",
    "3. CartScreenAppear\n",
    "4. PaymentScreenSuccessful\n",
    "5. Tutorial"
   ]
  },
  {
   "cell_type": "markdown",
   "metadata": {},
   "source": [
    "Посчитаем, сколько пользователей совершали каждое из этих событий. Отсортируем события по числу пользователей. Посчитайте долю пользователей, которые хоть раз совершали событие"
   ]
  },
  {
   "cell_type": "code",
   "execution_count": 25,
   "metadata": {},
   "outputs": [
    {
     "data": {
      "text/html": [
       "<div>\n",
       "<style scoped>\n",
       "    .dataframe tbody tr th:only-of-type {\n",
       "        vertical-align: middle;\n",
       "    }\n",
       "\n",
       "    .dataframe tbody tr th {\n",
       "        vertical-align: top;\n",
       "    }\n",
       "\n",
       "    .dataframe thead th {\n",
       "        text-align: right;\n",
       "    }\n",
       "</style>\n",
       "<table border=\"1\" class=\"dataframe\">\n",
       "  <thead>\n",
       "    <tr style=\"text-align: right;\">\n",
       "      <th></th>\n",
       "      <th>event</th>\n",
       "      <th>id</th>\n",
       "      <th>percent</th>\n",
       "    </tr>\n",
       "  </thead>\n",
       "  <tbody>\n",
       "    <tr>\n",
       "      <th>1</th>\n",
       "      <td>MainScreenAppear</td>\n",
       "      <td>7419</td>\n",
       "      <td>98.47</td>\n",
       "    </tr>\n",
       "    <tr>\n",
       "      <th>2</th>\n",
       "      <td>OffersScreenAppear</td>\n",
       "      <td>4593</td>\n",
       "      <td>60.96</td>\n",
       "    </tr>\n",
       "    <tr>\n",
       "      <th>0</th>\n",
       "      <td>CartScreenAppear</td>\n",
       "      <td>3734</td>\n",
       "      <td>49.56</td>\n",
       "    </tr>\n",
       "    <tr>\n",
       "      <th>3</th>\n",
       "      <td>PaymentScreenSuccessful</td>\n",
       "      <td>3539</td>\n",
       "      <td>46.97</td>\n",
       "    </tr>\n",
       "    <tr>\n",
       "      <th>4</th>\n",
       "      <td>Tutorial</td>\n",
       "      <td>840</td>\n",
       "      <td>11.15</td>\n",
       "    </tr>\n",
       "  </tbody>\n",
       "</table>\n",
       "</div>"
      ],
      "text/plain": [
       "                     event    id percent\n",
       "1         MainScreenAppear  7419   98.47\n",
       "2       OffersScreenAppear  4593   60.96\n",
       "0         CartScreenAppear  3734   49.56\n",
       "3  PaymentScreenSuccessful  3539   46.97\n",
       "4                 Tutorial   840   11.15"
      ]
     },
     "execution_count": 25,
     "metadata": {},
     "output_type": "execute_result"
    }
   ],
   "source": [
    "event_idcount = lg.groupby('event', as_index=False).agg({'id' : 'nunique'}).sort_values(by='id',ascending=False)\n",
    "# event_idcount['']\n",
    "event_idcount['percent'] = list(map(lambda x: f'{x:.2f}', (event_idcount.id/lg.id.nunique())*100))\n",
    "event_idcount"
   ]
  },
  {
   "cell_type": "code",
   "execution_count": 26,
   "metadata": {},
   "outputs": [
    {
     "data": {
      "text/html": [
       "<div>\n",
       "<style scoped>\n",
       "    .dataframe tbody tr th:only-of-type {\n",
       "        vertical-align: middle;\n",
       "    }\n",
       "\n",
       "    .dataframe tbody tr th {\n",
       "        vertical-align: top;\n",
       "    }\n",
       "\n",
       "    .dataframe thead th {\n",
       "        text-align: right;\n",
       "    }\n",
       "</style>\n",
       "<table border=\"1\" class=\"dataframe\">\n",
       "  <thead>\n",
       "    <tr style=\"text-align: right;\">\n",
       "      <th></th>\n",
       "      <th>Событие</th>\n",
       "      <th>Пользователи</th>\n",
       "      <th>Процент</th>\n",
       "    </tr>\n",
       "  </thead>\n",
       "  <tbody>\n",
       "    <tr>\n",
       "      <th>0</th>\n",
       "      <td>MainScreenAppear</td>\n",
       "      <td>2717</td>\n",
       "      <td>36.06</td>\n",
       "    </tr>\n",
       "    <tr>\n",
       "      <th>1</th>\n",
       "      <td>OffersScreenAppear</td>\n",
       "      <td>1004</td>\n",
       "      <td>13.33</td>\n",
       "    </tr>\n",
       "    <tr>\n",
       "      <th>2</th>\n",
       "      <td>CartScreenAppear</td>\n",
       "      <td>318</td>\n",
       "      <td>4.22</td>\n",
       "    </tr>\n",
       "    <tr>\n",
       "      <th>3</th>\n",
       "      <td>PaymentScreenSuccessful</td>\n",
       "      <td>3029</td>\n",
       "      <td>40.20</td>\n",
       "    </tr>\n",
       "    <tr>\n",
       "      <th>4</th>\n",
       "      <td>Tutorial</td>\n",
       "      <td>466</td>\n",
       "      <td>6.19</td>\n",
       "    </tr>\n",
       "  </tbody>\n",
       "</table>\n",
       "</div>"
      ],
      "text/plain": [
       "                   Событие  Пользователи  Процент\n",
       "0         MainScreenAppear          2717    36.06\n",
       "1       OffersScreenAppear          1004    13.33\n",
       "2         CartScreenAppear           318     4.22\n",
       "3  PaymentScreenSuccessful          3029    40.20\n",
       "4                 Tutorial           466     6.19"
      ]
     },
     "execution_count": 26,
     "metadata": {},
     "output_type": "execute_result"
    }
   ],
   "source": [
    "only_event = lg.pivot_table(index='id', values='event', aggfunc='nunique').reset_index()\\\n",
    ".pivot_table(index='event', values='id', aggfunc='count').reset_index()\n",
    "only_event['percent'] = list(map(lambda x: float(f'{x:.2f}'), (only_event.id/only_event.id.sum())*100))\n",
    "only_event.columns = ['Событие', 'Пользователи', 'Процент']\n",
    "only_event['Событие'] = only_event['Событие'] - 1\n",
    "only_event['Событие'] = only_event['Событие'].map(dict(map(lambda x: list(x) , enumerate(event_count.event))))\n",
    "only_event"
   ]
  },
  {
   "cell_type": "code",
   "execution_count": 27,
   "metadata": {},
   "outputs": [
    {
     "data": {
      "image/png": "[encoded data removed]",
      "text/plain": [
       "<Figure size 1080x360 with 1 Axes>"
      ]
     },
     "metadata": {
      "needs_background": "light"
     },
     "output_type": "display_data"
    }
   ],
   "source": [
    "plt.figure(figsize=(15,5))\n",
    "plt.title('Событие до которого дошли пользователи')\n",
    "plt.ylabel('Процент пользователей')\n",
    "plt.bar(only_event['Событие'], only_event['Процент'])\n",
    "plt.show()"
   ]
  },
  {
   "cell_type": "markdown",
   "metadata": {},
   "source": [
    "Как мы видим на средних этапах OffersScreenAppear и CartScreenAppear зависает малое количество пользователей, большинство пользователей остаётся на этапе MainScreenAppear и PaymentScreenSuccessful (не продвигаясь дальше). До последнего события дошло только 6% пользователе, хотя ещё на предыдущем событиии было 40%."
   ]
  },
  {
   "cell_type": "markdown",
   "metadata": {},
   "source": [
    "Посчитаем, какая доля пользователей проходит на следующий шаг воронки"
   ]
  },
  {
   "cell_type": "code",
   "execution_count": 28,
   "metadata": {},
   "outputs": [
    {
     "data": {
      "text/html": [
       "<div>\n",
       "<style scoped>\n",
       "    .dataframe tbody tr th:only-of-type {\n",
       "        vertical-align: middle;\n",
       "    }\n",
       "\n",
       "    .dataframe tbody tr th {\n",
       "        vertical-align: top;\n",
       "    }\n",
       "\n",
       "    .dataframe thead th {\n",
       "        text-align: right;\n",
       "    }\n",
       "</style>\n",
       "<table border=\"1\" class=\"dataframe\">\n",
       "  <thead>\n",
       "    <tr style=\"text-align: right;\">\n",
       "      <th></th>\n",
       "      <th>event</th>\n",
       "      <th>id</th>\n",
       "      <th>percent</th>\n",
       "      <th>switch</th>\n",
       "    </tr>\n",
       "  </thead>\n",
       "  <tbody>\n",
       "    <tr>\n",
       "      <th>1</th>\n",
       "      <td>MainScreenAppear</td>\n",
       "      <td>7419</td>\n",
       "      <td>98.47</td>\n",
       "      <td>0.00</td>\n",
       "    </tr>\n",
       "    <tr>\n",
       "      <th>2</th>\n",
       "      <td>OffersScreenAppear</td>\n",
       "      <td>4593</td>\n",
       "      <td>60.96</td>\n",
       "      <td>61.91</td>\n",
       "    </tr>\n",
       "    <tr>\n",
       "      <th>0</th>\n",
       "      <td>CartScreenAppear</td>\n",
       "      <td>3734</td>\n",
       "      <td>49.56</td>\n",
       "      <td>81.30</td>\n",
       "    </tr>\n",
       "    <tr>\n",
       "      <th>3</th>\n",
       "      <td>PaymentScreenSuccessful</td>\n",
       "      <td>3539</td>\n",
       "      <td>46.97</td>\n",
       "      <td>94.78</td>\n",
       "    </tr>\n",
       "    <tr>\n",
       "      <th>4</th>\n",
       "      <td>Tutorial</td>\n",
       "      <td>840</td>\n",
       "      <td>11.15</td>\n",
       "      <td>23.74</td>\n",
       "    </tr>\n",
       "  </tbody>\n",
       "</table>\n",
       "</div>"
      ],
      "text/plain": [
       "                     event    id percent  switch\n",
       "1         MainScreenAppear  7419   98.47    0.00\n",
       "2       OffersScreenAppear  4593   60.96   61.91\n",
       "0         CartScreenAppear  3734   49.56   81.30\n",
       "3  PaymentScreenSuccessful  3539   46.97   94.78\n",
       "4                 Tutorial   840   11.15   23.74"
      ]
     },
     "execution_count": 28,
     "metadata": {},
     "output_type": "execute_result"
    }
   ],
   "source": [
    "lost = list()\n",
    "list_users = list(event_idcount.id)\n",
    "\n",
    "for x in range(len(list_users)):\n",
    "    if x == 0:\n",
    "        lost.append(0)\n",
    "    else:\n",
    "        lost.append(float(f'{(list_users[x]/list_users[x-1])*100:.2f}'))\n",
    "event_idcount['switch'] = lost\n",
    "event_idcount"
   ]
  },
  {
   "cell_type": "code",
   "execution_count": 29,
   "metadata": {
    "scrolled": true
   },
   "outputs": [
    {
     "data": {
      "image/png": "[encoded data removed]",
      "text/plain": [
       "<Figure size 1080x360 with 1 Axes>"
      ]
     },
     "metadata": {
      "needs_background": "light"
     },
     "output_type": "display_data"
    }
   ],
   "source": [
    "plt.figure(figsize=(15,5))\n",
    "plt.ylim(0,100)\n",
    "plt.title('Процент пришедших пользователей с предыдущего этапа')\n",
    "plt.ylabel('Процент пользователей')\n",
    "plt.bar(event_idcount['event'], event_idcount['switch'])\n",
    "plt.show()"
   ]
  },
  {
   "cell_type": "markdown",
   "metadata": {},
   "source": [
    "Как мы ещё раз убедились, большинство пользователей теряется на этапе Tutorial и на этапе OffersScreenAppear"
   ]
  },
  {
   "cell_type": "markdown",
   "metadata": {},
   "source": [
    "Помсмотрим какая доля пользователей доходит с первого этапа до оплаты"
   ]
  },
  {
   "cell_type": "code",
   "execution_count": 30,
   "metadata": {},
   "outputs": [
    {
     "data": {
      "text/plain": [
       "0.47701846610055265"
      ]
     },
     "execution_count": 30,
     "metadata": {},
     "output_type": "execute_result"
    }
   ],
   "source": [
    "(event_idcount.query('event == \"PaymentScreenSuccessful\"')['id'].values / event_idcount.query('event == \"MainScreenAppear\"')['id'].values)[0]"
   ]
  },
  {
   "cell_type": "markdown",
   "metadata": {},
   "source": [
    "Почти 48 процентов пользователей, с момента открытия первой страницы доходят до оплаты заказа"
   ]
  },
  {
   "cell_type": "markdown",
   "metadata": {},
   "source": [
    "## Изучите результаты эксперимента"
   ]
  },
  {
   "cell_type": "markdown",
   "metadata": {},
   "source": [
    "Посмотрим сколько пользователей в каждой экспериментальной группе"
   ]
  },
  {
   "cell_type": "code",
   "execution_count": 31,
   "metadata": {},
   "outputs": [
    {
     "data": {
      "text/html": [
       "<div>\n",
       "<style scoped>\n",
       "    .dataframe tbody tr th:only-of-type {\n",
       "        vertical-align: middle;\n",
       "    }\n",
       "\n",
       "    .dataframe tbody tr th {\n",
       "        vertical-align: top;\n",
       "    }\n",
       "\n",
       "    .dataframe thead th {\n",
       "        text-align: right;\n",
       "    }\n",
       "</style>\n",
       "<table border=\"1\" class=\"dataframe\">\n",
       "  <thead>\n",
       "    <tr style=\"text-align: right;\">\n",
       "      <th></th>\n",
       "      <th>id</th>\n",
       "    </tr>\n",
       "    <tr>\n",
       "      <th>group</th>\n",
       "      <th></th>\n",
       "    </tr>\n",
       "  </thead>\n",
       "  <tbody>\n",
       "    <tr>\n",
       "      <th>246</th>\n",
       "      <td>2484</td>\n",
       "    </tr>\n",
       "    <tr>\n",
       "      <th>247</th>\n",
       "      <td>2513</td>\n",
       "    </tr>\n",
       "    <tr>\n",
       "      <th>248</th>\n",
       "      <td>2537</td>\n",
       "    </tr>\n",
       "  </tbody>\n",
       "</table>\n",
       "</div>"
      ],
      "text/plain": [
       "         id\n",
       "group      \n",
       "246    2484\n",
       "247    2513\n",
       "248    2537"
      ]
     },
     "execution_count": 31,
     "metadata": {},
     "output_type": "execute_result"
    }
   ],
   "source": [
    "lg.groupby('group').agg({'id':'nunique'})"
   ]
  },
  {
   "cell_type": "markdown",
   "metadata": {},
   "source": [
    "В группах примерно равное количество участников, около 2500 в каждой"
   ]
  },
  {
   "cell_type": "markdown",
   "metadata": {},
   "source": [
    "Самое важное событие будем считать покупку, для начала проведём А/А тест по каждому событию.За нулевую теорию примем то что наши группы одинаковы, за альтернативную, то что группы различны."
   ]
  },
  {
   "cell_type": "code",
   "execution_count": 32,
   "metadata": {},
   "outputs": [
    {
     "name": "stdout",
     "output_type": "stream",
     "text": [
      "0\n",
      "0\n",
      "0\n"
     ]
    }
   ],
   "source": [
    "id_246 = set(lg.query('group == 246').id.unique())\n",
    "id_247 = set(lg.query('group == 247').id.unique())\n",
    "id_248 = set(lg.query('group == 248').id.unique())\n",
    "print(len(id_246&id_247))\n",
    "print(len(id_246&id_248))\n",
    "print(len(id_247&id_248))"
   ]
  },
  {
   "cell_type": "markdown",
   "metadata": {},
   "source": [
    "Как видим у нас отсутсвуют пользователи которые состоят больше чем в 1-ой группе"
   ]
  },
  {
   "cell_type": "code",
   "execution_count": 33,
   "metadata": {},
   "outputs": [
    {
     "data": {
      "text/plain": [
       "2484"
      ]
     },
     "execution_count": 33,
     "metadata": {},
     "output_type": "execute_result"
    }
   ],
   "source": [
    "len(id_246 & set(lg.id.unique()))"
   ]
  },
  {
   "cell_type": "code",
   "execution_count": 34,
   "metadata": {},
   "outputs": [],
   "source": [
    "events = event_count.event.unique()"
   ]
  },
  {
   "cell_type": "code",
   "execution_count": 35,
   "metadata": {
    "scrolled": false
   },
   "outputs": [
    {
     "data": {
      "text/html": [
       "<div>\n",
       "<style scoped>\n",
       "    .dataframe tbody tr th:only-of-type {\n",
       "        vertical-align: middle;\n",
       "    }\n",
       "\n",
       "    .dataframe tbody tr th {\n",
       "        vertical-align: top;\n",
       "    }\n",
       "\n",
       "    .dataframe thead th {\n",
       "        text-align: right;\n",
       "    }\n",
       "</style>\n",
       "<table border=\"1\" class=\"dataframe\">\n",
       "  <thead>\n",
       "    <tr style=\"text-align: right;\">\n",
       "      <th></th>\n",
       "      <th>CartScreenAppear</th>\n",
       "      <th>MainScreenAppear</th>\n",
       "      <th>OffersScreenAppear</th>\n",
       "      <th>PaymentScreenSuccessful</th>\n",
       "      <th>Tutorial</th>\n",
       "    </tr>\n",
       "  </thead>\n",
       "  <tbody>\n",
       "    <tr>\n",
       "      <th>246</th>\n",
       "      <td>1266</td>\n",
       "      <td>2450</td>\n",
       "      <td>1542</td>\n",
       "      <td>1200</td>\n",
       "      <td>278</td>\n",
       "    </tr>\n",
       "    <tr>\n",
       "      <th>247</th>\n",
       "      <td>1238</td>\n",
       "      <td>2476</td>\n",
       "      <td>1520</td>\n",
       "      <td>1158</td>\n",
       "      <td>283</td>\n",
       "    </tr>\n",
       "    <tr>\n",
       "      <th>248</th>\n",
       "      <td>1230</td>\n",
       "      <td>2493</td>\n",
       "      <td>1531</td>\n",
       "      <td>1181</td>\n",
       "      <td>279</td>\n",
       "    </tr>\n",
       "    <tr>\n",
       "      <th>249</th>\n",
       "      <td>2504</td>\n",
       "      <td>4926</td>\n",
       "      <td>3062</td>\n",
       "      <td>2358</td>\n",
       "      <td>561</td>\n",
       "    </tr>\n",
       "  </tbody>\n",
       "</table>\n",
       "</div>"
      ],
      "text/plain": [
       "     CartScreenAppear  MainScreenAppear  OffersScreenAppear  \\\n",
       "246              1266              2450                1542   \n",
       "247              1238              2476                1520   \n",
       "248              1230              2493                1531   \n",
       "249              2504              4926                3062   \n",
       "\n",
       "     PaymentScreenSuccessful  Tutorial  \n",
       "246                     1200       278  \n",
       "247                     1158       283  \n",
       "248                     1181       279  \n",
       "249                     2358       561  "
      ]
     },
     "execution_count": 35,
     "metadata": {},
     "output_type": "execute_result"
    }
   ],
   "source": [
    "event_table = lg.pivot_table(index='group', columns='event', values='id', aggfunc='nunique')\n",
    "\n",
    "aa = dict() # Сделаем ещё одну группу которая будет суммой из группы 246 и 247, назовём её группу 249\n",
    "for x in range(5):\n",
    "    f = event_table.loc[246, event_table.columns[x]]\n",
    "    s = event_table.loc[247, event_table.columns[x]]\n",
    "    aa[event_table.columns[x]] = s + f\n",
    "event_table = event_table.append(aa, ignore_index=True)\n",
    "event_table.index = (list(range(246,250)))\n",
    "event_table"
   ]
  },
  {
   "cell_type": "code",
   "execution_count": 36,
   "metadata": {},
   "outputs": [
    {
     "data": {
      "text/html": [
       "<div>\n",
       "<style scoped>\n",
       "    .dataframe tbody tr th:only-of-type {\n",
       "        vertical-align: middle;\n",
       "    }\n",
       "\n",
       "    .dataframe tbody tr th {\n",
       "        vertical-align: top;\n",
       "    }\n",
       "\n",
       "    .dataframe thead th {\n",
       "        text-align: right;\n",
       "    }\n",
       "</style>\n",
       "<table border=\"1\" class=\"dataframe\">\n",
       "  <thead>\n",
       "    <tr style=\"text-align: right;\">\n",
       "      <th></th>\n",
       "      <th>id</th>\n",
       "    </tr>\n",
       "  </thead>\n",
       "  <tbody>\n",
       "    <tr>\n",
       "      <th>246</th>\n",
       "      <td>2484</td>\n",
       "    </tr>\n",
       "    <tr>\n",
       "      <th>247</th>\n",
       "      <td>2513</td>\n",
       "    </tr>\n",
       "    <tr>\n",
       "      <th>248</th>\n",
       "      <td>2537</td>\n",
       "    </tr>\n",
       "    <tr>\n",
       "      <th>249</th>\n",
       "      <td>4997</td>\n",
       "    </tr>\n",
       "  </tbody>\n",
       "</table>\n",
       "</div>"
      ],
      "text/plain": [
       "       id\n",
       "246  2484\n",
       "247  2513\n",
       "248  2537\n",
       "249  4997"
      ]
     },
     "execution_count": 36,
     "metadata": {},
     "output_type": "execute_result"
    }
   ],
   "source": [
    "# Создадим таблицу уникальных пользователей в группе\n",
    "uniq_group = lg.pivot_table(index='group', values='id', aggfunc='nunique')\n",
    "aa = dict() # Сделаем ещё одну группу которая будет суммой из группы 246 и 247, назовём её группу 249\n",
    "f = uniq_group.loc[246, 'id']\n",
    "s = uniq_group.loc[247, 'id']\n",
    "aa[uniq_group.columns[0]] = s + f\n",
    "uniq_group = uniq_group.append(aa, ignore_index=True)\n",
    "uniq_group.index = (list(range(246,250)))\n",
    "uniq_group"
   ]
  },
  {
   "cell_type": "code",
   "execution_count": 37,
   "metadata": {},
   "outputs": [],
   "source": [
    "def z_test(group_1, group_2, event):\n",
    "    alpha = .05 # критический уровень статистической значимости\n",
    "\n",
    "    successes = np.array([event_table.loc[group_1, event], event_table.loc[group_2, event]])\n",
    "    trials = np.array([uniq_group.loc[group_1, 'id'], uniq_group.loc[group_2, 'id']])\n",
    "\n",
    "    # пропорция успехов в первой группе:\n",
    "    p1 = successes[0]/trials[0]\n",
    "\n",
    "    # пропорция успехов во второй группе:\n",
    "    p2 = successes[1]/trials[1]\n",
    "\n",
    "    # пропорция успехов в комбинированном датасете:\n",
    "    p_combined = (successes[0] + successes[1]) / (trials[0] + trials[1])\n",
    "\n",
    "    # разница пропорций в датасетах\n",
    "    difference = p1 - p2 \n",
    "\n",
    "    # считаем статистику в ст.отклонениях стандартного нормального распределения\n",
    "    z_value = difference / mth.sqrt(\n",
    "        p_combined * (1 - p_combined) * (1 / trials[0] + 1 / trials[1])\n",
    "    )\n",
    "\n",
    "    # задаем стандартное нормальное распределение (среднее 0, ст.отклонение 1)\n",
    "    distr = st.norm(0, 1)\n",
    "\n",
    "    p_value = (1 - distr.cdf(abs(z_value))) * 2\n",
    "\n",
    "    print('p-значение: ', p_value)\n",
    "\n",
    "    if p_value < alpha:\n",
    "        print('Отвергаем нулевую гипотезу: между долями есть значимая разница')\n",
    "    else:\n",
    "        print(\n",
    "            'Не получилось отвергнуть нулевую гипотезу, нет оснований считать доли разными'\n",
    "        ) "
   ]
  },
  {
   "cell_type": "code",
   "execution_count": 38,
   "metadata": {},
   "outputs": [
    {
     "name": "stdout",
     "output_type": "stream",
     "text": [
      "p-значение:  0.7570597232046099\n",
      "Не получилось отвергнуть нулевую гипотезу, нет оснований считать доли разными\n"
     ]
    }
   ],
   "source": [
    "z_test(246, 247, 'MainScreenAppear')"
   ]
  },
  {
   "cell_type": "code",
   "execution_count": 39,
   "metadata": {
    "scrolled": true
   },
   "outputs": [
    {
     "name": "stdout",
     "output_type": "stream",
     "text": [
      "Тест между группами 246 и 247 по событию MainScreenAppear\n",
      "p-значение:  0.7570597232046099\n",
      "Не получилось отвергнуть нулевую гипотезу, нет оснований считать доли разными\n",
      "---------------------------------------------------\n",
      "Тест между группами 246 и 247 по событию OffersScreenAppear\n",
      "p-значение:  0.2480954578522181\n",
      "Не получилось отвергнуть нулевую гипотезу, нет оснований считать доли разными\n",
      "---------------------------------------------------\n",
      "Тест между группами 246 и 247 по событию CartScreenAppear\n",
      "p-значение:  0.22883372237997213\n",
      "Не получилось отвергнуть нулевую гипотезу, нет оснований считать доли разными\n",
      "---------------------------------------------------\n",
      "Тест между группами 246 и 247 по событию PaymentScreenSuccessful\n",
      "p-значение:  0.11456679313141849\n",
      "Не получилось отвергнуть нулевую гипотезу, нет оснований считать доли разными\n",
      "---------------------------------------------------\n",
      "Тест между группами 246 и 247 по событию Tutorial\n",
      "p-значение:  0.9376996189257114\n",
      "Не получилось отвергнуть нулевую гипотезу, нет оснований считать доли разными\n",
      "---------------------------------------------------\n"
     ]
    }
   ],
   "source": [
    "for x in range(len(events)):\n",
    "    print(f'Тест между группами 246 и 247 по событию {events[x]}')\n",
    "    z_test(246,247, events[x])\n",
    "    print('---------------------------------------------------')\n"
   ]
  },
  {
   "cell_type": "markdown",
   "metadata": {},
   "source": [
    "По результатам А/А анализа, выяснилось, что все группы 246 и 247 не имеют статистически различных значений по всем 4 событиям"
   ]
  },
  {
   "cell_type": "markdown",
   "metadata": {},
   "source": [
    "Проведём теперь А/B анализ между группами"
   ]
  },
  {
   "cell_type": "code",
   "execution_count": 40,
   "metadata": {},
   "outputs": [
    {
     "name": "stdout",
     "output_type": "stream",
     "text": [
      "Тест между группами 246 и 248 по событию MainScreenAppear\n",
      "p-значение:  0.2949721933554552\n",
      "Не получилось отвергнуть нулевую гипотезу, нет оснований считать доли разными\n",
      "---------------------------------------------------\n",
      "Тест между группами 246 и 248 по событию OffersScreenAppear\n",
      "p-значение:  0.20836205402738917\n",
      "Не получилось отвергнуть нулевую гипотезу, нет оснований считать доли разными\n",
      "---------------------------------------------------\n",
      "Тест между группами 246 и 248 по событию CartScreenAppear\n",
      "p-значение:  0.07842923237520116\n",
      "Не получилось отвергнуть нулевую гипотезу, нет оснований считать доли разными\n",
      "---------------------------------------------------\n",
      "Тест между группами 246 и 248 по событию PaymentScreenSuccessful\n",
      "p-значение:  0.2122553275697796\n",
      "Не получилось отвергнуть нулевую гипотезу, нет оснований считать доли разными\n",
      "---------------------------------------------------\n",
      "Тест между группами 246 и 248 по событию Tutorial\n",
      "p-значение:  0.8264294010087645\n",
      "Не получилось отвергнуть нулевую гипотезу, нет оснований считать доли разными\n",
      "---------------------------------------------------\n"
     ]
    }
   ],
   "source": [
    "for x in range(len(events)):\n",
    "    print(f'Тест между группами 246 и 248 по событию {events[x]}')\n",
    "    z_test(246,248, events[x])\n",
    "    print('---------------------------------------------------')\n"
   ]
  },
  {
   "cell_type": "code",
   "execution_count": 41,
   "metadata": {},
   "outputs": [
    {
     "name": "stdout",
     "output_type": "stream",
     "text": [
      "Тест между группами 247 и 248 по событию MainScreenAppear\n",
      "p-значение:  0.4587053616621515\n",
      "Не получилось отвергнуть нулевую гипотезу, нет оснований считать доли разными\n",
      "---------------------------------------------------\n",
      "Тест между группами 247 и 248 по событию OffersScreenAppear\n",
      "p-значение:  0.9197817830592261\n",
      "Не получилось отвергнуть нулевую гипотезу, нет оснований считать доли разными\n",
      "---------------------------------------------------\n",
      "Тест между группами 247 и 248 по событию CartScreenAppear\n",
      "p-значение:  0.5786197879539783\n",
      "Не получилось отвергнуть нулевую гипотезу, нет оснований считать доли разными\n",
      "---------------------------------------------------\n",
      "Тест между группами 247 и 248 по событию PaymentScreenSuccessful\n",
      "p-значение:  0.7373415053803964\n",
      "Не получилось отвергнуть нулевую гипотезу, нет оснований считать доли разными\n",
      "---------------------------------------------------\n",
      "Тест между группами 247 и 248 по событию Tutorial\n",
      "p-значение:  0.765323922474501\n",
      "Не получилось отвергнуть нулевую гипотезу, нет оснований считать доли разными\n",
      "---------------------------------------------------\n"
     ]
    }
   ],
   "source": [
    "for x in range(len(events)):\n",
    "    print(f'Тест между группами 247 и 248 по событию {events[x]}')\n",
    "    z_test(247,248, events[x])\n",
    "    print('---------------------------------------------------')\n"
   ]
  },
  {
   "cell_type": "code",
   "execution_count": 42,
   "metadata": {},
   "outputs": [
    {
     "name": "stdout",
     "output_type": "stream",
     "text": [
      "Тест между группами 249 и 248 по событию MainScreenAppear\n",
      "p-значение:  0.29424526837179577\n",
      "Не получилось отвергнуть нулевую гипотезу, нет оснований считать доли разными\n",
      "---------------------------------------------------\n",
      "Тест между группами 249 и 248 по событию OffersScreenAppear\n",
      "p-значение:  0.43425549655188256\n",
      "Не получилось отвергнуть нулевую гипотезу, нет оснований считать доли разными\n",
      "---------------------------------------------------\n",
      "Тест между группами 249 и 248 по событию CartScreenAppear\n",
      "p-значение:  0.18175875284404386\n",
      "Не получилось отвергнуть нулевую гипотезу, нет оснований считать доли разными\n",
      "---------------------------------------------------\n",
      "Тест между группами 249 и 248 по событию PaymentScreenSuccessful\n",
      "p-значение:  0.6004294282308704\n",
      "Не получилось отвергнуть нулевую гипотезу, нет оснований считать доли разными\n",
      "---------------------------------------------------\n",
      "Тест между группами 249 и 248 по событию Tutorial\n",
      "p-значение:  0.764862472531507\n",
      "Не получилось отвергнуть нулевую гипотезу, нет оснований считать доли разными\n",
      "---------------------------------------------------\n"
     ]
    }
   ],
   "source": [
    "for x in range(len(events)):\n",
    "    print(f'Тест между группами 249 и 248 по событию {events[x]}')\n",
    "    z_test(249,248, events[x])\n",
    "    print('---------------------------------------------------')\n"
   ]
  },
  {
   "cell_type": "markdown",
   "metadata": {},
   "source": [
    "По результатам A/B анализа во всех трёх случаях мы получили разницу между событиями 'MainScreenAppear', 'OffersScreenAppear'. В двух случаях получили разницу между событиями 'CartScreenAppear', 'PaymentScreenSuccessful' (но в этих двух случаях p value близко к пяти процентам).\n",
    "В итоге стоит признать признать можно отвергнуть только теорию о равенстве по событиям 'MainScreenAppear', 'OffersScreenAppear'"
   ]
  },
  {
   "cell_type": "markdown",
   "metadata": {},
   "source": [
    "Рассмотрим в положительную сторону ли произошли изменения"
   ]
  },
  {
   "cell_type": "markdown",
   "metadata": {},
   "source": [
    "А/В тест не смог опровергнуть нулевую теорию, между группами нет статистической разницы в значених"
   ]
  },
  {
   "cell_type": "markdown",
   "metadata": {},
   "source": [
    "## Вывод"
   ]
  },
  {
   "cell_type": "markdown",
   "metadata": {},
   "source": [
    "1. При первичной подготовке данных выявлено:\n",
    "Отсутсвие некорректных значений (NAN)\n",
    "Присутсвие дубликатов (удалены)\n",
    "Добавьте столбец даты и времени, а также отдельный столбец дат\n",
    "2. Активный период наблюдений начался с 2019.08.01 . До это наблюдений крайне мал\n",
    "3. Большинство количество событий MainScreenAppear (показ главного экрана), котороый сильно опережает все остальные, самый низкий показатель у события Tutorial, который намного ниже остальных Мы так же видим что порядок у событий следующий:\n",
    "MainScreenAppear\n",
    "OffersScreenAppear\n",
    "CartScreenAppear\n",
    "PaymentScreenSuccessful\n",
    "Tutorial\n",
    "4. На средних этапах OffersScreenAppear и CartScreenAppear зависает малое количество пользователей, большинство пользователей остаётся на этапе MainScreenAppear и PaymentScreenSuccessful (не продвигаясь дальше). До последнего события дошло только 6% пользователе, хотя ещё на предыдущем событиии было 40%.\n",
    "5. Почти 48 процентов пользователей, с момента открытия первой страницы доходят до оплаты заказа\n",
    "6. Исходя из А/А анализа мы видим, что статистической значимой разницы между значениями не\n",
    "7. По результатам A/B мы не получили разницу между группами, группы индентичны\n"
   ]
  }
 ],
 "metadata": {
  "ExecuteTimeLog": [
   {
    "duration": 2666,
    "start_time": "2022-05-19T09:25:25.644Z"
   },
   {
    "duration": 1800,
    "start_time": "2022-05-19T09:25:28.314Z"
   },
   {
    "duration": 190,
    "start_time": "2022-05-19T09:25:30.117Z"
   },
   {
    "duration": 0,
    "start_time": "2022-05-19T09:25:30.311Z"
   },
   {
    "duration": 0,
    "start_time": "2022-05-19T09:25:30.313Z"
   },
   {
    "duration": 0,
    "start_time": "2022-05-19T09:25:30.314Z"
   },
   {
    "duration": 0,
    "start_time": "2022-05-19T09:25:30.316Z"
   },
   {
    "duration": 0,
    "start_time": "2022-05-19T09:25:30.317Z"
   },
   {
    "duration": 0,
    "start_time": "2022-05-19T09:25:30.327Z"
   },
   {
    "duration": 23,
    "start_time": "2022-05-19T09:25:47.321Z"
   },
   {
    "duration": 753,
    "start_time": "2022-05-19T09:26:03.598Z"
   },
   {
    "duration": 11,
    "start_time": "2022-05-19T09:26:07.582Z"
   },
   {
    "duration": 325,
    "start_time": "2022-05-19T09:26:16.680Z"
   },
   {
    "duration": 7,
    "start_time": "2022-05-19T09:26:17.007Z"
   },
   {
    "duration": 4,
    "start_time": "2022-05-19T09:26:21.886Z"
   },
   {
    "duration": 9,
    "start_time": "2022-05-19T09:26:22.166Z"
   },
   {
    "duration": 159,
    "start_time": "2022-05-19T09:26:42.368Z"
   },
   {
    "duration": 9,
    "start_time": "2022-05-19T09:26:42.682Z"
   },
   {
    "duration": 31,
    "start_time": "2022-05-19T09:26:46.226Z"
   },
   {
    "duration": 4,
    "start_time": "2022-05-19T09:26:50.098Z"
   },
   {
    "duration": 12,
    "start_time": "2022-05-19T09:26:50.416Z"
   },
   {
    "duration": 9,
    "start_time": "2022-05-19T09:27:35.696Z"
   },
   {
    "duration": 19,
    "start_time": "2022-05-19T09:27:42.168Z"
   },
   {
    "duration": 8,
    "start_time": "2022-05-19T09:29:18.030Z"
   },
   {
    "duration": 13,
    "start_time": "2022-05-19T09:29:31.895Z"
   },
   {
    "duration": 3,
    "start_time": "2022-05-19T09:32:16.917Z"
   },
   {
    "duration": 7,
    "start_time": "2022-05-19T09:32:17.385Z"
   },
   {
    "duration": 110,
    "start_time": "2022-05-19T09:32:17.776Z"
   },
   {
    "duration": 6,
    "start_time": "2022-05-19T09:32:18.406Z"
   },
   {
    "duration": 27,
    "start_time": "2022-05-19T09:32:21.393Z"
   },
   {
    "duration": 72,
    "start_time": "2022-05-19T09:32:21.577Z"
   },
   {
    "duration": 14,
    "start_time": "2022-05-19T09:33:46.498Z"
   },
   {
    "duration": 58,
    "start_time": "2022-05-19T09:34:18.588Z"
   },
   {
    "duration": 75,
    "start_time": "2022-05-19T09:34:26.256Z"
   },
   {
    "duration": 290,
    "start_time": "2022-05-19T09:35:43.192Z"
   },
   {
    "duration": 5,
    "start_time": "2022-05-19T09:36:07.202Z"
   },
   {
    "duration": 84,
    "start_time": "2022-05-19T09:36:10.217Z"
   },
   {
    "duration": 82,
    "start_time": "2022-05-19T09:36:41.575Z"
   },
   {
    "duration": 156,
    "start_time": "2022-05-19T09:36:46.683Z"
   },
   {
    "duration": 2550,
    "start_time": "2022-05-19T09:38:06.024Z"
   },
   {
    "duration": 3,
    "start_time": "2022-05-19T09:38:08.577Z"
   },
   {
    "duration": 183,
    "start_time": "2022-05-19T09:38:08.582Z"
   },
   {
    "duration": 8,
    "start_time": "2022-05-19T09:38:08.767Z"
   },
   {
    "duration": 30,
    "start_time": "2022-05-19T09:38:08.777Z"
   },
   {
    "duration": 3,
    "start_time": "2022-05-19T09:38:08.809Z"
   },
   {
    "duration": 15,
    "start_time": "2022-05-19T09:38:08.814Z"
   },
   {
    "duration": 30,
    "start_time": "2022-05-19T09:38:08.831Z"
   },
   {
    "duration": 27,
    "start_time": "2022-05-19T09:38:08.862Z"
   },
   {
    "duration": 0,
    "start_time": "2022-05-19T09:38:08.891Z"
   },
   {
    "duration": 0,
    "start_time": "2022-05-19T09:38:08.893Z"
   },
   {
    "duration": 0,
    "start_time": "2022-05-19T09:38:08.894Z"
   },
   {
    "duration": 0,
    "start_time": "2022-05-19T09:38:08.896Z"
   },
   {
    "duration": 0,
    "start_time": "2022-05-19T09:38:08.898Z"
   },
   {
    "duration": 5,
    "start_time": "2022-05-19T09:38:18.348Z"
   },
   {
    "duration": 20,
    "start_time": "2022-05-19T09:38:19.383Z"
   },
   {
    "duration": 76,
    "start_time": "2022-05-19T09:38:19.575Z"
   },
   {
    "duration": 81,
    "start_time": "2022-05-19T09:38:19.772Z"
   },
   {
    "duration": 136,
    "start_time": "2022-05-19T09:38:19.987Z"
   },
   {
    "duration": 113,
    "start_time": "2022-05-19T09:39:22.302Z"
   },
   {
    "duration": 106,
    "start_time": "2022-05-19T09:39:40.273Z"
   },
   {
    "duration": 115,
    "start_time": "2022-05-19T09:42:13.890Z"
   },
   {
    "duration": 133,
    "start_time": "2022-05-19T09:42:22.549Z"
   },
   {
    "duration": 146,
    "start_time": "2022-05-19T09:42:37.597Z"
   },
   {
    "duration": 106,
    "start_time": "2022-05-19T09:42:42.692Z"
   },
   {
    "duration": 125,
    "start_time": "2022-05-19T09:43:33.551Z"
   },
   {
    "duration": 129,
    "start_time": "2022-05-19T09:43:43.557Z"
   },
   {
    "duration": 82,
    "start_time": "2022-05-19T09:43:52.843Z"
   },
   {
    "duration": 197,
    "start_time": "2022-05-19T09:44:08.415Z"
   },
   {
    "duration": 227,
    "start_time": "2022-05-19T09:47:43.334Z"
   },
   {
    "duration": 32,
    "start_time": "2022-05-19T09:52:58.054Z"
   },
   {
    "duration": 59,
    "start_time": "2022-05-19T09:53:27.525Z"
   },
   {
    "duration": 41,
    "start_time": "2022-05-19T09:53:39.763Z"
   },
   {
    "duration": 6,
    "start_time": "2022-05-19T09:54:51.607Z"
   },
   {
    "duration": 128,
    "start_time": "2022-05-19T09:58:25.232Z"
   },
   {
    "duration": 101,
    "start_time": "2022-05-19T09:59:00.017Z"
   },
   {
    "duration": 1276,
    "start_time": "2022-05-19T10:01:29.850Z"
   },
   {
    "duration": 15,
    "start_time": "2022-05-19T10:02:22.214Z"
   },
   {
    "duration": 498,
    "start_time": "2022-05-19T10:02:28.281Z"
   },
   {
    "duration": 592,
    "start_time": "2022-05-19T10:02:39.168Z"
   },
   {
    "duration": 539,
    "start_time": "2022-05-19T10:02:47.248Z"
   },
   {
    "duration": 767,
    "start_time": "2022-05-19T10:02:57.779Z"
   },
   {
    "duration": 1405,
    "start_time": "2022-05-19T10:03:15.582Z"
   },
   {
    "duration": 573,
    "start_time": "2022-05-19T10:03:22.767Z"
   },
   {
    "duration": 554,
    "start_time": "2022-05-19T10:03:42.601Z"
   },
   {
    "duration": 583,
    "start_time": "2022-05-19T10:03:59.214Z"
   },
   {
    "duration": 21,
    "start_time": "2022-05-19T10:04:24.621Z"
   },
   {
    "duration": 729,
    "start_time": "2022-05-19T10:04:57.562Z"
   },
   {
    "duration": 588,
    "start_time": "2022-05-19T10:06:13.593Z"
   },
   {
    "duration": 31,
    "start_time": "2022-05-19T10:10:35.983Z"
   },
   {
    "duration": 414,
    "start_time": "2022-05-19T10:12:12.377Z"
   },
   {
    "duration": 4,
    "start_time": "2022-05-19T10:12:47.871Z"
   },
   {
    "duration": 52,
    "start_time": "2022-05-19T10:12:54.228Z"
   },
   {
    "duration": 913,
    "start_time": "2022-05-19T10:15:22.190Z"
   },
   {
    "duration": 229,
    "start_time": "2022-05-19T10:15:40.264Z"
   },
   {
    "duration": 301,
    "start_time": "2022-05-19T10:15:45.192Z"
   },
   {
    "duration": 29,
    "start_time": "2022-05-19T10:15:59.596Z"
   },
   {
    "duration": 244,
    "start_time": "2022-05-19T10:16:10.411Z"
   },
   {
    "duration": 278,
    "start_time": "2022-05-19T10:16:19.030Z"
   },
   {
    "duration": 37,
    "start_time": "2022-05-19T10:16:32.118Z"
   },
   {
    "duration": 319,
    "start_time": "2022-05-19T10:16:59.503Z"
   },
   {
    "duration": 16,
    "start_time": "2022-05-19T10:18:34.521Z"
   },
   {
    "duration": 298,
    "start_time": "2022-05-19T10:18:45.067Z"
   },
   {
    "duration": 214,
    "start_time": "2022-05-19T10:19:06.744Z"
   },
   {
    "duration": 221,
    "start_time": "2022-05-19T10:19:45.275Z"
   },
   {
    "duration": 207,
    "start_time": "2022-05-19T10:20:47.882Z"
   },
   {
    "duration": 76,
    "start_time": "2022-05-19T10:23:44.125Z"
   },
   {
    "duration": 5,
    "start_time": "2022-05-19T10:24:00.969Z"
   },
   {
    "duration": 38,
    "start_time": "2022-05-19T10:25:13.570Z"
   },
   {
    "duration": 40,
    "start_time": "2022-05-19T10:26:14.254Z"
   },
   {
    "duration": 83,
    "start_time": "2022-05-19T10:29:48.870Z"
   },
   {
    "duration": 73,
    "start_time": "2022-05-19T10:30:14.446Z"
   },
   {
    "duration": 94,
    "start_time": "2022-05-19T10:30:21.898Z"
   },
   {
    "duration": 105,
    "start_time": "2022-05-19T10:30:26.514Z"
   },
   {
    "duration": 48,
    "start_time": "2022-05-19T10:33:24.464Z"
   },
   {
    "duration": 81,
    "start_time": "2022-05-19T10:33:30.080Z"
   },
   {
    "duration": 50,
    "start_time": "2022-05-19T10:33:43.671Z"
   },
   {
    "duration": 232,
    "start_time": "2022-05-19T10:34:26.860Z"
   },
   {
    "duration": 221,
    "start_time": "2022-05-19T10:35:11.017Z"
   },
   {
    "duration": 339,
    "start_time": "2022-05-19T10:36:05.974Z"
   },
   {
    "duration": 229,
    "start_time": "2022-05-19T10:36:16.515Z"
   },
   {
    "duration": 101,
    "start_time": "2022-05-19T10:59:18.110Z"
   },
   {
    "duration": 84,
    "start_time": "2022-05-19T10:59:54.016Z"
   },
   {
    "duration": 79,
    "start_time": "2022-05-19T11:00:01.392Z"
   },
   {
    "duration": 81,
    "start_time": "2022-05-19T11:00:38.277Z"
   },
   {
    "duration": 1298,
    "start_time": "2022-05-19T11:07:02.811Z"
   },
   {
    "duration": 35,
    "start_time": "2022-05-19T11:07:10.548Z"
   },
   {
    "duration": 42,
    "start_time": "2022-05-19T11:07:15.830Z"
   },
   {
    "duration": 86,
    "start_time": "2022-05-19T11:07:26.484Z"
   },
   {
    "duration": 47,
    "start_time": "2022-05-19T11:08:57.608Z"
   },
   {
    "duration": 52,
    "start_time": "2022-05-19T11:09:03.473Z"
   },
   {
    "duration": 100,
    "start_time": "2022-05-19T11:09:17.307Z"
   },
   {
    "duration": 43,
    "start_time": "2022-05-19T11:09:51.446Z"
   },
   {
    "duration": 105,
    "start_time": "2022-05-19T11:10:00.350Z"
   },
   {
    "duration": 105,
    "start_time": "2022-05-19T11:10:37.984Z"
   },
   {
    "duration": 109,
    "start_time": "2022-05-19T11:10:43.877Z"
   },
   {
    "duration": 64,
    "start_time": "2022-05-19T11:12:21.128Z"
   },
   {
    "duration": 113,
    "start_time": "2022-05-19T11:12:25.001Z"
   },
   {
    "duration": 106,
    "start_time": "2022-05-19T11:12:42.378Z"
   },
   {
    "duration": 111,
    "start_time": "2022-05-19T11:12:53.855Z"
   },
   {
    "duration": 63,
    "start_time": "2022-05-19T11:13:01.863Z"
   },
   {
    "duration": 108,
    "start_time": "2022-05-19T11:13:25.886Z"
   },
   {
    "duration": 120,
    "start_time": "2022-05-19T11:17:24.862Z"
   },
   {
    "duration": 118,
    "start_time": "2022-05-19T11:17:43.056Z"
   },
   {
    "duration": 86,
    "start_time": "2022-05-19T11:18:11.570Z"
   },
   {
    "duration": 122,
    "start_time": "2022-05-19T11:18:20.067Z"
   },
   {
    "duration": 107,
    "start_time": "2022-05-19T11:18:28.927Z"
   },
   {
    "duration": 111,
    "start_time": "2022-05-19T11:18:45.596Z"
   },
   {
    "duration": 125,
    "start_time": "2022-05-19T11:21:22.163Z"
   },
   {
    "duration": 154,
    "start_time": "2022-05-19T11:21:27.305Z"
   },
   {
    "duration": 119,
    "start_time": "2022-05-19T11:21:42.656Z"
   },
   {
    "duration": 42,
    "start_time": "2022-05-19T11:22:28.767Z"
   },
   {
    "duration": 91,
    "start_time": "2022-05-19T11:23:05.065Z"
   },
   {
    "duration": 121,
    "start_time": "2022-05-19T11:25:06.508Z"
   },
   {
    "duration": 120,
    "start_time": "2022-05-19T11:25:27.010Z"
   },
   {
    "duration": 114,
    "start_time": "2022-05-19T11:25:42.340Z"
   },
   {
    "duration": 107,
    "start_time": "2022-05-19T11:26:35.388Z"
   },
   {
    "duration": 119,
    "start_time": "2022-05-19T11:27:02.180Z"
   },
   {
    "duration": 145,
    "start_time": "2022-05-19T11:27:09.366Z"
   },
   {
    "duration": 114,
    "start_time": "2022-05-19T11:27:12.622Z"
   },
   {
    "duration": 115,
    "start_time": "2022-05-19T11:27:19.084Z"
   },
   {
    "duration": 5,
    "start_time": "2022-05-19T11:27:36.982Z"
   },
   {
    "duration": 12,
    "start_time": "2022-05-19T11:28:21.677Z"
   },
   {
    "duration": 18,
    "start_time": "2022-05-19T11:28:46.592Z"
   },
   {
    "duration": 13,
    "start_time": "2022-05-19T11:29:28.605Z"
   },
   {
    "duration": 10,
    "start_time": "2022-05-19T11:29:45.356Z"
   },
   {
    "duration": 10,
    "start_time": "2022-05-19T11:30:37.211Z"
   },
   {
    "duration": 10,
    "start_time": "2022-05-19T11:30:40.931Z"
   },
   {
    "duration": 11,
    "start_time": "2022-05-19T11:31:08.536Z"
   },
   {
    "duration": 3,
    "start_time": "2022-05-19T11:31:13.422Z"
   },
   {
    "duration": 77,
    "start_time": "2022-05-19T11:31:25.961Z"
   },
   {
    "duration": 81,
    "start_time": "2022-05-19T11:31:56.013Z"
   },
   {
    "duration": 86,
    "start_time": "2022-05-19T11:32:22.623Z"
   },
   {
    "duration": 88,
    "start_time": "2022-05-19T11:32:58.011Z"
   },
   {
    "duration": 115,
    "start_time": "2022-05-19T11:33:02.879Z"
   },
   {
    "duration": 5,
    "start_time": "2022-05-19T11:33:49.106Z"
   },
   {
    "duration": 108,
    "start_time": "2022-05-19T11:34:31.415Z"
   },
   {
    "duration": 116,
    "start_time": "2022-05-19T11:34:35.121Z"
   },
   {
    "duration": 115,
    "start_time": "2022-05-19T11:35:19.123Z"
   },
   {
    "duration": 110,
    "start_time": "2022-05-19T11:35:41.190Z"
   },
   {
    "duration": 68,
    "start_time": "2022-05-19T11:36:23.899Z"
   },
   {
    "duration": 50,
    "start_time": "2022-05-19T11:36:38.137Z"
   },
   {
    "duration": 85,
    "start_time": "2022-05-19T11:36:48.029Z"
   },
   {
    "duration": 114,
    "start_time": "2022-05-19T11:37:19.440Z"
   },
   {
    "duration": 78,
    "start_time": "2022-05-19T11:37:24.227Z"
   },
   {
    "duration": 38,
    "start_time": "2022-05-19T11:38:08.942Z"
   },
   {
    "duration": 83,
    "start_time": "2022-05-19T11:38:20.334Z"
   },
   {
    "duration": 42,
    "start_time": "2022-05-19T11:42:04.765Z"
   },
   {
    "duration": 115,
    "start_time": "2022-05-19T11:42:14.483Z"
   },
   {
    "duration": 104,
    "start_time": "2022-05-19T11:42:49.691Z"
   },
   {
    "duration": 113,
    "start_time": "2022-05-19T11:43:06.166Z"
   },
   {
    "duration": 113,
    "start_time": "2022-05-19T11:44:14.400Z"
   },
   {
    "duration": 72,
    "start_time": "2022-05-19T11:45:02.493Z"
   },
   {
    "duration": 90,
    "start_time": "2022-05-19T11:45:08.365Z"
   },
   {
    "duration": 90,
    "start_time": "2022-05-19T11:48:09.872Z"
   },
   {
    "duration": 91,
    "start_time": "2022-05-19T11:48:15.650Z"
   },
   {
    "duration": 12,
    "start_time": "2022-05-19T11:52:28.710Z"
   },
   {
    "duration": 14,
    "start_time": "2022-05-19T11:52:34.238Z"
   },
   {
    "duration": 6,
    "start_time": "2022-05-19T11:52:45.159Z"
   },
   {
    "duration": 5,
    "start_time": "2022-05-19T11:53:16.922Z"
   },
   {
    "duration": 5,
    "start_time": "2022-05-19T11:53:32.772Z"
   },
   {
    "duration": 227,
    "start_time": "2022-05-19T11:53:51.037Z"
   },
   {
    "duration": 6,
    "start_time": "2022-05-19T11:54:22.810Z"
   },
   {
    "duration": 99,
    "start_time": "2022-05-19T11:54:59.600Z"
   },
   {
    "duration": 299,
    "start_time": "2022-05-19T11:55:22.745Z"
   },
   {
    "duration": 239,
    "start_time": "2022-05-19T11:55:40.907Z"
   },
   {
    "duration": 56,
    "start_time": "2022-05-19T11:58:04.204Z"
   },
   {
    "duration": 5,
    "start_time": "2022-05-19T11:58:09.878Z"
   },
   {
    "duration": 5,
    "start_time": "2022-05-19T11:58:19.349Z"
   },
   {
    "duration": 5,
    "start_time": "2022-05-19T11:58:32.684Z"
   },
   {
    "duration": 86,
    "start_time": "2022-05-19T11:59:00.049Z"
   },
   {
    "duration": 6,
    "start_time": "2022-05-19T12:00:04.297Z"
   },
   {
    "duration": 5,
    "start_time": "2022-05-19T12:00:18.818Z"
   },
   {
    "duration": 26,
    "start_time": "2022-05-19T12:00:26.179Z"
   },
   {
    "duration": 85,
    "start_time": "2022-05-19T12:00:46.819Z"
   },
   {
    "duration": 80,
    "start_time": "2022-05-19T12:00:51.094Z"
   },
   {
    "duration": 3,
    "start_time": "2022-05-19T12:02:47.114Z"
   },
   {
    "duration": 4,
    "start_time": "2022-05-19T12:02:49.714Z"
   },
   {
    "duration": 10,
    "start_time": "2022-05-19T12:03:15.935Z"
   },
   {
    "duration": 12,
    "start_time": "2022-05-19T12:03:25.679Z"
   },
   {
    "duration": 6,
    "start_time": "2022-05-19T12:03:42.353Z"
   },
   {
    "duration": 5,
    "start_time": "2022-05-19T12:03:55.259Z"
   },
   {
    "duration": 9,
    "start_time": "2022-05-19T12:04:01.716Z"
   },
   {
    "duration": 5,
    "start_time": "2022-05-19T12:04:08.540Z"
   },
   {
    "duration": 5,
    "start_time": "2022-05-19T12:04:54.065Z"
   },
   {
    "duration": 85,
    "start_time": "2022-05-19T12:05:08.091Z"
   },
   {
    "duration": 14,
    "start_time": "2022-05-19T12:06:13.266Z"
   },
   {
    "duration": 6,
    "start_time": "2022-05-19T12:06:32.061Z"
   },
   {
    "duration": 5,
    "start_time": "2022-05-19T12:06:42.193Z"
   },
   {
    "duration": 85,
    "start_time": "2022-05-19T12:06:47.989Z"
   },
   {
    "duration": 132,
    "start_time": "2022-05-19T12:08:30.628Z"
   },
   {
    "duration": 167,
    "start_time": "2022-05-19T12:09:14.859Z"
   },
   {
    "duration": 355,
    "start_time": "2022-05-19T12:09:32.673Z"
   },
   {
    "duration": 131,
    "start_time": "2022-05-19T12:10:17.350Z"
   },
   {
    "duration": 142,
    "start_time": "2022-05-19T12:10:39.528Z"
   },
   {
    "duration": 178,
    "start_time": "2022-05-19T12:13:27.268Z"
   },
   {
    "duration": 167,
    "start_time": "2022-05-19T12:14:44.181Z"
   },
   {
    "duration": 108,
    "start_time": "2022-05-19T12:14:54.502Z"
   },
   {
    "duration": 96,
    "start_time": "2022-05-19T12:15:01.568Z"
   },
   {
    "duration": 131,
    "start_time": "2022-05-19T12:15:26.512Z"
   },
   {
    "duration": 83,
    "start_time": "2022-05-19T12:15:48.066Z"
   },
   {
    "duration": 129,
    "start_time": "2022-05-19T12:16:16.417Z"
   },
   {
    "duration": 105,
    "start_time": "2022-05-19T12:16:32.160Z"
   },
   {
    "duration": 186,
    "start_time": "2022-05-19T12:16:35.303Z"
   },
   {
    "duration": 92,
    "start_time": "2022-05-19T12:16:43.387Z"
   },
   {
    "duration": 178,
    "start_time": "2022-05-19T12:19:43.494Z"
   },
   {
    "duration": 137,
    "start_time": "2022-05-19T12:20:35.075Z"
   },
   {
    "duration": 174,
    "start_time": "2022-05-19T12:21:02.677Z"
   },
   {
    "duration": 171,
    "start_time": "2022-05-19T12:21:23.136Z"
   },
   {
    "duration": 5,
    "start_time": "2022-05-19T12:25:18.547Z"
   },
   {
    "duration": 6,
    "start_time": "2022-05-19T12:25:32.596Z"
   },
   {
    "duration": 12,
    "start_time": "2022-05-19T12:25:53.468Z"
   },
   {
    "duration": 6,
    "start_time": "2022-05-19T12:26:31.052Z"
   },
   {
    "duration": 4,
    "start_time": "2022-05-19T12:27:41.403Z"
   },
   {
    "duration": 6,
    "start_time": "2022-05-19T12:27:45.484Z"
   },
   {
    "duration": 157,
    "start_time": "2022-05-19T12:34:06.533Z"
   },
   {
    "duration": 156,
    "start_time": "2022-05-19T12:34:17.575Z"
   },
   {
    "duration": 928,
    "start_time": "2022-05-19T12:35:57.457Z"
   },
   {
    "duration": 4,
    "start_time": "2022-05-19T12:36:09.930Z"
   },
   {
    "duration": 4,
    "start_time": "2022-05-19T12:36:31.078Z"
   },
   {
    "duration": 4,
    "start_time": "2022-05-19T12:38:06.872Z"
   },
   {
    "duration": 4,
    "start_time": "2022-05-19T12:38:11.016Z"
   },
   {
    "duration": 12,
    "start_time": "2022-05-19T12:42:23.173Z"
   },
   {
    "duration": 4,
    "start_time": "2022-05-19T12:43:13.611Z"
   },
   {
    "duration": 5,
    "start_time": "2022-05-19T12:43:35.224Z"
   },
   {
    "duration": 5,
    "start_time": "2022-05-19T12:43:40.558Z"
   },
   {
    "duration": 5,
    "start_time": "2022-05-19T12:43:43.585Z"
   },
   {
    "duration": 14,
    "start_time": "2022-05-19T12:44:30.396Z"
   },
   {
    "duration": 13,
    "start_time": "2022-05-19T12:44:33.292Z"
   },
   {
    "duration": 75,
    "start_time": "2022-05-19T12:46:28.614Z"
   },
   {
    "duration": 66,
    "start_time": "2022-05-19T12:46:49.443Z"
   },
   {
    "duration": 12,
    "start_time": "2022-05-19T12:49:02.386Z"
   },
   {
    "duration": 4,
    "start_time": "2022-05-19T12:49:31.614Z"
   },
   {
    "duration": 20,
    "start_time": "2022-05-19T12:49:42.647Z"
   },
   {
    "duration": 10,
    "start_time": "2022-05-19T12:49:55.849Z"
   },
   {
    "duration": 5,
    "start_time": "2022-05-19T12:50:19.812Z"
   },
   {
    "duration": 6,
    "start_time": "2022-05-19T12:50:55.446Z"
   },
   {
    "duration": 6,
    "start_time": "2022-05-19T12:51:09.834Z"
   },
   {
    "duration": 17,
    "start_time": "2022-05-19T13:03:37.982Z"
   },
   {
    "duration": 3159,
    "start_time": "2022-05-19T13:04:00.274Z"
   },
   {
    "duration": 4,
    "start_time": "2022-05-19T13:04:03.436Z"
   },
   {
    "duration": 446,
    "start_time": "2022-05-19T13:04:03.442Z"
   },
   {
    "duration": 11,
    "start_time": "2022-05-19T13:04:03.891Z"
   },
   {
    "duration": 34,
    "start_time": "2022-05-19T13:04:03.905Z"
   },
   {
    "duration": 3,
    "start_time": "2022-05-19T13:04:03.941Z"
   },
   {
    "duration": 21,
    "start_time": "2022-05-19T13:04:03.945Z"
   },
   {
    "duration": 27,
    "start_time": "2022-05-19T13:04:03.967Z"
   },
   {
    "duration": 9,
    "start_time": "2022-05-19T13:04:03.995Z"
   },
   {
    "duration": 75,
    "start_time": "2022-05-19T13:04:04.006Z"
   },
   {
    "duration": 62,
    "start_time": "2022-05-19T13:04:04.083Z"
   },
   {
    "duration": 123,
    "start_time": "2022-05-19T13:04:04.147Z"
   },
   {
    "duration": 222,
    "start_time": "2022-05-19T13:04:04.272Z"
   },
   {
    "duration": 41,
    "start_time": "2022-05-19T13:04:04.498Z"
   },
   {
    "duration": 6,
    "start_time": "2022-05-19T13:04:04.541Z"
   },
   {
    "duration": 98,
    "start_time": "2022-05-19T13:04:04.548Z"
   },
   {
    "duration": 281,
    "start_time": "2022-05-19T13:04:04.648Z"
   },
   {
    "duration": 16,
    "start_time": "2022-05-19T13:04:04.930Z"
   },
   {
    "duration": 273,
    "start_time": "2022-05-19T13:04:04.948Z"
   },
   {
    "duration": 186,
    "start_time": "2022-05-19T13:04:05.222Z"
   },
   {
    "duration": 22,
    "start_time": "2022-05-19T13:04:05.410Z"
   },
   {
    "duration": 22,
    "start_time": "2022-05-19T13:04:05.434Z"
   },
   {
    "duration": 169,
    "start_time": "2022-05-19T13:04:05.459Z"
   },
   {
    "duration": 54,
    "start_time": "2022-05-19T13:04:05.630Z"
   },
   {
    "duration": 84,
    "start_time": "2022-05-19T13:04:05.685Z"
   },
   {
    "duration": 144,
    "start_time": "2022-05-19T13:04:05.771Z"
   },
   {
    "duration": 11,
    "start_time": "2022-05-19T13:04:05.917Z"
   },
   {
    "duration": 10,
    "start_time": "2022-05-19T13:04:05.929Z"
   },
   {
    "duration": 2186,
    "start_time": "2022-05-19T13:09:10.748Z"
   },
   {
    "duration": 5,
    "start_time": "2022-05-19T13:09:12.938Z"
   },
   {
    "duration": 169,
    "start_time": "2022-05-19T13:09:12.945Z"
   },
   {
    "duration": 7,
    "start_time": "2022-05-19T13:09:13.116Z"
   },
   {
    "duration": 37,
    "start_time": "2022-05-19T13:09:13.129Z"
   },
   {
    "duration": 3,
    "start_time": "2022-05-19T13:09:13.168Z"
   },
   {
    "duration": 7,
    "start_time": "2022-05-19T13:09:13.173Z"
   },
   {
    "duration": 12,
    "start_time": "2022-05-19T13:09:13.181Z"
   },
   {
    "duration": 5,
    "start_time": "2022-05-19T13:09:13.195Z"
   },
   {
    "duration": 85,
    "start_time": "2022-05-19T13:09:13.202Z"
   },
   {
    "duration": 69,
    "start_time": "2022-05-19T13:09:13.289Z"
   },
   {
    "duration": 127,
    "start_time": "2022-05-19T13:09:13.359Z"
   },
   {
    "duration": 383,
    "start_time": "2022-05-19T13:09:13.487Z"
   },
   {
    "duration": 32,
    "start_time": "2022-05-19T13:09:13.873Z"
   },
   {
    "duration": 22,
    "start_time": "2022-05-19T13:09:13.906Z"
   },
   {
    "duration": 79,
    "start_time": "2022-05-19T13:09:13.933Z"
   },
   {
    "duration": 269,
    "start_time": "2022-05-19T13:09:14.027Z"
   },
   {
    "duration": 16,
    "start_time": "2022-05-19T13:09:14.297Z"
   },
   {
    "duration": 258,
    "start_time": "2022-05-19T13:09:14.315Z"
   },
   {
    "duration": 168,
    "start_time": "2022-05-19T13:09:14.575Z"
   },
   {
    "duration": 182,
    "start_time": "2022-05-19T13:09:14.745Z"
   },
   {
    "duration": 58,
    "start_time": "2022-05-19T13:09:14.929Z"
   },
   {
    "duration": 96,
    "start_time": "2022-05-19T13:09:14.989Z"
   },
   {
    "duration": 160,
    "start_time": "2022-05-19T13:09:15.087Z"
   },
   {
    "duration": 7,
    "start_time": "2022-05-19T13:09:15.249Z"
   },
   {
    "duration": 8,
    "start_time": "2022-05-19T13:09:15.258Z"
   },
   {
    "duration": 9,
    "start_time": "2022-05-19T13:16:15.045Z"
   },
   {
    "duration": 14,
    "start_time": "2022-05-19T13:16:29.906Z"
   },
   {
    "duration": 6,
    "start_time": "2022-05-19T13:16:41.492Z"
   },
   {
    "duration": 4,
    "start_time": "2022-05-19T13:24:54.604Z"
   },
   {
    "duration": 5,
    "start_time": "2022-05-19T13:25:07.117Z"
   },
   {
    "duration": 4,
    "start_time": "2022-05-19T13:25:14.487Z"
   },
   {
    "duration": 5,
    "start_time": "2022-05-19T13:25:24.765Z"
   },
   {
    "duration": 7,
    "start_time": "2022-05-19T13:25:55.254Z"
   },
   {
    "duration": 9,
    "start_time": "2022-05-19T13:26:37.652Z"
   },
   {
    "duration": 9,
    "start_time": "2022-05-19T13:27:10.591Z"
   },
   {
    "duration": 11,
    "start_time": "2022-05-19T13:28:13.417Z"
   },
   {
    "duration": 8,
    "start_time": "2022-05-19T13:28:51.749Z"
   },
   {
    "duration": 5,
    "start_time": "2022-05-19T13:28:59.231Z"
   },
   {
    "duration": 17,
    "start_time": "2022-05-19T13:30:49.651Z"
   },
   {
    "duration": 23,
    "start_time": "2022-05-19T13:31:23.270Z"
   },
   {
    "duration": 16,
    "start_time": "2022-05-19T13:31:28.880Z"
   },
   {
    "duration": 4,
    "start_time": "2022-05-19T13:33:11.371Z"
   },
   {
    "duration": 10,
    "start_time": "2022-05-19T13:33:37.765Z"
   },
   {
    "duration": 10,
    "start_time": "2022-05-19T13:33:45.065Z"
   },
   {
    "duration": 140,
    "start_time": "2022-05-19T13:36:11.960Z"
   },
   {
    "duration": 16,
    "start_time": "2022-05-19T13:38:33.561Z"
   },
   {
    "duration": 14,
    "start_time": "2022-05-19T13:38:41.791Z"
   },
   {
    "duration": 10,
    "start_time": "2022-05-19T13:39:05.078Z"
   },
   {
    "duration": 157,
    "start_time": "2022-05-19T13:39:08.514Z"
   },
   {
    "duration": 191,
    "start_time": "2022-05-19T13:39:23.155Z"
   },
   {
    "duration": 10,
    "start_time": "2022-05-19T13:39:57.497Z"
   },
   {
    "duration": 163,
    "start_time": "2022-05-19T13:40:00.497Z"
   },
   {
    "duration": 167,
    "start_time": "2022-05-19T13:40:43.205Z"
   },
   {
    "duration": 153,
    "start_time": "2022-05-19T13:40:53.034Z"
   },
   {
    "duration": 175,
    "start_time": "2022-05-19T13:42:03.777Z"
   },
   {
    "duration": 145,
    "start_time": "2022-05-19T13:42:09.479Z"
   },
   {
    "duration": 146,
    "start_time": "2022-05-19T13:43:41.802Z"
   },
   {
    "duration": 9,
    "start_time": "2022-05-19T13:46:30.730Z"
   },
   {
    "duration": 6,
    "start_time": "2022-05-19T13:46:41.486Z"
   },
   {
    "duration": 8,
    "start_time": "2022-05-19T13:47:30.250Z"
   },
   {
    "duration": 6,
    "start_time": "2022-05-19T13:48:18.354Z"
   },
   {
    "duration": 35,
    "start_time": "2022-05-19T13:49:43.913Z"
   },
   {
    "duration": 10,
    "start_time": "2022-05-19T13:49:56.815Z"
   },
   {
    "duration": 7,
    "start_time": "2022-05-19T13:50:10.567Z"
   },
   {
    "duration": 13,
    "start_time": "2022-05-19T13:50:21.544Z"
   },
   {
    "duration": 26,
    "start_time": "2022-05-19T13:50:24.414Z"
   },
   {
    "duration": 6,
    "start_time": "2022-05-19T13:50:56.915Z"
   },
   {
    "duration": 9,
    "start_time": "2022-05-19T13:51:24.743Z"
   },
   {
    "duration": 9,
    "start_time": "2022-05-19T13:51:51.976Z"
   },
   {
    "duration": 33,
    "start_time": "2022-05-19T13:55:38.216Z"
   },
   {
    "duration": 48,
    "start_time": "2022-05-19T14:05:37.324Z"
   },
   {
    "duration": 82,
    "start_time": "2022-05-19T14:06:33.620Z"
   },
   {
    "duration": 46,
    "start_time": "2022-05-19T14:06:40.893Z"
   },
   {
    "duration": 85,
    "start_time": "2022-05-19T14:06:54.686Z"
   },
   {
    "duration": 2208,
    "start_time": "2022-05-19T18:06:39.690Z"
   },
   {
    "duration": 1529,
    "start_time": "2022-05-19T18:06:41.900Z"
   },
   {
    "duration": 484,
    "start_time": "2022-05-19T18:06:43.431Z"
   },
   {
    "duration": 11,
    "start_time": "2022-05-19T18:06:43.917Z"
   },
   {
    "duration": 35,
    "start_time": "2022-05-19T18:06:43.930Z"
   },
   {
    "duration": 3,
    "start_time": "2022-05-19T18:06:43.967Z"
   },
   {
    "duration": 12,
    "start_time": "2022-05-19T18:06:43.972Z"
   },
   {
    "duration": 18,
    "start_time": "2022-05-19T18:06:43.987Z"
   },
   {
    "duration": 18,
    "start_time": "2022-05-19T18:06:44.007Z"
   },
   {
    "duration": 89,
    "start_time": "2022-05-19T18:06:44.027Z"
   },
   {
    "duration": 61,
    "start_time": "2022-05-19T18:06:44.123Z"
   },
   {
    "duration": 142,
    "start_time": "2022-05-19T18:06:44.186Z"
   },
   {
    "duration": 212,
    "start_time": "2022-05-19T18:06:44.330Z"
   },
   {
    "duration": 35,
    "start_time": "2022-05-19T18:06:44.545Z"
   },
   {
    "duration": 6,
    "start_time": "2022-05-19T18:06:44.581Z"
   },
   {
    "duration": 103,
    "start_time": "2022-05-19T18:06:44.589Z"
   },
   {
    "duration": 492,
    "start_time": "2022-05-19T18:06:44.694Z"
   },
   {
    "duration": 21,
    "start_time": "2022-05-19T18:06:45.188Z"
   },
   {
    "duration": 267,
    "start_time": "2022-05-19T18:06:45.222Z"
   },
   {
    "duration": 192,
    "start_time": "2022-05-19T18:06:45.491Z"
   },
   {
    "duration": 186,
    "start_time": "2022-05-19T18:06:45.685Z"
   },
   {
    "duration": 77,
    "start_time": "2022-05-19T18:06:45.872Z"
   },
   {
    "duration": 99,
    "start_time": "2022-05-19T18:06:45.951Z"
   },
   {
    "duration": 207,
    "start_time": "2022-05-19T18:06:46.052Z"
   },
   {
    "duration": 17,
    "start_time": "2022-05-19T18:06:46.261Z"
   },
   {
    "duration": 194,
    "start_time": "2022-05-19T18:06:46.280Z"
   },
   {
    "duration": 9,
    "start_time": "2022-05-19T18:06:46.476Z"
   },
   {
    "duration": 49,
    "start_time": "2022-05-19T18:06:46.487Z"
   },
   {
    "duration": 48,
    "start_time": "2022-05-19T18:06:46.538Z"
   },
   {
    "duration": 104,
    "start_time": "2022-05-19T18:06:46.588Z"
   },
   {
    "duration": 110,
    "start_time": "2022-05-19T18:18:53.910Z"
   },
   {
    "duration": 84,
    "start_time": "2022-05-19T18:20:41.050Z"
   },
   {
    "duration": 49,
    "start_time": "2022-05-19T18:20:43.642Z"
   },
   {
    "duration": 4,
    "start_time": "2022-05-19T18:23:20.989Z"
   },
   {
    "duration": 121,
    "start_time": "2022-05-19T18:23:51.534Z"
   },
   {
    "duration": 5,
    "start_time": "2022-05-19T18:23:54.414Z"
   },
   {
    "duration": 20,
    "start_time": "2022-05-19T18:24:01.393Z"
   },
   {
    "duration": 17,
    "start_time": "2022-05-19T18:24:10.832Z"
   },
   {
    "duration": 5,
    "start_time": "2022-05-19T18:24:35.183Z"
   },
   {
    "duration": 5,
    "start_time": "2022-05-19T18:24:43.800Z"
   },
   {
    "duration": 55,
    "start_time": "2022-05-19T18:25:19.188Z"
   },
   {
    "duration": 40,
    "start_time": "2022-05-19T18:26:05.776Z"
   },
   {
    "duration": 4,
    "start_time": "2022-05-19T18:26:28.082Z"
   },
   {
    "duration": 51,
    "start_time": "2022-05-19T18:26:32.906Z"
   },
   {
    "duration": 58,
    "start_time": "2022-05-19T18:26:59.180Z"
   },
   {
    "duration": 17,
    "start_time": "2022-05-19T18:31:28.918Z"
   },
   {
    "duration": 5,
    "start_time": "2022-05-19T18:32:05.975Z"
   },
   {
    "duration": 13,
    "start_time": "2022-05-19T18:32:09.746Z"
   },
   {
    "duration": 3,
    "start_time": "2022-05-19T18:32:31.176Z"
   },
   {
    "duration": 8,
    "start_time": "2022-05-19T18:32:37.562Z"
   },
   {
    "duration": 44,
    "start_time": "2022-05-19T18:34:44.458Z"
   },
   {
    "duration": 46,
    "start_time": "2022-05-19T18:34:58.605Z"
   },
   {
    "duration": 62,
    "start_time": "2022-05-19T18:35:05.709Z"
   },
   {
    "duration": 48,
    "start_time": "2022-05-19T18:37:38.893Z"
   },
   {
    "duration": 5,
    "start_time": "2022-05-19T18:38:05.445Z"
   },
   {
    "duration": 6,
    "start_time": "2022-05-19T18:45:22.480Z"
   },
   {
    "duration": 371,
    "start_time": "2022-05-19T18:46:19.475Z"
   },
   {
    "duration": 6,
    "start_time": "2022-05-19T18:47:24.768Z"
   },
   {
    "duration": 7,
    "start_time": "2022-05-19T18:49:06.958Z"
   },
   {
    "duration": 5,
    "start_time": "2022-05-19T18:49:10.122Z"
   },
   {
    "duration": 682,
    "start_time": "2022-05-19T18:55:07.966Z"
   },
   {
    "duration": 496,
    "start_time": "2022-05-19T18:55:21.176Z"
   },
   {
    "duration": 512,
    "start_time": "2022-05-19T18:55:50.704Z"
   },
   {
    "duration": 617,
    "start_time": "2022-05-19T18:56:11.595Z"
   },
   {
    "duration": 6,
    "start_time": "2022-05-19T18:56:38.953Z"
   },
   {
    "duration": 12,
    "start_time": "2022-05-19T18:56:45.590Z"
   },
   {
    "duration": 13,
    "start_time": "2022-05-19T18:58:10.705Z"
   },
   {
    "duration": 4,
    "start_time": "2022-05-19T18:58:50.616Z"
   },
   {
    "duration": 4,
    "start_time": "2022-05-19T18:58:54.649Z"
   },
   {
    "duration": 13,
    "start_time": "2022-05-19T18:59:51.376Z"
   },
   {
    "duration": 3,
    "start_time": "2022-05-19T19:00:44.220Z"
   },
   {
    "duration": 6,
    "start_time": "2022-05-19T19:01:08.662Z"
   },
   {
    "duration": 518,
    "start_time": "2022-05-19T19:01:56.552Z"
   },
   {
    "duration": 5,
    "start_time": "2022-05-19T19:02:05.850Z"
   },
   {
    "duration": 10,
    "start_time": "2022-05-19T19:03:45.431Z"
   },
   {
    "duration": 16,
    "start_time": "2022-05-19T19:05:55.310Z"
   },
   {
    "duration": 16,
    "start_time": "2022-05-19T19:08:23.289Z"
   },
   {
    "duration": 14,
    "start_time": "2022-05-19T19:14:09.572Z"
   },
   {
    "duration": 16,
    "start_time": "2022-05-19T19:16:21.909Z"
   },
   {
    "duration": 4,
    "start_time": "2022-05-19T19:31:16.256Z"
   },
   {
    "duration": 4,
    "start_time": "2022-05-19T19:31:23.530Z"
   },
   {
    "duration": 4,
    "start_time": "2022-05-19T19:31:38.090Z"
   },
   {
    "duration": 12,
    "start_time": "2022-05-19T19:34:38.932Z"
   },
   {
    "duration": 6,
    "start_time": "2022-05-19T19:35:11.756Z"
   },
   {
    "duration": 6,
    "start_time": "2022-05-19T19:35:15.314Z"
   },
   {
    "duration": 119,
    "start_time": "2022-05-19T19:37:11.259Z"
   },
   {
    "duration": 133,
    "start_time": "2022-05-19T19:37:17.472Z"
   },
   {
    "duration": 6,
    "start_time": "2022-05-19T19:37:24.561Z"
   },
   {
    "duration": 6,
    "start_time": "2022-05-19T19:39:20.429Z"
   },
   {
    "duration": 7,
    "start_time": "2022-05-19T19:39:24.491Z"
   },
   {
    "duration": 112,
    "start_time": "2022-05-19T19:39:45.938Z"
   },
   {
    "duration": 7,
    "start_time": "2022-05-19T19:39:49.153Z"
   },
   {
    "duration": 75,
    "start_time": "2022-05-19T19:42:25.498Z"
   },
   {
    "duration": 84,
    "start_time": "2022-05-19T19:42:33.342Z"
   },
   {
    "duration": 61,
    "start_time": "2022-05-19T19:42:58.947Z"
   },
   {
    "duration": 72,
    "start_time": "2022-05-19T19:43:10.649Z"
   },
   {
    "duration": 59,
    "start_time": "2022-05-19T19:44:32.383Z"
   },
   {
    "duration": 71,
    "start_time": "2022-05-19T19:46:16.281Z"
   },
   {
    "duration": 76,
    "start_time": "2022-05-19T19:46:24.978Z"
   },
   {
    "duration": 4,
    "start_time": "2022-05-19T19:47:49.628Z"
   },
   {
    "duration": 4,
    "start_time": "2022-05-19T19:48:11.190Z"
   },
   {
    "duration": 5,
    "start_time": "2022-05-19T19:48:23.335Z"
   },
   {
    "duration": 65,
    "start_time": "2022-05-19T19:48:55.251Z"
   },
   {
    "duration": 63,
    "start_time": "2022-05-19T19:49:12.085Z"
   },
   {
    "duration": 52,
    "start_time": "2022-05-19T19:50:26.750Z"
   },
   {
    "duration": 13,
    "start_time": "2022-05-19T19:51:40.924Z"
   },
   {
    "duration": 13,
    "start_time": "2022-05-19T20:01:41.555Z"
   },
   {
    "duration": 9,
    "start_time": "2022-05-19T20:02:47.759Z"
   },
   {
    "duration": 44,
    "start_time": "2022-05-19T20:03:07.850Z"
   },
   {
    "duration": 9,
    "start_time": "2022-05-19T20:03:12.225Z"
   },
   {
    "duration": 33,
    "start_time": "2022-05-19T20:03:26.972Z"
   },
   {
    "duration": 10,
    "start_time": "2022-05-19T20:03:30.415Z"
   },
   {
    "duration": 17,
    "start_time": "2022-05-19T20:08:14.868Z"
   },
   {
    "duration": 10,
    "start_time": "2022-05-19T20:10:02.408Z"
   },
   {
    "duration": 9,
    "start_time": "2022-05-19T20:10:07.752Z"
   },
   {
    "duration": 9,
    "start_time": "2022-05-19T20:10:14.515Z"
   },
   {
    "duration": 8,
    "start_time": "2022-05-19T20:18:16.418Z"
   },
   {
    "duration": 3,
    "start_time": "2022-05-19T20:19:54.254Z"
   },
   {
    "duration": 7,
    "start_time": "2022-05-19T20:19:59.914Z"
   },
   {
    "duration": 8,
    "start_time": "2022-05-19T20:20:22.117Z"
   },
   {
    "duration": 11,
    "start_time": "2022-05-19T20:21:41.111Z"
   },
   {
    "duration": 11,
    "start_time": "2022-05-19T20:23:30.115Z"
   },
   {
    "duration": 20,
    "start_time": "2022-05-19T20:23:39.197Z"
   },
   {
    "duration": 14,
    "start_time": "2022-05-19T20:23:47.057Z"
   },
   {
    "duration": 10,
    "start_time": "2022-05-19T20:24:04.062Z"
   },
   {
    "duration": 146,
    "start_time": "2022-05-19T20:25:28.160Z"
   },
   {
    "duration": 14,
    "start_time": "2022-05-19T20:26:03.496Z"
   },
   {
    "duration": 139,
    "start_time": "2022-05-19T20:26:46.612Z"
   },
   {
    "duration": 16,
    "start_time": "2022-05-19T20:27:14.980Z"
   },
   {
    "duration": 15,
    "start_time": "2022-05-19T20:28:18.555Z"
   },
   {
    "duration": 299,
    "start_time": "2022-05-19T20:28:22.597Z"
   },
   {
    "duration": 154,
    "start_time": "2022-05-19T20:28:31.023Z"
   },
   {
    "duration": 142,
    "start_time": "2022-05-19T20:28:54.408Z"
   },
   {
    "duration": 46,
    "start_time": "2022-05-19T20:29:27.726Z"
   },
   {
    "duration": 115,
    "start_time": "2022-05-19T20:29:31.199Z"
   },
   {
    "duration": 12,
    "start_time": "2022-05-19T20:29:44.077Z"
   },
   {
    "duration": 13,
    "start_time": "2022-05-19T20:30:14.911Z"
   },
   {
    "duration": 157,
    "start_time": "2022-05-19T20:30:15.688Z"
   },
   {
    "duration": 152,
    "start_time": "2022-05-19T20:30:29.693Z"
   },
   {
    "duration": 145,
    "start_time": "2022-05-19T20:30:56.076Z"
   },
   {
    "duration": 151,
    "start_time": "2022-05-19T20:31:16.126Z"
   },
   {
    "duration": 140,
    "start_time": "2022-05-19T20:31:29.682Z"
   },
   {
    "duration": 106,
    "start_time": "2022-05-19T20:31:58.092Z"
   },
   {
    "duration": 134,
    "start_time": "2022-05-19T20:32:08.454Z"
   },
   {
    "duration": 2234,
    "start_time": "2022-05-19T20:40:28.176Z"
   },
   {
    "duration": 5,
    "start_time": "2022-05-19T20:40:30.412Z"
   },
   {
    "duration": 358,
    "start_time": "2022-05-19T20:40:30.419Z"
   },
   {
    "duration": 10,
    "start_time": "2022-05-19T20:40:30.780Z"
   },
   {
    "duration": 28,
    "start_time": "2022-05-19T20:40:30.792Z"
   },
   {
    "duration": 24,
    "start_time": "2022-05-19T20:40:30.823Z"
   },
   {
    "duration": 38,
    "start_time": "2022-05-19T20:40:30.849Z"
   },
   {
    "duration": 34,
    "start_time": "2022-05-19T20:40:30.889Z"
   },
   {
    "duration": 6,
    "start_time": "2022-05-19T20:40:30.926Z"
   },
   {
    "duration": 97,
    "start_time": "2022-05-19T20:40:30.936Z"
   },
   {
    "duration": 57,
    "start_time": "2022-05-19T20:40:31.034Z"
   },
   {
    "duration": 132,
    "start_time": "2022-05-19T20:40:31.093Z"
   },
   {
    "duration": 225,
    "start_time": "2022-05-19T20:40:31.227Z"
   },
   {
    "duration": 35,
    "start_time": "2022-05-19T20:40:31.454Z"
   },
   {
    "duration": 8,
    "start_time": "2022-05-19T20:40:31.491Z"
   },
   {
    "duration": 103,
    "start_time": "2022-05-19T20:40:31.501Z"
   },
   {
    "duration": 312,
    "start_time": "2022-05-19T20:40:31.606Z"
   },
   {
    "duration": 26,
    "start_time": "2022-05-19T20:40:31.922Z"
   },
   {
    "duration": 330,
    "start_time": "2022-05-19T20:40:31.951Z"
   },
   {
    "duration": 385,
    "start_time": "2022-05-19T20:40:32.283Z"
   },
   {
    "duration": 237,
    "start_time": "2022-05-19T20:40:32.671Z"
   },
   {
    "duration": 77,
    "start_time": "2022-05-19T20:40:32.910Z"
   },
   {
    "duration": 115,
    "start_time": "2022-05-19T20:40:32.989Z"
   },
   {
    "duration": 168,
    "start_time": "2022-05-19T20:40:33.106Z"
   },
   {
    "duration": 12,
    "start_time": "2022-05-19T20:40:33.276Z"
   },
   {
    "duration": 161,
    "start_time": "2022-05-19T20:40:33.290Z"
   },
   {
    "duration": 10,
    "start_time": "2022-05-19T20:40:33.453Z"
   },
   {
    "duration": 42,
    "start_time": "2022-05-19T20:40:33.466Z"
   },
   {
    "duration": 14,
    "start_time": "2022-05-19T20:40:33.510Z"
   },
   {
    "duration": 51,
    "start_time": "2022-05-19T20:40:33.526Z"
   },
   {
    "duration": 7,
    "start_time": "2022-05-19T20:40:33.578Z"
   },
   {
    "duration": 37,
    "start_time": "2022-05-19T20:40:33.586Z"
   },
   {
    "duration": 8,
    "start_time": "2022-05-19T20:40:33.624Z"
   },
   {
    "duration": 12,
    "start_time": "2022-05-19T20:40:33.634Z"
   },
   {
    "duration": 11,
    "start_time": "2022-05-19T20:40:33.648Z"
   },
   {
    "duration": 13,
    "start_time": "2022-05-19T20:40:33.661Z"
   },
   {
    "duration": 159,
    "start_time": "2022-05-19T20:40:33.675Z"
   },
   {
    "duration": 3164,
    "start_time": "2022-05-21T13:38:02.568Z"
   },
   {
    "duration": 2487,
    "start_time": "2022-05-21T13:38:05.734Z"
   },
   {
    "duration": 484,
    "start_time": "2022-05-21T13:38:08.223Z"
   },
   {
    "duration": 12,
    "start_time": "2022-05-21T13:38:08.709Z"
   },
   {
    "duration": 22,
    "start_time": "2022-05-21T13:38:08.724Z"
   },
   {
    "duration": 17,
    "start_time": "2022-05-21T13:38:08.748Z"
   },
   {
    "duration": 7,
    "start_time": "2022-05-21T13:38:08.766Z"
   },
   {
    "duration": 16,
    "start_time": "2022-05-21T13:38:08.775Z"
   },
   {
    "duration": 6,
    "start_time": "2022-05-21T13:38:08.792Z"
   },
   {
    "duration": 103,
    "start_time": "2022-05-21T13:38:08.800Z"
   },
   {
    "duration": 87,
    "start_time": "2022-05-21T13:38:08.906Z"
   },
   {
    "duration": 171,
    "start_time": "2022-05-21T13:38:08.996Z"
   },
   {
    "duration": 227,
    "start_time": "2022-05-21T13:38:09.169Z"
   },
   {
    "duration": 35,
    "start_time": "2022-05-21T13:38:09.399Z"
   },
   {
    "duration": 6,
    "start_time": "2022-05-21T13:38:09.436Z"
   },
   {
    "duration": 104,
    "start_time": "2022-05-21T13:38:09.444Z"
   },
   {
    "duration": 496,
    "start_time": "2022-05-21T13:38:09.550Z"
   },
   {
    "duration": 28,
    "start_time": "2022-05-21T13:38:10.048Z"
   },
   {
    "duration": 275,
    "start_time": "2022-05-21T13:38:10.077Z"
   },
   {
    "duration": 188,
    "start_time": "2022-05-21T13:38:10.354Z"
   },
   {
    "duration": 199,
    "start_time": "2022-05-21T13:38:10.544Z"
   },
   {
    "duration": 66,
    "start_time": "2022-05-21T13:38:10.744Z"
   },
   {
    "duration": 94,
    "start_time": "2022-05-21T13:38:10.812Z"
   },
   {
    "duration": 165,
    "start_time": "2022-05-21T13:38:10.908Z"
   },
   {
    "duration": 11,
    "start_time": "2022-05-21T13:38:11.075Z"
   },
   {
    "duration": 158,
    "start_time": "2022-05-21T13:38:11.088Z"
   },
   {
    "duration": 16,
    "start_time": "2022-05-21T13:38:11.248Z"
   },
   {
    "duration": 36,
    "start_time": "2022-05-21T13:38:11.266Z"
   },
   {
    "duration": 2,
    "start_time": "2022-05-21T13:38:11.304Z"
   },
   {
    "duration": 73,
    "start_time": "2022-05-21T13:38:11.308Z"
   },
   {
    "duration": 6,
    "start_time": "2022-05-21T13:38:11.382Z"
   },
   {
    "duration": 18,
    "start_time": "2022-05-21T13:38:11.390Z"
   },
   {
    "duration": 14,
    "start_time": "2022-05-21T13:38:11.409Z"
   },
   {
    "duration": 7,
    "start_time": "2022-05-21T13:38:11.425Z"
   },
   {
    "duration": 31,
    "start_time": "2022-05-21T13:38:11.434Z"
   },
   {
    "duration": 12,
    "start_time": "2022-05-21T13:38:11.467Z"
   },
   {
    "duration": 155,
    "start_time": "2022-05-21T13:38:11.481Z"
   },
   {
    "duration": 58,
    "start_time": "2022-05-22T12:12:13.469Z"
   },
   {
    "duration": 2190,
    "start_time": "2022-05-22T12:12:17.101Z"
   },
   {
    "duration": 1607,
    "start_time": "2022-05-22T12:12:19.293Z"
   },
   {
    "duration": 993,
    "start_time": "2022-05-22T12:12:20.902Z"
   },
   {
    "duration": 12,
    "start_time": "2022-05-22T12:12:21.897Z"
   },
   {
    "duration": 21,
    "start_time": "2022-05-22T12:12:21.910Z"
   },
   {
    "duration": 2,
    "start_time": "2022-05-22T12:12:21.933Z"
   },
   {
    "duration": 9,
    "start_time": "2022-05-22T12:12:21.937Z"
   },
   {
    "duration": 19,
    "start_time": "2022-05-22T12:12:21.948Z"
   },
   {
    "duration": 5,
    "start_time": "2022-05-22T12:12:21.968Z"
   },
   {
    "duration": 74,
    "start_time": "2022-05-22T12:12:21.976Z"
   },
   {
    "duration": 62,
    "start_time": "2022-05-22T12:12:22.052Z"
   },
   {
    "duration": 151,
    "start_time": "2022-05-22T12:12:22.115Z"
   },
   {
    "duration": 218,
    "start_time": "2022-05-22T12:12:22.268Z"
   },
   {
    "duration": 32,
    "start_time": "2022-05-22T12:12:22.488Z"
   },
   {
    "duration": 20,
    "start_time": "2022-05-22T12:12:22.522Z"
   },
   {
    "duration": 80,
    "start_time": "2022-05-22T12:12:22.544Z"
   },
   {
    "duration": 467,
    "start_time": "2022-05-22T12:12:22.626Z"
   },
   {
    "duration": 20,
    "start_time": "2022-05-22T12:12:23.095Z"
   },
   {
    "duration": 269,
    "start_time": "2022-05-22T12:12:23.117Z"
   },
   {
    "duration": 169,
    "start_time": "2022-05-22T12:12:23.387Z"
   },
   {
    "duration": 170,
    "start_time": "2022-05-22T12:12:23.558Z"
   },
   {
    "duration": 62,
    "start_time": "2022-05-22T12:12:23.730Z"
   },
   {
    "duration": 85,
    "start_time": "2022-05-22T12:12:23.794Z"
   },
   {
    "duration": 152,
    "start_time": "2022-05-22T12:12:23.880Z"
   },
   {
    "duration": 16,
    "start_time": "2022-05-22T12:12:24.034Z"
   },
   {
    "duration": 146,
    "start_time": "2022-05-22T12:12:24.052Z"
   },
   {
    "duration": 9,
    "start_time": "2022-05-22T12:12:24.200Z"
   },
   {
    "duration": 49,
    "start_time": "2022-05-22T12:12:24.211Z"
   },
   {
    "duration": 3,
    "start_time": "2022-05-22T12:12:24.261Z"
   },
   {
    "duration": 54,
    "start_time": "2022-05-22T12:12:24.265Z"
   },
   {
    "duration": 21,
    "start_time": "2022-05-22T12:12:24.320Z"
   },
   {
    "duration": 19,
    "start_time": "2022-05-22T12:12:24.343Z"
   },
   {
    "duration": 12,
    "start_time": "2022-05-22T12:12:24.364Z"
   },
   {
    "duration": 9,
    "start_time": "2022-05-22T12:12:24.377Z"
   },
   {
    "duration": 9,
    "start_time": "2022-05-22T12:12:24.388Z"
   },
   {
    "duration": 12,
    "start_time": "2022-05-22T12:12:24.398Z"
   },
   {
    "duration": 154,
    "start_time": "2022-05-22T12:12:24.412Z"
   },
   {
    "duration": 7,
    "start_time": "2022-05-22T12:17:53.309Z"
   },
   {
    "duration": 6,
    "start_time": "2022-05-22T12:17:56.797Z"
   },
   {
    "duration": 5,
    "start_time": "2022-05-22T12:18:02.598Z"
   },
   {
    "duration": 28,
    "start_time": "2022-05-22T12:19:20.361Z"
   },
   {
    "duration": 31,
    "start_time": "2022-05-22T12:19:33.177Z"
   },
   {
    "duration": 3,
    "start_time": "2022-05-22T12:21:02.485Z"
   },
   {
    "duration": 9,
    "start_time": "2022-05-22T12:21:26.892Z"
   },
   {
    "duration": 10,
    "start_time": "2022-05-22T12:22:32.870Z"
   },
   {
    "duration": 2103,
    "start_time": "2022-05-22T12:24:26.779Z"
   },
   {
    "duration": 4,
    "start_time": "2022-05-22T12:24:28.885Z"
   },
   {
    "duration": 166,
    "start_time": "2022-05-22T12:24:28.890Z"
   },
   {
    "duration": 9,
    "start_time": "2022-05-22T12:24:29.057Z"
   },
   {
    "duration": 19,
    "start_time": "2022-05-22T12:24:29.068Z"
   },
   {
    "duration": 3,
    "start_time": "2022-05-22T12:24:29.089Z"
   },
   {
    "duration": 6,
    "start_time": "2022-05-22T12:24:29.094Z"
   },
   {
    "duration": 11,
    "start_time": "2022-05-22T12:24:29.102Z"
   },
   {
    "duration": 28,
    "start_time": "2022-05-22T12:24:29.115Z"
   },
   {
    "duration": 61,
    "start_time": "2022-05-22T12:24:29.145Z"
   },
   {
    "duration": 67,
    "start_time": "2022-05-22T12:24:29.208Z"
   },
   {
    "duration": 111,
    "start_time": "2022-05-22T12:24:29.276Z"
   },
   {
    "duration": 205,
    "start_time": "2022-05-22T12:24:29.389Z"
   },
   {
    "duration": 45,
    "start_time": "2022-05-22T12:24:29.597Z"
   },
   {
    "duration": 5,
    "start_time": "2022-05-22T12:24:29.644Z"
   },
   {
    "duration": 92,
    "start_time": "2022-05-22T12:24:29.650Z"
   },
   {
    "duration": 6,
    "start_time": "2022-05-22T12:24:29.744Z"
   },
   {
    "duration": 293,
    "start_time": "2022-05-22T12:24:29.752Z"
   },
   {
    "duration": 18,
    "start_time": "2022-05-22T12:24:30.047Z"
   },
   {
    "duration": 357,
    "start_time": "2022-05-22T12:24:30.067Z"
   },
   {
    "duration": 167,
    "start_time": "2022-05-22T12:24:30.425Z"
   },
   {
    "duration": 168,
    "start_time": "2022-05-22T12:24:30.594Z"
   },
   {
    "duration": 57,
    "start_time": "2022-05-22T12:24:30.764Z"
   },
   {
    "duration": 90,
    "start_time": "2022-05-22T12:24:30.823Z"
   },
   {
    "duration": 148,
    "start_time": "2022-05-22T12:24:30.915Z"
   },
   {
    "duration": 10,
    "start_time": "2022-05-22T12:24:31.065Z"
   },
   {
    "duration": 154,
    "start_time": "2022-05-22T12:24:31.076Z"
   },
   {
    "duration": 12,
    "start_time": "2022-05-22T12:24:31.231Z"
   },
   {
    "duration": 40,
    "start_time": "2022-05-22T12:24:31.245Z"
   },
   {
    "duration": 3,
    "start_time": "2022-05-22T12:24:31.286Z"
   },
   {
    "duration": 63,
    "start_time": "2022-05-22T12:24:31.290Z"
   },
   {
    "duration": 5,
    "start_time": "2022-05-22T12:24:31.354Z"
   },
   {
    "duration": 18,
    "start_time": "2022-05-22T12:24:31.361Z"
   },
   {
    "duration": 7,
    "start_time": "2022-05-22T12:24:31.381Z"
   },
   {
    "duration": 12,
    "start_time": "2022-05-22T12:24:31.390Z"
   },
   {
    "duration": 13,
    "start_time": "2022-05-22T12:24:31.404Z"
   },
   {
    "duration": 33,
    "start_time": "2022-05-22T12:24:31.418Z"
   },
   {
    "duration": 134,
    "start_time": "2022-05-22T12:24:31.453Z"
   },
   {
    "duration": 69,
    "start_time": "2022-05-22T12:25:58.462Z"
   },
   {
    "duration": 8,
    "start_time": "2022-05-22T12:26:03.765Z"
   },
   {
    "duration": 11,
    "start_time": "2022-05-22T12:26:19.325Z"
   },
   {
    "duration": 12,
    "start_time": "2022-05-22T12:27:55.461Z"
   },
   {
    "duration": 24,
    "start_time": "2022-05-22T12:29:36.493Z"
   },
   {
    "duration": 35,
    "start_time": "2022-05-22T12:29:44.035Z"
   },
   {
    "duration": 25,
    "start_time": "2022-05-22T12:29:48.717Z"
   },
   {
    "duration": 26,
    "start_time": "2022-05-22T12:34:49.266Z"
   },
   {
    "duration": 46,
    "start_time": "2022-05-22T12:37:16.590Z"
   },
   {
    "duration": 60,
    "start_time": "2022-05-22T12:37:22.762Z"
   },
   {
    "duration": 25,
    "start_time": "2022-05-22T12:37:41.765Z"
   },
   {
    "duration": 39,
    "start_time": "2022-05-22T12:37:50.123Z"
   },
   {
    "duration": 15,
    "start_time": "2022-05-22T12:38:04.380Z"
   },
   {
    "duration": 65,
    "start_time": "2022-05-22T12:38:28.968Z"
   },
   {
    "duration": 102,
    "start_time": "2022-05-22T12:38:46.866Z"
   },
   {
    "duration": 56,
    "start_time": "2022-05-22T12:38:50.371Z"
   },
   {
    "duration": 107,
    "start_time": "2022-05-22T12:39:08.466Z"
   },
   {
    "duration": 114,
    "start_time": "2022-05-22T12:39:37.318Z"
   },
   {
    "duration": 113,
    "start_time": "2022-05-22T12:39:53.921Z"
   },
   {
    "duration": 126,
    "start_time": "2022-05-22T12:41:21.697Z"
   },
   {
    "duration": 106,
    "start_time": "2022-05-22T12:41:47.398Z"
   },
   {
    "duration": 140,
    "start_time": "2022-05-22T12:42:16.234Z"
   },
   {
    "duration": 43,
    "start_time": "2022-05-22T12:48:13.982Z"
   },
   {
    "duration": 27,
    "start_time": "2022-05-22T12:48:41.537Z"
   },
   {
    "duration": 119,
    "start_time": "2022-05-22T12:48:50.799Z"
   },
   {
    "duration": 111,
    "start_time": "2022-05-22T12:49:05.257Z"
   },
   {
    "duration": 43,
    "start_time": "2022-05-22T12:49:23.478Z"
   },
   {
    "duration": 148,
    "start_time": "2022-05-22T12:49:35.294Z"
   },
   {
    "duration": 32,
    "start_time": "2022-05-22T12:49:47.663Z"
   },
   {
    "duration": 117,
    "start_time": "2022-05-22T12:50:16.293Z"
   },
   {
    "duration": 122,
    "start_time": "2022-05-22T12:53:20.863Z"
   },
   {
    "duration": 108,
    "start_time": "2022-05-22T12:53:42.761Z"
   },
   {
    "duration": 142,
    "start_time": "2022-05-22T12:53:49.884Z"
   },
   {
    "duration": 133,
    "start_time": "2022-05-22T12:54:15.824Z"
   },
   {
    "duration": 129,
    "start_time": "2022-05-22T12:55:28.793Z"
   },
   {
    "duration": 130,
    "start_time": "2022-05-22T12:55:59.064Z"
   },
   {
    "duration": 118,
    "start_time": "2022-05-22T12:56:08.173Z"
   },
   {
    "duration": 32,
    "start_time": "2022-05-22T13:04:16.997Z"
   },
   {
    "duration": 29,
    "start_time": "2022-05-22T13:04:25.121Z"
   },
   {
    "duration": 14,
    "start_time": "2022-05-22T13:05:40.365Z"
   },
   {
    "duration": 13,
    "start_time": "2022-05-22T13:05:59.870Z"
   },
   {
    "duration": 80,
    "start_time": "2022-05-22T13:06:16.826Z"
   },
   {
    "duration": 11,
    "start_time": "2022-05-22T13:17:42.621Z"
   },
   {
    "duration": 146,
    "start_time": "2022-05-22T13:18:05.989Z"
   },
   {
    "duration": 146,
    "start_time": "2022-05-22T13:18:34.535Z"
   },
   {
    "duration": 141,
    "start_time": "2022-05-22T13:19:10.169Z"
   },
   {
    "duration": 12,
    "start_time": "2022-05-22T13:20:28.180Z"
   },
   {
    "duration": 142,
    "start_time": "2022-05-22T13:20:42.427Z"
   },
   {
    "duration": 7,
    "start_time": "2022-05-22T13:24:10.691Z"
   },
   {
    "duration": 6,
    "start_time": "2022-05-22T13:26:03.709Z"
   },
   {
    "duration": 43,
    "start_time": "2022-05-22T13:27:03.122Z"
   },
   {
    "duration": 16,
    "start_time": "2022-05-22T13:27:16.794Z"
   },
   {
    "duration": 16,
    "start_time": "2022-05-22T13:27:30.593Z"
   },
   {
    "duration": 20,
    "start_time": "2022-05-22T13:27:34.535Z"
   },
   {
    "duration": 4,
    "start_time": "2022-05-22T13:30:11.660Z"
   },
   {
    "duration": 18,
    "start_time": "2022-05-22T13:31:05.503Z"
   },
   {
    "duration": 9,
    "start_time": "2022-05-22T13:31:54.899Z"
   },
   {
    "duration": 35,
    "start_time": "2022-05-22T13:32:38.024Z"
   },
   {
    "duration": 66,
    "start_time": "2022-05-22T16:01:48.473Z"
   },
   {
    "duration": 2367,
    "start_time": "2022-05-22T16:01:55.397Z"
   },
   {
    "duration": 1572,
    "start_time": "2022-05-22T16:01:57.767Z"
   },
   {
    "duration": 751,
    "start_time": "2022-05-22T16:01:59.342Z"
   },
   {
    "duration": 16,
    "start_time": "2022-05-22T16:02:00.096Z"
   },
   {
    "duration": 73,
    "start_time": "2022-05-22T16:02:00.115Z"
   },
   {
    "duration": 25,
    "start_time": "2022-05-22T16:02:00.199Z"
   },
   {
    "duration": 36,
    "start_time": "2022-05-22T16:02:00.225Z"
   },
   {
    "duration": 96,
    "start_time": "2022-05-22T16:02:00.263Z"
   },
   {
    "duration": 18,
    "start_time": "2022-05-22T16:02:00.361Z"
   },
   {
    "duration": 113,
    "start_time": "2022-05-22T16:02:00.381Z"
   },
   {
    "duration": 66,
    "start_time": "2022-05-22T16:02:00.496Z"
   },
   {
    "duration": 139,
    "start_time": "2022-05-22T16:02:00.564Z"
   },
   {
    "duration": 223,
    "start_time": "2022-05-22T16:02:00.705Z"
   },
   {
    "duration": 34,
    "start_time": "2022-05-22T16:02:00.931Z"
   },
   {
    "duration": 46,
    "start_time": "2022-05-22T16:02:00.967Z"
   },
   {
    "duration": 143,
    "start_time": "2022-05-22T16:02:01.015Z"
   },
   {
    "duration": 8,
    "start_time": "2022-05-22T16:02:01.159Z"
   },
   {
    "duration": 532,
    "start_time": "2022-05-22T16:02:01.169Z"
   },
   {
    "duration": 22,
    "start_time": "2022-05-22T16:02:01.704Z"
   },
   {
    "duration": 318,
    "start_time": "2022-05-22T16:02:01.728Z"
   },
   {
    "duration": 218,
    "start_time": "2022-05-22T16:02:02.048Z"
   },
   {
    "duration": 42,
    "start_time": "2022-05-22T16:02:02.268Z"
   },
   {
    "duration": 149,
    "start_time": "2022-05-22T16:02:02.312Z"
   },
   {
    "duration": 217,
    "start_time": "2022-05-22T16:02:02.463Z"
   },
   {
    "duration": 79,
    "start_time": "2022-05-22T16:02:02.683Z"
   },
   {
    "duration": 97,
    "start_time": "2022-05-22T16:02:02.764Z"
   },
   {
    "duration": 164,
    "start_time": "2022-05-22T16:02:02.863Z"
   },
   {
    "duration": 11,
    "start_time": "2022-05-22T16:02:03.029Z"
   },
   {
    "duration": 910,
    "start_time": "2022-05-22T16:02:03.042Z"
   },
   {
    "duration": 0,
    "start_time": "2022-05-22T16:02:03.954Z"
   },
   {
    "duration": 0,
    "start_time": "2022-05-22T16:02:03.955Z"
   },
   {
    "duration": 1,
    "start_time": "2022-05-22T16:02:03.956Z"
   },
   {
    "duration": 0,
    "start_time": "2022-05-22T16:02:03.958Z"
   },
   {
    "duration": 0,
    "start_time": "2022-05-22T16:02:03.959Z"
   },
   {
    "duration": 0,
    "start_time": "2022-05-22T16:02:03.960Z"
   },
   {
    "duration": 0,
    "start_time": "2022-05-22T16:02:03.961Z"
   },
   {
    "duration": 0,
    "start_time": "2022-05-22T16:02:03.962Z"
   },
   {
    "duration": 0,
    "start_time": "2022-05-22T16:02:03.963Z"
   },
   {
    "duration": 0,
    "start_time": "2022-05-22T16:02:03.964Z"
   },
   {
    "duration": 0,
    "start_time": "2022-05-22T16:02:03.985Z"
   },
   {
    "duration": 0,
    "start_time": "2022-05-22T16:02:03.986Z"
   },
   {
    "duration": 0,
    "start_time": "2022-05-22T16:02:03.986Z"
   },
   {
    "duration": 2362,
    "start_time": "2022-05-22T16:02:57.056Z"
   },
   {
    "duration": 5,
    "start_time": "2022-05-22T16:02:59.421Z"
   },
   {
    "duration": 193,
    "start_time": "2022-05-22T16:02:59.428Z"
   },
   {
    "duration": 9,
    "start_time": "2022-05-22T16:02:59.623Z"
   },
   {
    "duration": 22,
    "start_time": "2022-05-22T16:02:59.634Z"
   },
   {
    "duration": 4,
    "start_time": "2022-05-22T16:02:59.657Z"
   },
   {
    "duration": 32,
    "start_time": "2022-05-22T16:02:59.662Z"
   },
   {
    "duration": 15,
    "start_time": "2022-05-22T16:02:59.695Z"
   },
   {
    "duration": 6,
    "start_time": "2022-05-22T16:02:59.713Z"
   },
   {
    "duration": 89,
    "start_time": "2022-05-22T16:02:59.720Z"
   },
   {
    "duration": 59,
    "start_time": "2022-05-22T16:02:59.810Z"
   },
   {
    "duration": 134,
    "start_time": "2022-05-22T16:02:59.886Z"
   },
   {
    "duration": 225,
    "start_time": "2022-05-22T16:03:00.022Z"
   },
   {
    "duration": 49,
    "start_time": "2022-05-22T16:03:00.251Z"
   },
   {
    "duration": 9,
    "start_time": "2022-05-22T16:03:00.302Z"
   },
   {
    "duration": 94,
    "start_time": "2022-05-22T16:03:00.314Z"
   },
   {
    "duration": 7,
    "start_time": "2022-05-22T16:03:00.410Z"
   },
   {
    "duration": 298,
    "start_time": "2022-05-22T16:03:00.418Z"
   },
   {
    "duration": 19,
    "start_time": "2022-05-22T16:03:00.718Z"
   },
   {
    "duration": 299,
    "start_time": "2022-05-22T16:03:00.738Z"
   },
   {
    "duration": 311,
    "start_time": "2022-05-22T16:03:01.039Z"
   },
   {
    "duration": 51,
    "start_time": "2022-05-22T16:03:01.352Z"
   },
   {
    "duration": 141,
    "start_time": "2022-05-22T16:03:01.406Z"
   },
   {
    "duration": 189,
    "start_time": "2022-05-22T16:03:01.549Z"
   },
   {
    "duration": 86,
    "start_time": "2022-05-22T16:03:01.739Z"
   },
   {
    "duration": 100,
    "start_time": "2022-05-22T16:03:01.828Z"
   },
   {
    "duration": 209,
    "start_time": "2022-05-22T16:03:01.930Z"
   },
   {
    "duration": 13,
    "start_time": "2022-05-22T16:03:02.142Z"
   },
   {
    "duration": 181,
    "start_time": "2022-05-22T16:03:02.156Z"
   },
   {
    "duration": 13,
    "start_time": "2022-05-22T16:03:02.339Z"
   },
   {
    "duration": 53,
    "start_time": "2022-05-22T16:03:02.354Z"
   },
   {
    "duration": 34,
    "start_time": "2022-05-22T16:03:02.409Z"
   },
   {
    "duration": 8,
    "start_time": "2022-05-22T16:03:02.445Z"
   },
   {
    "duration": 3,
    "start_time": "2022-05-22T16:03:02.455Z"
   },
   {
    "duration": 136,
    "start_time": "2022-05-22T16:03:02.460Z"
   },
   {
    "duration": 6,
    "start_time": "2022-05-22T16:03:02.601Z"
   },
   {
    "duration": 19,
    "start_time": "2022-05-22T16:03:02.609Z"
   },
   {
    "duration": 7,
    "start_time": "2022-05-22T16:03:02.630Z"
   },
   {
    "duration": 8,
    "start_time": "2022-05-22T16:03:02.639Z"
   },
   {
    "duration": 9,
    "start_time": "2022-05-22T16:03:02.648Z"
   },
   {
    "duration": 41,
    "start_time": "2022-05-22T16:03:02.660Z"
   },
   {
    "duration": 133,
    "start_time": "2022-05-22T16:03:02.704Z"
   },
   {
    "duration": 50,
    "start_time": "2022-05-22T16:03:16.104Z"
   },
   {
    "duration": 83,
    "start_time": "2022-05-22T16:03:23.292Z"
   },
   {
    "duration": 3,
    "start_time": "2022-05-22T16:04:38.654Z"
   },
   {
    "duration": 15,
    "start_time": "2022-05-22T16:05:10.597Z"
   },
   {
    "duration": 45,
    "start_time": "2022-05-22T16:06:51.992Z"
   },
   {
    "duration": 56,
    "start_time": "2022-05-22T16:06:58.458Z"
   },
   {
    "duration": 6,
    "start_time": "2022-05-22T16:08:38.288Z"
   },
   {
    "duration": 473,
    "start_time": "2022-05-22T16:12:11.582Z"
   },
   {
    "duration": 633,
    "start_time": "2022-05-22T16:12:15.862Z"
   },
   {
    "duration": 5,
    "start_time": "2022-05-22T16:12:35.381Z"
   },
   {
    "duration": 9,
    "start_time": "2022-05-22T16:13:21.142Z"
   },
   {
    "duration": 12,
    "start_time": "2022-05-22T16:16:56.941Z"
   },
   {
    "duration": 10,
    "start_time": "2022-05-22T16:17:40.456Z"
   },
   {
    "duration": 12,
    "start_time": "2022-05-22T16:17:44.577Z"
   },
   {
    "duration": 6,
    "start_time": "2022-05-22T16:17:48.998Z"
   },
   {
    "duration": 551,
    "start_time": "2022-05-22T16:17:49.559Z"
   },
   {
    "duration": 442,
    "start_time": "2022-05-22T16:18:58.114Z"
   },
   {
    "duration": 5,
    "start_time": "2022-05-22T16:19:19.669Z"
   },
   {
    "duration": 6,
    "start_time": "2022-05-22T16:19:53.804Z"
   },
   {
    "duration": 5,
    "start_time": "2022-05-22T16:20:31.827Z"
   },
   {
    "duration": 7,
    "start_time": "2022-05-22T16:24:13.991Z"
   },
   {
    "duration": 6,
    "start_time": "2022-05-22T16:24:18.371Z"
   },
   {
    "duration": 5,
    "start_time": "2022-05-22T16:24:18.805Z"
   },
   {
    "duration": 4,
    "start_time": "2022-05-22T16:25:32.044Z"
   },
   {
    "duration": 4,
    "start_time": "2022-05-22T16:25:53.252Z"
   },
   {
    "duration": 11,
    "start_time": "2022-05-22T16:26:32.062Z"
   },
   {
    "duration": 13,
    "start_time": "2022-05-22T16:27:46.844Z"
   },
   {
    "duration": 11,
    "start_time": "2022-05-22T16:28:12.482Z"
   },
   {
    "duration": 12,
    "start_time": "2022-05-22T16:30:50.443Z"
   },
   {
    "duration": 16,
    "start_time": "2022-05-22T16:31:57.207Z"
   },
   {
    "duration": 654,
    "start_time": "2022-05-22T16:33:35.903Z"
   },
   {
    "duration": 13717,
    "start_time": "2022-05-22T16:35:03.364Z"
   },
   {
    "duration": 80,
    "start_time": "2022-05-22T16:35:38.280Z"
   },
   {
    "duration": 47,
    "start_time": "2022-05-22T16:36:11.473Z"
   },
   {
    "duration": 110,
    "start_time": "2022-05-22T16:36:17.461Z"
   },
   {
    "duration": 6,
    "start_time": "2022-05-22T16:36:28.836Z"
   },
   {
    "duration": 6,
    "start_time": "2022-05-22T16:36:59.704Z"
   },
   {
    "duration": 45,
    "start_time": "2022-05-22T16:37:11.930Z"
   },
   {
    "duration": 15,
    "start_time": "2022-05-22T16:38:06.816Z"
   },
   {
    "duration": 49,
    "start_time": "2022-05-22T16:40:51.238Z"
   },
   {
    "duration": 13,
    "start_time": "2022-05-22T16:41:00.413Z"
   },
   {
    "duration": 134,
    "start_time": "2022-05-22T17:01:26.118Z"
   },
   {
    "duration": 12,
    "start_time": "2022-05-22T17:02:26.490Z"
   }
  ],
  "kernelspec": {
   "display_name": "Python 3 (ipykernel)",
   "language": "python",
   "name": "python3"
  },
  "language_info": {
   "codemirror_mode": {
    "name": "ipython",
    "version": 3
   },
   "file_extension": ".py",
   "mimetype": "text/x-python",
   "name": "python",
   "nbconvert_exporter": "python",
   "pygments_lexer": "ipython3",
   "version": "3.9.5"
  },
  "toc": {
   "base_numbering": 1,
   "nav_menu": {},
   "number_sections": true,
   "sideBar": true,
   "skip_h1_title": true,
   "title_cell": "Table of Contents",
   "title_sidebar": "Contents",
   "toc_cell": false,
   "toc_position": {},
   "toc_section_display": true,
   "toc_window_display": true
  }
 },
 "nbformat": 4,
 "nbformat_minor": 2
}

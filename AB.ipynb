{
 "cells": [
  {
   "cell_type": "markdown",
   "metadata": {},
   "source": [
    "Описание проекта 1: в первой части необходимо проанализировать какие гипотезы следует реализовать в какой последовательности исходя из определённых показателей"
   ]
  },
  {
   "cell_type": "markdown",
   "metadata": {},
   "source": [
    "Дан датасет в котором каждой теориии присвоен ряд характеристик\n",
    "1. Reach  охват аудитории, который затронет от внедрения данной гипотезы\n",
    "2. Impact  то насколько сильно изменение повлияет при его внедрении\n",
    "3. Confidence уверенность, что изменение повлияют то насколько они оценены\n",
    "4. Efforts стоимость тестировки идеи\n",
    "Изходя из всех этих характеристик нужно просчитать приоритезацию задач"
   ]
  },
  {
   "cell_type": "markdown",
   "metadata": {},
   "source": [
    "Описание проета 2: во второй части проекта необходимо проанализировать проведённый А/В тест, на основе имеющихся датасетов (собранных данных за время проведения теста). Задача стоит в том чтобы ответить на вопрос, повлияли ли внедрённые изменения, и если повлияли то как и насколько (приносят ли они выгоду организации)  "
   ]
  },
  {
   "cell_type": "markdown",
   "metadata": {},
   "source": [
    "Дано два датасета в 1-ом даны заказы пользователей, есть id каждого пользователя, id заказа, группа (А или В) в которой заказ был выполнен и этим трём характеристикам соответсвует сумма на которую каждый такой заказ был сделан. Второй датасет показывает на каждую дату по каждой группе сколько было посетителей. "
   ]
  },
  {
   "cell_type": "code",
   "execution_count": 1,
   "metadata": {},
   "outputs": [],
   "source": [
    "import pandas as pd\n",
    "from scipy import stats as st\n",
    "import numpy as np\n",
    "import matplotlib.pyplot as plt "
   ]
  },
  {
   "cell_type": "markdown",
   "metadata": {},
   "source": [
    "Изучим предпологаемые к внедрению гипотезы, и сделаем их приоритезацию, на основе имеющихся показателей 'Reach', 'Impact', 'Confidence', 'Efforts'"
   ]
  },
  {
   "cell_type": "code",
   "execution_count": 2,
   "metadata": {},
   "outputs": [],
   "source": [
    "hyp = pd.read_csv('hypothesis.csv')"
   ]
  },
  {
   "cell_type": "code",
   "execution_count": 3,
   "metadata": {},
   "outputs": [
    {
     "name": "stdout",
     "output_type": "stream",
     "text": [
      "                                          Hypothesis  Reach  Impact  \\\n",
      "0  Добавить два новых канала привлечения трафика,...      3      10   \n",
      "1  Запустить собственную службу доставки, что сок...      2       5   \n",
      "2  Добавить блоки рекомендаций товаров на сайт ин...      8       3   \n",
      "3  Изменить структура категорий, что увеличит кон...      8       3   \n",
      "4  Изменить цвет фона главной страницы, чтобы уве...      3       1   \n",
      "5  Добавить страницу отзывов клиентов о магазине,...      3       2   \n",
      "6  Показать на главной странице баннеры с актуаль...      5       3   \n",
      "7  Добавить форму подписки на все основные страни...     10       7   \n",
      "8  Запустить акцию, дающую скидку на товар в день...      1       9   \n",
      "\n",
      "   Confidence  Efforts  \n",
      "0           8        6  \n",
      "1           4       10  \n",
      "2           7        3  \n",
      "3           3        8  \n",
      "4           1        1  \n",
      "5           2        3  \n",
      "6           8        3  \n",
      "7           8        5  \n",
      "8           9        5  \n"
     ]
    }
   ],
   "source": [
    "print(hyp)"
   ]
  },
  {
   "cell_type": "code",
   "execution_count": 4,
   "metadata": {},
   "outputs": [
    {
     "name": "stdout",
     "output_type": "stream",
     "text": [
      "Index(['Hypothesis', 'Reach', 'Impact', 'Confidence', 'Efforts'], dtype='object')\n"
     ]
    }
   ],
   "source": [
    "print(hyp.columns)"
   ]
  },
  {
   "cell_type": "markdown",
   "metadata": {},
   "source": [
    "Для приоритезации задач вычеслим параметр ICE и RICE"
   ]
  },
  {
   "cell_type": "code",
   "execution_count": 5,
   "metadata": {},
   "outputs": [],
   "source": [
    "hyp['ICE'] = (hyp['Impact'] * hyp['Confidence']) / hyp['Efforts']"
   ]
  },
  {
   "cell_type": "code",
   "execution_count": 6,
   "metadata": {},
   "outputs": [],
   "source": [
    "hyp = hyp.sort_values(by='ICE', ascending=False)"
   ]
  },
  {
   "cell_type": "code",
   "execution_count": 7,
   "metadata": {},
   "outputs": [
    {
     "name": "stdout",
     "output_type": "stream",
     "text": [
      "8    Запустить акцию, дающую скидку на товар в день...\n",
      "0    Добавить два новых канала привлечения трафика,...\n",
      "7    Добавить форму подписки на все основные страни...\n",
      "6    Показать на главной странице баннеры с актуаль...\n",
      "2    Добавить блоки рекомендаций товаров на сайт ин...\n",
      "1    Запустить собственную службу доставки, что сок...\n",
      "5    Добавить страницу отзывов клиентов о магазине,...\n",
      "3    Изменить структура категорий, что увеличит кон...\n",
      "4    Изменить цвет фона главной страницы, чтобы уве...\n",
      "Name: Hypothesis, dtype: object\n"
     ]
    }
   ],
   "source": [
    "print(hyp['Hypothesis'])"
   ]
  },
  {
   "cell_type": "code",
   "execution_count": 8,
   "metadata": {},
   "outputs": [
    {
     "name": "stdout",
     "output_type": "stream",
     "text": [
      "                                                                                            Hypothesis  \\\n",
      "7     Добавить форму подписки на все основные страницы, чтобы собрать базу клиентов для email-рассылок   \n",
      "2  Добавить блоки рекомендаций товаров на сайт интернет магазина, чтобы повысить конверсию и средни...   \n",
      "0   Добавить два новых канала привлечения трафика, что позволит привлекать на 30% больше пользователей   \n",
      "6  Показать на главной странице баннеры с актуальными акциями и распродажами, чтобы увеличить конве...   \n",
      "8                                              Запустить акцию, дающую скидку на товар в день рождения   \n",
      "3  Изменить структура категорий, что увеличит конверсию, т.к. пользователи быстрее найдут нужный товар   \n",
      "1                            Запустить собственную службу доставки, что сократит срок доставки заказов   \n",
      "5             Добавить страницу отзывов клиентов о магазине, что позволит увеличить количество заказов   \n",
      "4                     Изменить цвет фона главной страницы, чтобы увеличить вовлеченность пользователей   \n",
      "\n",
      "   Reach  Impact  Confidence  Efforts        ICE   RICE  \n",
      "7     10       7           8        5  11.200000  112.0  \n",
      "2      8       3           7        3   7.000000   56.0  \n",
      "0      3      10           8        6  13.333333   40.0  \n",
      "6      5       3           8        3   8.000000   40.0  \n",
      "8      1       9           9        5  16.200000   16.2  \n",
      "3      8       3           3        8   1.125000    9.0  \n",
      "1      2       5           4       10   2.000000    4.0  \n",
      "5      3       2           2        3   1.333333    4.0  \n",
      "4      3       1           1        1   1.000000    3.0  \n"
     ]
    }
   ],
   "source": [
    "hyp['RICE'] = (hyp['Reach'] * hyp['Impact'] * hyp['Confidence']) / hyp['Efforts']\n",
    "hyp = hyp.sort_values(by='RICE', ascending=False)\n",
    "pd.options.display.max_colwidth = 100\n",
    "print(hyp)\n",
    "\n"
   ]
  },
  {
   "cell_type": "markdown",
   "metadata": {},
   "source": [
    "Вывод параветр RICE и ICE не существенно но отличаются, данные изменения произошли после учёта параметра Reach (кол-во пользователей которых затронет изменение), те гипотезы которые были при анализе параметра ICE были на более высоком месте, из за не столько широкого охвата действующих пользователей, сместились на немного низкие позиции. "
   ]
  },
  {
   "cell_type": "markdown",
   "metadata": {},
   "source": [
    "на первом месте по значимости у нас стала гипотеза 'Добавить форму подписки на все основные страницы, чтобы собрать базу клиентов для email-рассылок' данная гипотеза вышла в лидеры за счёт за счёт широкого охвата, по характеристике охвата гипотеза занимает первое место, у гипоттезы средний показатель Impact, т.е внедрение гиппотезы хорошо повлияет на результат, но гипотеза обладает высокой,хоть и не самой, оценкой уверенности (Confidence = 8), и высрким показателям Efforts стоимости внедрения. В совокупности гипотеза имеет не самые высокие показатели, но зато достаточно высокие по всем показателям, и средние по стоимости внедрения к внедрению.\n",
    "\n",
    "На втором месте с большим отставанием идёт гиппотеза 'Добавить блоки рекомендаций товаров на сайт интернет магазина, чтобы повысить конверсию и средний чек заказа'\n",
    "У гиппотезы  высокие показатель Confidence и Reach маленький показатель Impact, но очень хороший показатель Efforts \n",
    "\n",
    "На третьем месте гиппотеза 'Добавить два новых канала привлечения трафика, что позволит привлекать на 30% больше пользователей' у данной гипотезы самый высокий показатель Impact и очень высокий показатель Confidence, но низкий Reach  и большая стоимость к внедрению, ставит гипотезу на третье место\n",
    "\n",
    "На третьем месте так же находится теория 'Показать на главной странице баннеры с актуальными акциями и распродажами, чтобы увеличить конверсию' у этой гипотезы противоположенная ситуация три характеристики (Reach  Impact  Confidence) очень низкие, но так же и самая низкая стоимость внедрения, что делает эту гиппотезу равноценной предыдущей\n",
    "\n",
    "Остальные гиппотезы, намного хуже по оценкам, стоит сосрнедоточиться на внедрении 4-х предыдущих\n"
   ]
  },
  {
   "cell_type": "markdown",
   "metadata": {},
   "source": [
    "Проанализируйте A/B-тест"
   ]
  },
  {
   "cell_type": "code",
   "execution_count": 9,
   "metadata": {},
   "outputs": [],
   "source": [
    "orders = pd.read_csv('orders.csv')\n",
    "visits = pd.read_csv('visitors.csv')"
   ]
  },
  {
   "cell_type": "code",
   "execution_count": 10,
   "metadata": {
    "scrolled": false
   },
   "outputs": [
    {
     "data": {
      "text/html": [
       "<div>\n",
       "<style scoped>\n",
       "    .dataframe tbody tr th:only-of-type {\n",
       "        vertical-align: middle;\n",
       "    }\n",
       "\n",
       "    .dataframe tbody tr th {\n",
       "        vertical-align: top;\n",
       "    }\n",
       "\n",
       "    .dataframe thead th {\n",
       "        text-align: right;\n",
       "    }\n",
       "</style>\n",
       "<table border=\"1\" class=\"dataframe\">\n",
       "  <thead>\n",
       "    <tr style=\"text-align: right;\">\n",
       "      <th></th>\n",
       "      <th>transactionId</th>\n",
       "      <th>visitorId</th>\n",
       "      <th>date</th>\n",
       "      <th>revenue</th>\n",
       "      <th>group</th>\n",
       "    </tr>\n",
       "  </thead>\n",
       "  <tbody>\n",
       "    <tr>\n",
       "      <th>0</th>\n",
       "      <td>3667963787</td>\n",
       "      <td>3312258926</td>\n",
       "      <td>2019-08-15</td>\n",
       "      <td>1650</td>\n",
       "      <td>B</td>\n",
       "    </tr>\n",
       "    <tr>\n",
       "      <th>1</th>\n",
       "      <td>2804400009</td>\n",
       "      <td>3642806036</td>\n",
       "      <td>2019-08-15</td>\n",
       "      <td>730</td>\n",
       "      <td>B</td>\n",
       "    </tr>\n",
       "    <tr>\n",
       "      <th>2</th>\n",
       "      <td>2961555356</td>\n",
       "      <td>4069496402</td>\n",
       "      <td>2019-08-15</td>\n",
       "      <td>400</td>\n",
       "      <td>A</td>\n",
       "    </tr>\n",
       "    <tr>\n",
       "      <th>3</th>\n",
       "      <td>3797467345</td>\n",
       "      <td>1196621759</td>\n",
       "      <td>2019-08-15</td>\n",
       "      <td>9759</td>\n",
       "      <td>B</td>\n",
       "    </tr>\n",
       "    <tr>\n",
       "      <th>4</th>\n",
       "      <td>2282983706</td>\n",
       "      <td>2322279887</td>\n",
       "      <td>2019-08-15</td>\n",
       "      <td>2308</td>\n",
       "      <td>B</td>\n",
       "    </tr>\n",
       "  </tbody>\n",
       "</table>\n",
       "</div>"
      ],
      "text/plain": [
       "   transactionId   visitorId        date  revenue group\n",
       "0     3667963787  3312258926  2019-08-15     1650     B\n",
       "1     2804400009  3642806036  2019-08-15      730     B\n",
       "2     2961555356  4069496402  2019-08-15      400     A\n",
       "3     3797467345  1196621759  2019-08-15     9759     B\n",
       "4     2282983706  2322279887  2019-08-15     2308     B"
      ]
     },
     "metadata": {},
     "output_type": "display_data"
    },
    {
     "data": {
      "text/html": [
       "<div>\n",
       "<style scoped>\n",
       "    .dataframe tbody tr th:only-of-type {\n",
       "        vertical-align: middle;\n",
       "    }\n",
       "\n",
       "    .dataframe tbody tr th {\n",
       "        vertical-align: top;\n",
       "    }\n",
       "\n",
       "    .dataframe thead th {\n",
       "        text-align: right;\n",
       "    }\n",
       "</style>\n",
       "<table border=\"1\" class=\"dataframe\">\n",
       "  <thead>\n",
       "    <tr style=\"text-align: right;\">\n",
       "      <th></th>\n",
       "      <th>date</th>\n",
       "      <th>group</th>\n",
       "      <th>visitors</th>\n",
       "    </tr>\n",
       "  </thead>\n",
       "  <tbody>\n",
       "    <tr>\n",
       "      <th>0</th>\n",
       "      <td>2019-08-01</td>\n",
       "      <td>A</td>\n",
       "      <td>719</td>\n",
       "    </tr>\n",
       "    <tr>\n",
       "      <th>1</th>\n",
       "      <td>2019-08-02</td>\n",
       "      <td>A</td>\n",
       "      <td>619</td>\n",
       "    </tr>\n",
       "    <tr>\n",
       "      <th>2</th>\n",
       "      <td>2019-08-03</td>\n",
       "      <td>A</td>\n",
       "      <td>507</td>\n",
       "    </tr>\n",
       "    <tr>\n",
       "      <th>3</th>\n",
       "      <td>2019-08-04</td>\n",
       "      <td>A</td>\n",
       "      <td>717</td>\n",
       "    </tr>\n",
       "    <tr>\n",
       "      <th>4</th>\n",
       "      <td>2019-08-05</td>\n",
       "      <td>A</td>\n",
       "      <td>756</td>\n",
       "    </tr>\n",
       "  </tbody>\n",
       "</table>\n",
       "</div>"
      ],
      "text/plain": [
       "         date group  visitors\n",
       "0  2019-08-01     A       719\n",
       "1  2019-08-02     A       619\n",
       "2  2019-08-03     A       507\n",
       "3  2019-08-04     A       717\n",
       "4  2019-08-05     A       756"
      ]
     },
     "metadata": {},
     "output_type": "display_data"
    }
   ],
   "source": [
    "display(orders.head())\n",
    "display(visits.head())"
   ]
  },
  {
   "cell_type": "markdown",
   "metadata": {},
   "source": [
    "Переименую столбцы для удобства"
   ]
  },
  {
   "cell_type": "code",
   "execution_count": 11,
   "metadata": {},
   "outputs": [
    {
     "data": {
      "text/plain": [
       "Index(['order_id', 'user_id', 'date', 'revenue', 'group'], dtype='object')"
      ]
     },
     "metadata": {},
     "output_type": "display_data"
    },
    {
     "data": {
      "text/plain": [
       "Index(['date', 'group', 'visitors'], dtype='object')"
      ]
     },
     "metadata": {},
     "output_type": "display_data"
    }
   ],
   "source": [
    "orders = orders.rename(columns={'transactionId':'order_id', 'visitorId' : 'user_id'}) \n",
    "display(orders.columns)\n",
    "display(visits.columns)"
   ]
  },
  {
   "cell_type": "markdown",
   "metadata": {},
   "source": [
    "проверим данные на корректность"
   ]
  },
  {
   "cell_type": "code",
   "execution_count": 12,
   "metadata": {},
   "outputs": [
    {
     "data": {
      "text/plain": [
       "0"
      ]
     },
     "metadata": {},
     "output_type": "display_data"
    },
    {
     "name": "stdout",
     "output_type": "stream",
     "text": [
      "<class 'pandas.core.frame.DataFrame'>\n",
      "RangeIndex: 1197 entries, 0 to 1196\n",
      "Data columns (total 5 columns):\n",
      " #   Column    Non-Null Count  Dtype \n",
      "---  ------    --------------  ----- \n",
      " 0   order_id  1197 non-null   int64 \n",
      " 1   user_id   1197 non-null   int64 \n",
      " 2   date      1197 non-null   object\n",
      " 3   revenue   1197 non-null   int64 \n",
      " 4   group     1197 non-null   object\n",
      "dtypes: int64(3), object(2)\n",
      "memory usage: 46.9+ KB\n"
     ]
    },
    {
     "data": {
      "text/plain": [
       "None"
      ]
     },
     "metadata": {},
     "output_type": "display_data"
    },
    {
     "data": {
      "text/plain": [
       "count    1.197000e+03\n",
       "mean     8.348006e+03\n",
       "std      3.919113e+04\n",
       "min      5.000000e+01\n",
       "25%      1.220000e+03\n",
       "50%      2.978000e+03\n",
       "75%      8.290000e+03\n",
       "max      1.294500e+06\n",
       "Name: revenue, dtype: float64"
      ]
     },
     "metadata": {},
     "output_type": "display_data"
    }
   ],
   "source": [
    "display(orders.duplicated().sum())\n",
    "display(orders.info())\n",
    "display(orders['revenue'].describe())"
   ]
  },
  {
   "cell_type": "code",
   "execution_count": 13,
   "metadata": {
    "scrolled": false
   },
   "outputs": [
    {
     "data": {
      "text/plain": [
       "array([   8290.  ,    8779.88,    9047.92,    9448.  ,    9866.8 ,\n",
       "         10239.  ,   10835.84,   11653.56,   12431.6 ,   13299.64,\n",
       "         14212.  ,   15035.92,   16073.08,   16969.2 ,   17825.44,\n",
       "         18168.  ,   19247.2 ,   19525.76,   21312.4 ,   25120.8 ,\n",
       "         28000.  ,   31382.  ,   35485.  ,   44133.2 ,   58233.2 ,\n",
       "       1294500.  ])"
      ]
     },
     "execution_count": 13,
     "metadata": {},
     "output_type": "execute_result"
    },
    {
     "data": {
      "image/png": "[encoded data removed]",
      "text/plain": [
       "<Figure size 432x288 with 1 Axes>"
      ]
     },
     "metadata": {
      "needs_background": "light"
     },
     "output_type": "display_data"
    }
   ],
   "source": [
    "x_values = pd.Series(range(0,len(orders['revenue'])))\n",
    "plt.xlabel('Заказы')\n",
    "plt.ylabel('Выручка от заказа')\n",
    "plt.scatter(x_values, orders['revenue'])\n",
    "np.percentile(orders['revenue'], list(x for x in range(75,101)))"
   ]
  },
  {
   "cell_type": "code",
   "execution_count": 14,
   "metadata": {},
   "outputs": [
    {
     "name": "stdout",
     "output_type": "stream",
     "text": [
      "[1.000000e+02 1.292000e+02 1.900000e+02 2.900000e+02 3.000000e+02\n",
      " 3.597600e+02 3.900000e+02 4.000000e+02 4.200000e+02 4.700000e+02\n",
      " 5.000000e+02 5.800000e+02 6.148000e+02 6.900000e+02 7.400000e+02\n",
      " 7.800000e+02 8.300000e+02 8.900000e+02 9.272000e+02 9.900000e+02\n",
      " 9.950000e+02 1.090000e+03 1.120000e+03 1.190000e+03 1.220000e+03\n",
      " 1.290000e+03 1.390000e+03 1.448800e+03 1.490000e+03 1.530000e+03\n",
      " 1.587600e+03 1.640000e+03 1.709040e+03 1.790000e+03 1.836000e+03\n",
      " 1.889480e+03 1.950000e+03 1.990000e+03 2.070000e+03 2.210000e+03\n",
      " 2.312320e+03 2.355000e+03 2.424480e+03 2.502400e+03 2.550000e+03\n",
      " 2.613200e+03 2.675920e+03 2.790800e+03 2.938480e+03 2.978000e+03\n",
      " 3.070000e+03 3.190000e+03 3.316400e+03 3.446800e+03 3.488000e+03\n",
      " 3.597600e+03 3.798720e+03 4.008000e+03 4.204600e+03 4.483000e+03\n",
      " 4.690000e+03 4.880000e+03 4.990000e+03 5.132640e+03 5.338000e+03\n",
      " 5.530000e+03 5.749600e+03 6.068400e+03 6.266720e+03 6.441800e+03\n",
      " 6.677640e+03 6.990000e+03 7.397600e+03 7.990000e+03 8.290000e+03\n",
      " 8.779880e+03 9.047920e+03 9.448000e+03 9.866800e+03 1.023900e+04\n",
      " 1.083584e+04 1.165356e+04 1.243160e+04 1.329964e+04 1.421200e+04\n",
      " 1.503592e+04 1.607308e+04 1.696920e+04 1.782544e+04 1.816800e+04\n",
      " 1.924720e+04 1.952576e+04 2.131240e+04 2.512080e+04 2.800000e+04\n",
      " 3.138200e+04 3.548500e+04 4.413320e+04 5.823320e+04 1.294500e+06]\n"
     ]
    }
   ],
   "source": [
    "print(np.percentile(orders['revenue'], list(x for x in range(1,101)) ))"
   ]
  },
  {
   "cell_type": "code",
   "execution_count": 15,
   "metadata": {},
   "outputs": [
    {
     "data": {
      "image/png": "[encoded data removed]",
      "text/plain": [
       "<Figure size 1296x720 with 4 Axes>"
      ]
     },
     "metadata": {
      "needs_background": "light"
     },
     "output_type": "display_data"
    }
   ],
   "source": [
    "\n",
    "procents = list(x for x in np.arange(1,100, 0.1))\n",
    "\n",
    "plt.figure(figsize=(18,10)) \n",
    "plt.subplot(2,2,1)\n",
    "plt.xlabel('Перцентиль')\n",
    "plt.ylabel('Выручка от заказа')\n",
    "plt.plot(np.arange(1,100,0.1), pd.Series(list(np.percentile(orders['revenue'], list(x for x in np.arange(1,100,0.1))))))\n",
    "plt.subplot(2,2,2)\n",
    "plt.xlabel('Перцентиль')\n",
    "plt.ylabel('Выручка от заказа')\n",
    "plt.plot(np.arange(80,100,0.1), pd.Series(list(np.percentile(orders['revenue'], list(x for x in np.arange(80,100,0.1))))))\n",
    "plt.subplot(2,2,3)\n",
    "plt.xlabel('Перцентиль')\n",
    "plt.ylabel('Выручка от заказа')\n",
    "plt.plot(np.arange(90,100,0.1), pd.Series(list(np.percentile(orders['revenue'], list(x for x in np.arange(90,100,0.1))))))\n",
    "plt.subplot(2,2,4)\n",
    "plt.xlabel('Перцентиль')\n",
    "plt.ylabel('Выручка от заказа')\n",
    "plt.plot(np.arange(99,100,0.1), pd.Series(list(np.percentile(orders['revenue'], list(x for x in np.arange(99,100,0.1))))))\n",
    "plt.show()"
   ]
  },
  {
   "cell_type": "markdown",
   "metadata": {},
   "source": [
    "Выброс в показателе суммы заказа отмечен у 0,2 процентов пользователей"
   ]
  },
  {
   "cell_type": "markdown",
   "metadata": {},
   "source": [
    "Анализируя датафрейм orders можно сказать:\n",
    "1. Дубликатов нет\n",
    "2. Отсутсвующих значений нет\n",
    "3. Отклонение суммы заказов (слишком большие по стоимости затраты искажают данные ) у 1 процента пользоватетей (особенно у 0,2 %)\n",
    "4. нужно перевести даты в соответствующий формат\n"
   ]
  },
  {
   "cell_type": "code",
   "execution_count": 16,
   "metadata": {},
   "outputs": [],
   "source": [
    "orders['date'] = pd.to_datetime(orders['date'])\n",
    "visits['date'] = pd.to_datetime(visits['date'])"
   ]
  },
  {
   "cell_type": "markdown",
   "metadata": {},
   "source": [
    "Построим график кумулятивной выручки по группам"
   ]
  },
  {
   "cell_type": "code",
   "execution_count": 17,
   "metadata": {},
   "outputs": [
    {
     "data": {
      "text/html": [
       "<div>\n",
       "<style scoped>\n",
       "    .dataframe tbody tr th:only-of-type {\n",
       "        vertical-align: middle;\n",
       "    }\n",
       "\n",
       "    .dataframe tbody tr th {\n",
       "        vertical-align: top;\n",
       "    }\n",
       "\n",
       "    .dataframe thead th {\n",
       "        text-align: right;\n",
       "    }\n",
       "</style>\n",
       "<table border=\"1\" class=\"dataframe\">\n",
       "  <thead>\n",
       "    <tr style=\"text-align: right;\">\n",
       "      <th></th>\n",
       "      <th>date</th>\n",
       "      <th>group</th>\n",
       "      <th>order_id</th>\n",
       "      <th>user_id</th>\n",
       "      <th>revenue</th>\n",
       "    </tr>\n",
       "  </thead>\n",
       "  <tbody>\n",
       "    <tr>\n",
       "      <th>55</th>\n",
       "      <td>2019-08-01</td>\n",
       "      <td>A</td>\n",
       "      <td>24</td>\n",
       "      <td>20</td>\n",
       "      <td>148579</td>\n",
       "    </tr>\n",
       "    <tr>\n",
       "      <th>66</th>\n",
       "      <td>2019-08-01</td>\n",
       "      <td>B</td>\n",
       "      <td>21</td>\n",
       "      <td>20</td>\n",
       "      <td>101217</td>\n",
       "    </tr>\n",
       "    <tr>\n",
       "      <th>175</th>\n",
       "      <td>2019-08-02</td>\n",
       "      <td>A</td>\n",
       "      <td>44</td>\n",
       "      <td>38</td>\n",
       "      <td>242401</td>\n",
       "    </tr>\n",
       "    <tr>\n",
       "      <th>173</th>\n",
       "      <td>2019-08-02</td>\n",
       "      <td>B</td>\n",
       "      <td>45</td>\n",
       "      <td>43</td>\n",
       "      <td>266748</td>\n",
       "    </tr>\n",
       "    <tr>\n",
       "      <th>291</th>\n",
       "      <td>2019-08-03</td>\n",
       "      <td>A</td>\n",
       "      <td>68</td>\n",
       "      <td>62</td>\n",
       "      <td>354874</td>\n",
       "    </tr>\n",
       "  </tbody>\n",
       "</table>\n",
       "</div>"
      ],
      "text/plain": [
       "          date group  order_id  user_id  revenue\n",
       "55  2019-08-01     A        24       20   148579\n",
       "66  2019-08-01     B        21       20   101217\n",
       "175 2019-08-02     A        44       38   242401\n",
       "173 2019-08-02     B        45       43   266748\n",
       "291 2019-08-03     A        68       62   354874"
      ]
     },
     "execution_count": 17,
     "metadata": {},
     "output_type": "execute_result"
    }
   ],
   "source": [
    "datesGroups = orders[['date','group']].drop_duplicates()\n",
    "ordersAggregated = datesGroups.apply(\n",
    "    lambda x: orders[\n",
    "        np.logical_and(\n",
    "            orders['date'] <= x['date'], orders['group'] == x['group']\n",
    "        )]\n",
    "    .agg({'date' : 'max', 'group' : 'max', 'order_id' : 'nunique', 'user_id' : 'nunique', 'revenue' : 'sum'}),\n",
    "    axis=1).sort_values(by=['date','group'])\n",
    "\n",
    "ordersAggregated.head()"
   ]
  },
  {
   "cell_type": "code",
   "execution_count": 18,
   "metadata": {
    "scrolled": false
   },
   "outputs": [
    {
     "data": {
      "image/png": "[encoded data removed]",
      "text/plain": [
       "<Figure size 720x360 with 1 Axes>"
      ]
     },
     "metadata": {
      "needs_background": "light"
     },
     "output_type": "display_data"
    }
   ],
   "source": [
    "orders_a = ordersAggregated.query('group == \"A\"')\n",
    "plt.figure(figsize=(10, 5))\n",
    "plt.plot(orders_a.date, orders_a.revenue, label = 'Группа А')\n",
    "\n",
    "orders_b = ordersAggregated.query('group == \"B\"')\n",
    "plt.plot(orders_b.date, orders_b.revenue, label = 'Группа B')\n",
    "plt.tight_layout()\n",
    "plt.xlabel('Даты привлечения')\n",
    "plt.ylabel('Куммулятивная выручка')\n",
    "plt.title('Кумулятивный график выручки')\n",
    "plt.grid()\n",
    "plt.legend()\n",
    "\n",
    "plt.show()"
   ]
  },
  {
   "cell_type": "markdown",
   "metadata": {},
   "source": [
    "Куммулитивный график выручки лучше у группы B  до половины наблюдаемого переиода, показатель кумулятивной выручки, был почти одинаков, затем по группе В произошёл резкий скачёк выручки, а затем разница в выручке сохранялась и оставалась на том же уровне. "
   ]
  },
  {
   "cell_type": "markdown",
   "metadata": {},
   "source": [
    "Построем график кумулятивного среднего чека по группам"
   ]
  },
  {
   "cell_type": "markdown",
   "metadata": {},
   "source": [
    "Необходимо посчитать кумулятивный приход клиентов по дням"
   ]
  },
  {
   "cell_type": "code",
   "execution_count": 19,
   "metadata": {},
   "outputs": [
    {
     "data": {
      "text/html": [
       "<div>\n",
       "<style scoped>\n",
       "    .dataframe tbody tr th:only-of-type {\n",
       "        vertical-align: middle;\n",
       "    }\n",
       "\n",
       "    .dataframe tbody tr th {\n",
       "        vertical-align: top;\n",
       "    }\n",
       "\n",
       "    .dataframe thead th {\n",
       "        text-align: right;\n",
       "    }\n",
       "</style>\n",
       "<table border=\"1\" class=\"dataframe\">\n",
       "  <thead>\n",
       "    <tr style=\"text-align: right;\">\n",
       "      <th></th>\n",
       "      <th>date</th>\n",
       "      <th>group</th>\n",
       "      <th>visitors</th>\n",
       "    </tr>\n",
       "  </thead>\n",
       "  <tbody>\n",
       "    <tr>\n",
       "      <th>0</th>\n",
       "      <td>2019-08-01</td>\n",
       "      <td>A</td>\n",
       "      <td>719</td>\n",
       "    </tr>\n",
       "    <tr>\n",
       "      <th>31</th>\n",
       "      <td>2019-08-01</td>\n",
       "      <td>B</td>\n",
       "      <td>713</td>\n",
       "    </tr>\n",
       "    <tr>\n",
       "      <th>1</th>\n",
       "      <td>2019-08-02</td>\n",
       "      <td>A</td>\n",
       "      <td>1338</td>\n",
       "    </tr>\n",
       "    <tr>\n",
       "      <th>32</th>\n",
       "      <td>2019-08-02</td>\n",
       "      <td>B</td>\n",
       "      <td>1294</td>\n",
       "    </tr>\n",
       "    <tr>\n",
       "      <th>2</th>\n",
       "      <td>2019-08-03</td>\n",
       "      <td>A</td>\n",
       "      <td>1845</td>\n",
       "    </tr>\n",
       "  </tbody>\n",
       "</table>\n",
       "</div>"
      ],
      "text/plain": [
       "         date group  visitors\n",
       "0  2019-08-01     A       719\n",
       "31 2019-08-01     B       713\n",
       "1  2019-08-02     A      1338\n",
       "32 2019-08-02     B      1294\n",
       "2  2019-08-03     A      1845"
      ]
     },
     "execution_count": 19,
     "metadata": {},
     "output_type": "execute_result"
    }
   ],
   "source": [
    "datesGroups = visits[['date','group']].drop_duplicates()\n",
    "visitsAggregated = datesGroups.apply(\n",
    "    lambda x: visits[\n",
    "        np.logical_and(\n",
    "            visits['date'] <= x['date'], visits['group'] == x['group']\n",
    "        )]\n",
    "    .agg({'date' : 'max', 'group' : 'max', 'visitors' : 'sum'}),\n",
    "    axis=1).sort_values(by=['date','group'])\n",
    "visitsAggregated.head()"
   ]
  },
  {
   "cell_type": "markdown",
   "metadata": {},
   "source": [
    "Объединим таблицы кумулятивный приход клиентов и кумулятивной выручки  "
   ]
  },
  {
   "cell_type": "code",
   "execution_count": 20,
   "metadata": {},
   "outputs": [
    {
     "data": {
      "text/html": [
       "<div>\n",
       "<style scoped>\n",
       "    .dataframe tbody tr th:only-of-type {\n",
       "        vertical-align: middle;\n",
       "    }\n",
       "\n",
       "    .dataframe tbody tr th {\n",
       "        vertical-align: top;\n",
       "    }\n",
       "\n",
       "    .dataframe thead th {\n",
       "        text-align: right;\n",
       "    }\n",
       "</style>\n",
       "<table border=\"1\" class=\"dataframe\">\n",
       "  <thead>\n",
       "    <tr style=\"text-align: right;\">\n",
       "      <th></th>\n",
       "      <th>date</th>\n",
       "      <th>group</th>\n",
       "      <th>orders</th>\n",
       "      <th>users</th>\n",
       "      <th>revenue</th>\n",
       "      <th>visitors</th>\n",
       "    </tr>\n",
       "  </thead>\n",
       "  <tbody>\n",
       "    <tr>\n",
       "      <th>0</th>\n",
       "      <td>2019-08-01</td>\n",
       "      <td>A</td>\n",
       "      <td>24</td>\n",
       "      <td>20</td>\n",
       "      <td>148579</td>\n",
       "      <td>719</td>\n",
       "    </tr>\n",
       "    <tr>\n",
       "      <th>1</th>\n",
       "      <td>2019-08-01</td>\n",
       "      <td>B</td>\n",
       "      <td>21</td>\n",
       "      <td>20</td>\n",
       "      <td>101217</td>\n",
       "      <td>713</td>\n",
       "    </tr>\n",
       "    <tr>\n",
       "      <th>2</th>\n",
       "      <td>2019-08-02</td>\n",
       "      <td>A</td>\n",
       "      <td>44</td>\n",
       "      <td>38</td>\n",
       "      <td>242401</td>\n",
       "      <td>1338</td>\n",
       "    </tr>\n",
       "    <tr>\n",
       "      <th>3</th>\n",
       "      <td>2019-08-02</td>\n",
       "      <td>B</td>\n",
       "      <td>45</td>\n",
       "      <td>43</td>\n",
       "      <td>266748</td>\n",
       "      <td>1294</td>\n",
       "    </tr>\n",
       "    <tr>\n",
       "      <th>4</th>\n",
       "      <td>2019-08-03</td>\n",
       "      <td>A</td>\n",
       "      <td>68</td>\n",
       "      <td>62</td>\n",
       "      <td>354874</td>\n",
       "      <td>1845</td>\n",
       "    </tr>\n",
       "  </tbody>\n",
       "</table>\n",
       "</div>"
      ],
      "text/plain": [
       "        date group  orders  users  revenue  visitors\n",
       "0 2019-08-01     A      24     20   148579       719\n",
       "1 2019-08-01     B      21     20   101217       713\n",
       "2 2019-08-02     A      44     38   242401      1338\n",
       "3 2019-08-02     B      45     43   266748      1294\n",
       "4 2019-08-03     A      68     62   354874      1845"
      ]
     },
     "execution_count": 20,
     "metadata": {},
     "output_type": "execute_result"
    }
   ],
   "source": [
    "df = ordersAggregated.merge(visitsAggregated, on=['date', 'group'], how='outer')\n",
    "df.columns = ['date','group','orders','users','revenue', 'visitors']\n",
    "df.head()"
   ]
  },
  {
   "cell_type": "markdown",
   "metadata": {},
   "source": [
    "Посчитаем средний чек"
   ]
  },
  {
   "cell_type": "code",
   "execution_count": 21,
   "metadata": {},
   "outputs": [
    {
     "data": {
      "text/html": [
       "<div>\n",
       "<style scoped>\n",
       "    .dataframe tbody tr th:only-of-type {\n",
       "        vertical-align: middle;\n",
       "    }\n",
       "\n",
       "    .dataframe tbody tr th {\n",
       "        vertical-align: top;\n",
       "    }\n",
       "\n",
       "    .dataframe thead th {\n",
       "        text-align: right;\n",
       "    }\n",
       "</style>\n",
       "<table border=\"1\" class=\"dataframe\">\n",
       "  <thead>\n",
       "    <tr style=\"text-align: right;\">\n",
       "      <th></th>\n",
       "      <th>date</th>\n",
       "      <th>group</th>\n",
       "      <th>orders</th>\n",
       "      <th>users</th>\n",
       "      <th>revenue</th>\n",
       "      <th>visitors</th>\n",
       "      <th>mean_chek</th>\n",
       "    </tr>\n",
       "  </thead>\n",
       "  <tbody>\n",
       "    <tr>\n",
       "      <th>0</th>\n",
       "      <td>2019-08-01</td>\n",
       "      <td>A</td>\n",
       "      <td>24</td>\n",
       "      <td>20</td>\n",
       "      <td>148579</td>\n",
       "      <td>719</td>\n",
       "      <td>6190.791667</td>\n",
       "    </tr>\n",
       "    <tr>\n",
       "      <th>1</th>\n",
       "      <td>2019-08-01</td>\n",
       "      <td>B</td>\n",
       "      <td>21</td>\n",
       "      <td>20</td>\n",
       "      <td>101217</td>\n",
       "      <td>713</td>\n",
       "      <td>4819.857143</td>\n",
       "    </tr>\n",
       "    <tr>\n",
       "      <th>2</th>\n",
       "      <td>2019-08-02</td>\n",
       "      <td>A</td>\n",
       "      <td>44</td>\n",
       "      <td>38</td>\n",
       "      <td>242401</td>\n",
       "      <td>1338</td>\n",
       "      <td>5509.113636</td>\n",
       "    </tr>\n",
       "    <tr>\n",
       "      <th>3</th>\n",
       "      <td>2019-08-02</td>\n",
       "      <td>B</td>\n",
       "      <td>45</td>\n",
       "      <td>43</td>\n",
       "      <td>266748</td>\n",
       "      <td>1294</td>\n",
       "      <td>5927.733333</td>\n",
       "    </tr>\n",
       "    <tr>\n",
       "      <th>4</th>\n",
       "      <td>2019-08-03</td>\n",
       "      <td>A</td>\n",
       "      <td>68</td>\n",
       "      <td>62</td>\n",
       "      <td>354874</td>\n",
       "      <td>1845</td>\n",
       "      <td>5218.735294</td>\n",
       "    </tr>\n",
       "  </tbody>\n",
       "</table>\n",
       "</div>"
      ],
      "text/plain": [
       "        date group  orders  users  revenue  visitors    mean_chek\n",
       "0 2019-08-01     A      24     20   148579       719  6190.791667\n",
       "1 2019-08-01     B      21     20   101217       713  4819.857143\n",
       "2 2019-08-02     A      44     38   242401      1338  5509.113636\n",
       "3 2019-08-02     B      45     43   266748      1294  5927.733333\n",
       "4 2019-08-03     A      68     62   354874      1845  5218.735294"
      ]
     },
     "execution_count": 21,
     "metadata": {},
     "output_type": "execute_result"
    }
   ],
   "source": [
    "df['mean_chek'] = df.revenue / df.orders\n",
    "df.head()"
   ]
  },
  {
   "cell_type": "markdown",
   "metadata": {},
   "source": [
    "Разделим датафрейм по группам и построим графики  кумулятивного среднего чека"
   ]
  },
  {
   "cell_type": "code",
   "execution_count": 22,
   "metadata": {},
   "outputs": [
    {
     "data": {
      "image/png": "[encoded data removed]",
      "text/plain": [
       "<Figure size 720x360 with 1 Axes>"
      ]
     },
     "metadata": {
      "needs_background": "light"
     },
     "output_type": "display_data"
    }
   ],
   "source": [
    "df_a = df.query('group == \"A\"')\n",
    "df_b = df.query('group == \"B\"')\n",
    "\n",
    "plt.figure(figsize=(10, 5))\n",
    "plt.plot(df_a.date, df_a.mean_chek, label = 'Группа А')\n",
    "\n",
    "plt.plot(df_b.date, df_b.mean_chek, label = 'Группа B')\n",
    "plt.xlabel('Даты привлечения')\n",
    "plt.ylabel('Стоимость среднего чека')\n",
    "plt.title('Кумулятивный график среднего чека')\n",
    "plt.grid()\n",
    "plt.legend()\n",
    "\n",
    "plt.show()"
   ]
  },
  {
   "cell_type": "markdown",
   "metadata": {},
   "source": [
    "График среднего чека по группе B имел хорошую динамику и постепенно повышался, до 08.17, после чего резко вырос. Затем после резкого скачка, наблюдается постепенное падение показателя, что достаточно настараживает. Группа А по среднему чеку хоть и находится ниже в сравнении с группой В, после несильного паденияня  показателя 08.13, показатель растёт очень медленно."
   ]
  },
  {
   "cell_type": "markdown",
   "metadata": {},
   "source": [
    "Постройте график относительного изменения кумулятивного среднего чека группы B к группе A."
   ]
  },
  {
   "cell_type": "markdown",
   "metadata": {},
   "source": [
    "Вычислим параметр  кумулятивного исменения среднего чека"
   ]
  },
  {
   "cell_type": "code",
   "execution_count": 23,
   "metadata": {},
   "outputs": [
    {
     "data": {
      "text/html": [
       "<div>\n",
       "<style scoped>\n",
       "    .dataframe tbody tr th:only-of-type {\n",
       "        vertical-align: middle;\n",
       "    }\n",
       "\n",
       "    .dataframe tbody tr th {\n",
       "        vertical-align: top;\n",
       "    }\n",
       "\n",
       "    .dataframe thead th {\n",
       "        text-align: right;\n",
       "    }\n",
       "</style>\n",
       "<table border=\"1\" class=\"dataframe\">\n",
       "  <thead>\n",
       "    <tr style=\"text-align: right;\">\n",
       "      <th></th>\n",
       "      <th>date</th>\n",
       "      <th>groupA</th>\n",
       "      <th>ordersA</th>\n",
       "      <th>usersA</th>\n",
       "      <th>revenueA</th>\n",
       "      <th>visitorsA</th>\n",
       "      <th>mean_chekA</th>\n",
       "      <th>groupB</th>\n",
       "      <th>ordersB</th>\n",
       "      <th>usersB</th>\n",
       "      <th>revenueB</th>\n",
       "      <th>visitorsB</th>\n",
       "      <th>mean_chekB</th>\n",
       "    </tr>\n",
       "  </thead>\n",
       "  <tbody>\n",
       "    <tr>\n",
       "      <th>0</th>\n",
       "      <td>2019-08-01</td>\n",
       "      <td>A</td>\n",
       "      <td>24</td>\n",
       "      <td>20</td>\n",
       "      <td>148579</td>\n",
       "      <td>719</td>\n",
       "      <td>6190.791667</td>\n",
       "      <td>B</td>\n",
       "      <td>21</td>\n",
       "      <td>20</td>\n",
       "      <td>101217</td>\n",
       "      <td>713</td>\n",
       "      <td>4819.857143</td>\n",
       "    </tr>\n",
       "    <tr>\n",
       "      <th>1</th>\n",
       "      <td>2019-08-02</td>\n",
       "      <td>A</td>\n",
       "      <td>44</td>\n",
       "      <td>38</td>\n",
       "      <td>242401</td>\n",
       "      <td>1338</td>\n",
       "      <td>5509.113636</td>\n",
       "      <td>B</td>\n",
       "      <td>45</td>\n",
       "      <td>43</td>\n",
       "      <td>266748</td>\n",
       "      <td>1294</td>\n",
       "      <td>5927.733333</td>\n",
       "    </tr>\n",
       "    <tr>\n",
       "      <th>2</th>\n",
       "      <td>2019-08-03</td>\n",
       "      <td>A</td>\n",
       "      <td>68</td>\n",
       "      <td>62</td>\n",
       "      <td>354874</td>\n",
       "      <td>1845</td>\n",
       "      <td>5218.735294</td>\n",
       "      <td>B</td>\n",
       "      <td>61</td>\n",
       "      <td>59</td>\n",
       "      <td>380996</td>\n",
       "      <td>1803</td>\n",
       "      <td>6245.836066</td>\n",
       "    </tr>\n",
       "    <tr>\n",
       "      <th>3</th>\n",
       "      <td>2019-08-04</td>\n",
       "      <td>A</td>\n",
       "      <td>84</td>\n",
       "      <td>77</td>\n",
       "      <td>425699</td>\n",
       "      <td>2562</td>\n",
       "      <td>5067.845238</td>\n",
       "      <td>B</td>\n",
       "      <td>78</td>\n",
       "      <td>75</td>\n",
       "      <td>489567</td>\n",
       "      <td>2573</td>\n",
       "      <td>6276.500000</td>\n",
       "    </tr>\n",
       "    <tr>\n",
       "      <th>4</th>\n",
       "      <td>2019-08-05</td>\n",
       "      <td>A</td>\n",
       "      <td>109</td>\n",
       "      <td>100</td>\n",
       "      <td>549917</td>\n",
       "      <td>3318</td>\n",
       "      <td>5045.110092</td>\n",
       "      <td>B</td>\n",
       "      <td>101</td>\n",
       "      <td>98</td>\n",
       "      <td>581995</td>\n",
       "      <td>3280</td>\n",
       "      <td>5762.326733</td>\n",
       "    </tr>\n",
       "  </tbody>\n",
       "</table>\n",
       "</div>"
      ],
      "text/plain": [
       "        date groupA  ordersA  usersA  revenueA  visitorsA   mean_chekA groupB  \\\n",
       "0 2019-08-01      A       24      20    148579        719  6190.791667      B   \n",
       "1 2019-08-02      A       44      38    242401       1338  5509.113636      B   \n",
       "2 2019-08-03      A       68      62    354874       1845  5218.735294      B   \n",
       "3 2019-08-04      A       84      77    425699       2562  5067.845238      B   \n",
       "4 2019-08-05      A      109     100    549917       3318  5045.110092      B   \n",
       "\n",
       "   ordersB  usersB  revenueB  visitorsB   mean_chekB  \n",
       "0       21      20    101217        713  4819.857143  \n",
       "1       45      43    266748       1294  5927.733333  \n",
       "2       61      59    380996       1803  6245.836066  \n",
       "3       78      75    489567       2573  6276.500000  \n",
       "4      101      98    581995       3280  5762.326733  "
      ]
     },
     "execution_count": 23,
     "metadata": {},
     "output_type": "execute_result"
    }
   ],
   "source": [
    "df_all = df_a.merge(df_b, on='date', how='outer', suffixes=['A', 'B'])\n",
    "df_all.head()"
   ]
  },
  {
   "cell_type": "code",
   "execution_count": 24,
   "metadata": {},
   "outputs": [
    {
     "data": {
      "text/plain": [
       "[]"
      ]
     },
     "execution_count": 24,
     "metadata": {},
     "output_type": "execute_result"
    },
    {
     "data": {
      "image/png": "[encoded data removed]",
      "text/plain": [
       "<Figure size 720x360 with 1 Axes>"
      ]
     },
     "metadata": {
      "needs_background": "light"
     },
     "output_type": "display_data"
    }
   ],
   "source": [
    "plt.figure(figsize=(10, 5))\n",
    "plt.plot(df_all['date'], df_all['mean_chekB']/df_all['mean_chekA']-1)\n",
    "plt.xlabel('Даты привлечения')\n",
    "plt.ylabel('Относительное различие средних чеков')\n",
    "plt.title('График относительного различия для среднего чека')\n",
    "plt.grid()\n",
    "plt.axhline(y=0, color='black', linestyle='--') \n",
    "plt.plot()"
   ]
  },
  {
   "cell_type": "markdown",
   "metadata": {},
   "source": [
    "Видно что график волантильный, но в целом имеет положительную динамику за наблюдаемый период"
   ]
  },
  {
   "cell_type": "markdown",
   "metadata": {},
   "source": [
    "Построим график кумулятивной конверсии по группам"
   ]
  },
  {
   "cell_type": "code",
   "execution_count": 25,
   "metadata": {},
   "outputs": [
    {
     "data": {
      "image/png": "[encoded data removed]",
      "text/plain": [
       "<Figure size 720x360 with 1 Axes>"
      ]
     },
     "metadata": {
      "needs_background": "light"
     },
     "output_type": "display_data"
    }
   ],
   "source": [
    "df['conversion'] = df.orders / df.visitors\n",
    "df_a = df.query('group == \"A\"')\n",
    "df_b = df.query('group == \"B\"')\n",
    "\n",
    "plt.figure(figsize=(10, 5))\n",
    "plt.plot(df_a.date, df_a.conversion, label = 'Группа А')\n",
    "\n",
    "plt.plot(df_b.date, df_b.conversion, label = 'Группа B')\n",
    "plt.xlabel('Даты привлечения')\n",
    "plt.ylabel('Кумулятивная конверсия')\n",
    "plt.title('Кумулятивный график конверсии')\n",
    "plt.grid()\n",
    "plt.legend()\n",
    "plt.show()"
   ]
  },
  {
   "cell_type": "markdown",
   "metadata": {},
   "source": [
    "Конверсия по группе B явно выше конверсии группы А, но в группе B после роста конверсии наблюдается её падение"
   ]
  },
  {
   "cell_type": "markdown",
   "metadata": {},
   "source": [
    "Постройте график относительного изменения кумулятивной конверсии группы B к группе A. "
   ]
  },
  {
   "cell_type": "code",
   "execution_count": 26,
   "metadata": {},
   "outputs": [
    {
     "data": {
      "text/html": [
       "<div>\n",
       "<style scoped>\n",
       "    .dataframe tbody tr th:only-of-type {\n",
       "        vertical-align: middle;\n",
       "    }\n",
       "\n",
       "    .dataframe tbody tr th {\n",
       "        vertical-align: top;\n",
       "    }\n",
       "\n",
       "    .dataframe thead th {\n",
       "        text-align: right;\n",
       "    }\n",
       "</style>\n",
       "<table border=\"1\" class=\"dataframe\">\n",
       "  <thead>\n",
       "    <tr style=\"text-align: right;\">\n",
       "      <th></th>\n",
       "      <th>date</th>\n",
       "      <th>groupA</th>\n",
       "      <th>ordersA</th>\n",
       "      <th>usersA</th>\n",
       "      <th>revenueA</th>\n",
       "      <th>visitorsA</th>\n",
       "      <th>mean_chekA</th>\n",
       "      <th>conversionA</th>\n",
       "      <th>groupB</th>\n",
       "      <th>ordersB</th>\n",
       "      <th>usersB</th>\n",
       "      <th>revenueB</th>\n",
       "      <th>visitorsB</th>\n",
       "      <th>mean_chekB</th>\n",
       "      <th>conversionB</th>\n",
       "    </tr>\n",
       "  </thead>\n",
       "  <tbody>\n",
       "    <tr>\n",
       "      <th>0</th>\n",
       "      <td>2019-08-01</td>\n",
       "      <td>A</td>\n",
       "      <td>24</td>\n",
       "      <td>20</td>\n",
       "      <td>148579</td>\n",
       "      <td>719</td>\n",
       "      <td>6190.791667</td>\n",
       "      <td>0.033380</td>\n",
       "      <td>B</td>\n",
       "      <td>21</td>\n",
       "      <td>20</td>\n",
       "      <td>101217</td>\n",
       "      <td>713</td>\n",
       "      <td>4819.857143</td>\n",
       "      <td>0.029453</td>\n",
       "    </tr>\n",
       "    <tr>\n",
       "      <th>1</th>\n",
       "      <td>2019-08-02</td>\n",
       "      <td>A</td>\n",
       "      <td>44</td>\n",
       "      <td>38</td>\n",
       "      <td>242401</td>\n",
       "      <td>1338</td>\n",
       "      <td>5509.113636</td>\n",
       "      <td>0.032885</td>\n",
       "      <td>B</td>\n",
       "      <td>45</td>\n",
       "      <td>43</td>\n",
       "      <td>266748</td>\n",
       "      <td>1294</td>\n",
       "      <td>5927.733333</td>\n",
       "      <td>0.034776</td>\n",
       "    </tr>\n",
       "    <tr>\n",
       "      <th>2</th>\n",
       "      <td>2019-08-03</td>\n",
       "      <td>A</td>\n",
       "      <td>68</td>\n",
       "      <td>62</td>\n",
       "      <td>354874</td>\n",
       "      <td>1845</td>\n",
       "      <td>5218.735294</td>\n",
       "      <td>0.036856</td>\n",
       "      <td>B</td>\n",
       "      <td>61</td>\n",
       "      <td>59</td>\n",
       "      <td>380996</td>\n",
       "      <td>1803</td>\n",
       "      <td>6245.836066</td>\n",
       "      <td>0.033833</td>\n",
       "    </tr>\n",
       "    <tr>\n",
       "      <th>3</th>\n",
       "      <td>2019-08-04</td>\n",
       "      <td>A</td>\n",
       "      <td>84</td>\n",
       "      <td>77</td>\n",
       "      <td>425699</td>\n",
       "      <td>2562</td>\n",
       "      <td>5067.845238</td>\n",
       "      <td>0.032787</td>\n",
       "      <td>B</td>\n",
       "      <td>78</td>\n",
       "      <td>75</td>\n",
       "      <td>489567</td>\n",
       "      <td>2573</td>\n",
       "      <td>6276.500000</td>\n",
       "      <td>0.030315</td>\n",
       "    </tr>\n",
       "    <tr>\n",
       "      <th>4</th>\n",
       "      <td>2019-08-05</td>\n",
       "      <td>A</td>\n",
       "      <td>109</td>\n",
       "      <td>100</td>\n",
       "      <td>549917</td>\n",
       "      <td>3318</td>\n",
       "      <td>5045.110092</td>\n",
       "      <td>0.032851</td>\n",
       "      <td>B</td>\n",
       "      <td>101</td>\n",
       "      <td>98</td>\n",
       "      <td>581995</td>\n",
       "      <td>3280</td>\n",
       "      <td>5762.326733</td>\n",
       "      <td>0.030793</td>\n",
       "    </tr>\n",
       "  </tbody>\n",
       "</table>\n",
       "</div>"
      ],
      "text/plain": [
       "        date groupA  ordersA  usersA  revenueA  visitorsA   mean_chekA  \\\n",
       "0 2019-08-01      A       24      20    148579        719  6190.791667   \n",
       "1 2019-08-02      A       44      38    242401       1338  5509.113636   \n",
       "2 2019-08-03      A       68      62    354874       1845  5218.735294   \n",
       "3 2019-08-04      A       84      77    425699       2562  5067.845238   \n",
       "4 2019-08-05      A      109     100    549917       3318  5045.110092   \n",
       "\n",
       "   conversionA groupB  ordersB  usersB  revenueB  visitorsB   mean_chekB  \\\n",
       "0     0.033380      B       21      20    101217        713  4819.857143   \n",
       "1     0.032885      B       45      43    266748       1294  5927.733333   \n",
       "2     0.036856      B       61      59    380996       1803  6245.836066   \n",
       "3     0.032787      B       78      75    489567       2573  6276.500000   \n",
       "4     0.032851      B      101      98    581995       3280  5762.326733   \n",
       "\n",
       "   conversionB  \n",
       "0     0.029453  \n",
       "1     0.034776  \n",
       "2     0.033833  \n",
       "3     0.030315  \n",
       "4     0.030793  "
      ]
     },
     "execution_count": 26,
     "metadata": {},
     "output_type": "execute_result"
    }
   ],
   "source": [
    "df_all = df_a.merge(df_b, on='date', how='outer', suffixes=['A', 'B'])\n",
    "df_all.head()"
   ]
  },
  {
   "cell_type": "code",
   "execution_count": 27,
   "metadata": {},
   "outputs": [
    {
     "data": {
      "text/plain": [
       "[]"
      ]
     },
     "execution_count": 27,
     "metadata": {},
     "output_type": "execute_result"
    },
    {
     "data": {
      "image/png": "[encoded data removed]",
      "text/plain": [
       "<Figure size 720x360 with 1 Axes>"
      ]
     },
     "metadata": {
      "needs_background": "light"
     },
     "output_type": "display_data"
    }
   ],
   "source": [
    "df_all = df_a.merge(df_b, on='date', how='outer', suffixes=['A', 'B'])\n",
    "\n",
    "plt.figure(figsize=(10, 5))\n",
    "plt.plot(df_all['date'], df_all['conversionB']/df_all['conversionA']-1)\n",
    "plt.xlabel('Даты привлечения')\n",
    "plt.ylabel('Относительное различие конверсий')\n",
    "plt.title('График относительного различия конверсий')\n",
    "plt.grid()\n",
    "plt.axhline(y=0, color='black', linestyle='--')\n",
    "plt.axhline(y=0.1, color='grey', linestyle='--') \n",
    "plt.plot()"
   ]
  },
  {
   "cell_type": "markdown",
   "metadata": {},
   "source": [
    "Отношение конверсий в целом говорит за вариант B разница между конверсиями установилась в начале, затем немного упала, в целом возвращается к исходному уровню"
   ]
  },
  {
   "cell_type": "markdown",
   "metadata": {},
   "source": [
    "Построим точечный график количества заказов по пользователям"
   ]
  },
  {
   "cell_type": "code",
   "execution_count": 28,
   "metadata": {},
   "outputs": [
    {
     "data": {
      "image/png": "[encoded data removed]",
      "text/plain": [
       "<Figure size 720x360 with 1 Axes>"
      ]
     },
     "metadata": {
      "needs_background": "light"
     },
     "output_type": "display_data"
    }
   ],
   "source": [
    "user_orders = orders.groupby('user_id', as_index=False).agg({'order_id' : 'nunique'})\n",
    "x_values = pd.Series(range(0,len(user_orders['order_id'])))\n",
    "plt.figure(figsize=(10, 5))\n",
    "plt.xlabel('Заказы')\n",
    "plt.ylabel('Выручка от заказа')\n",
    "plt.scatter(x_values, user_orders['order_id'])\n",
    "plt.show()"
   ]
  },
  {
   "cell_type": "markdown",
   "metadata": {},
   "source": [
    "В целом оснавная группа товаров сосредоточена на 3 заказа и менее, есть ещё не много численная часть заказавших 4 и 5 заказов, и отдельные выбросы с 8 заказами и более "
   ]
  },
  {
   "cell_type": "code",
   "execution_count": 29,
   "metadata": {},
   "outputs": [
    {
     "name": "stdout",
     "output_type": "stream",
     "text": [
      "[2. 4.]\n"
     ]
    }
   ],
   "source": [
    "print(np.percentile(user_orders.order_id, [95,99]))"
   ]
  },
  {
   "cell_type": "markdown",
   "metadata": {},
   "source": [
    "нижнюю границу по отсечению следует взять 4 заказа (отсекая 1 процент пользователей)"
   ]
  },
  {
   "cell_type": "markdown",
   "metadata": {},
   "source": [
    "Постройте точечный график стоимостей заказов и вычислим 95 и 99 перцентиль"
   ]
  },
  {
   "cell_type": "code",
   "execution_count": 30,
   "metadata": {},
   "outputs": [
    {
     "data": {
      "text/plain": [
       "count    1.197000e+03\n",
       "mean     8.348006e+03\n",
       "std      3.919113e+04\n",
       "min      5.000000e+01\n",
       "25%      1.220000e+03\n",
       "50%      2.978000e+03\n",
       "75%      8.290000e+03\n",
       "max      1.294500e+06\n",
       "Name: revenue, dtype: float64"
      ]
     },
     "execution_count": 30,
     "metadata": {},
     "output_type": "execute_result"
    }
   ],
   "source": [
    "orders.revenue.describe()"
   ]
  },
  {
   "cell_type": "code",
   "execution_count": 31,
   "metadata": {},
   "outputs": [
    {
     "data": {
      "image/png": "[encoded data removed]",
      "text/plain": [
       "<Figure size 720x360 with 1 Axes>"
      ]
     },
     "metadata": {
      "needs_background": "light"
     },
     "output_type": "display_data"
    },
    {
     "data": {
      "image/png": "[encoded data removed]",
      "text/plain": [
       "<Figure size 720x360 with 1 Axes>"
      ]
     },
     "metadata": {
      "needs_background": "light"
     },
     "output_type": "display_data"
    }
   ],
   "source": [
    "x_values = pd.Series(range(0,len(orders['revenue'])))\n",
    "plt.figure(figsize=(10, 5))\n",
    "plt.xlabel('Заказы')\n",
    "plt.ylabel('Выручка от заказа')\n",
    "plt.scatter(x_values, orders['revenue'])\n",
    "\n",
    "x_values = pd.Series(range(0,len(orders['revenue'])))\n",
    "plt.figure(figsize=(10, 5))\n",
    "plt.xlabel('Заказы')\n",
    "plt.ylabel('Выручка от заказа')\n",
    "plt.scatter(x_values, orders['revenue'])\n",
    "plt.ylim(0,200000)\n",
    "plt.show()"
   ]
  },
  {
   "cell_type": "code",
   "execution_count": 32,
   "metadata": {},
   "outputs": [
    {
     "name": "stdout",
     "output_type": "stream",
     "text": [
      "[28000.  58233.2]\n"
     ]
    }
   ],
   "source": [
    "print(np.percentile(orders.revenue, [95,99]))"
   ]
  },
  {
   "cell_type": "markdown",
   "metadata": {},
   "source": [
    "Можно отсечь один процент пользователей с заказами свыше 58233.2, так как свыше данной показателя уже идут редкие выбросы по показателю суммы заказов"
   ]
  },
  {
   "cell_type": "markdown",
   "metadata": {},
   "source": [
    "Посчитайте статистическую значимость различий в конверсии между группами по «сырым» данным"
   ]
  },
  {
   "cell_type": "markdown",
   "metadata": {},
   "source": [
    "Нулевая гипотеза (Н0) будет состоять в том, что наблюдаемые группы одинаковые"
   ]
  },
  {
   "cell_type": "markdown",
   "metadata": {},
   "source": [
    "Альтернативная гиппотеза (Н1) будет состоять в том, что наблюдаемые группы различны"
   ]
  },
  {
   "cell_type": "markdown",
   "metadata": {},
   "source": [
    "Уровень значимости а = 0,05 (5%)"
   ]
  },
  {
   "cell_type": "markdown",
   "metadata": {},
   "source": [
    "Метод проверки гипотезы: непараметрический тест Уилкоксона-Манна-Уитни"
   ]
  },
  {
   "cell_type": "code",
   "execution_count": 33,
   "metadata": {},
   "outputs": [
    {
     "data": {
      "text/html": [
       "<div>\n",
       "<style scoped>\n",
       "    .dataframe tbody tr th:only-of-type {\n",
       "        vertical-align: middle;\n",
       "    }\n",
       "\n",
       "    .dataframe tbody tr th {\n",
       "        vertical-align: top;\n",
       "    }\n",
       "\n",
       "    .dataframe thead th {\n",
       "        text-align: right;\n",
       "    }\n",
       "</style>\n",
       "<table border=\"1\" class=\"dataframe\">\n",
       "  <thead>\n",
       "    <tr style=\"text-align: right;\">\n",
       "      <th></th>\n",
       "      <th>order_id</th>\n",
       "      <th>user_id</th>\n",
       "      <th>date</th>\n",
       "      <th>revenue</th>\n",
       "      <th>group</th>\n",
       "    </tr>\n",
       "  </thead>\n",
       "  <tbody>\n",
       "    <tr>\n",
       "      <th>0</th>\n",
       "      <td>3667963787</td>\n",
       "      <td>3312258926</td>\n",
       "      <td>2019-08-15</td>\n",
       "      <td>1650</td>\n",
       "      <td>B</td>\n",
       "    </tr>\n",
       "    <tr>\n",
       "      <th>1</th>\n",
       "      <td>2804400009</td>\n",
       "      <td>3642806036</td>\n",
       "      <td>2019-08-15</td>\n",
       "      <td>730</td>\n",
       "      <td>B</td>\n",
       "    </tr>\n",
       "    <tr>\n",
       "      <th>2</th>\n",
       "      <td>2961555356</td>\n",
       "      <td>4069496402</td>\n",
       "      <td>2019-08-15</td>\n",
       "      <td>400</td>\n",
       "      <td>A</td>\n",
       "    </tr>\n",
       "    <tr>\n",
       "      <th>3</th>\n",
       "      <td>3797467345</td>\n",
       "      <td>1196621759</td>\n",
       "      <td>2019-08-15</td>\n",
       "      <td>9759</td>\n",
       "      <td>B</td>\n",
       "    </tr>\n",
       "    <tr>\n",
       "      <th>4</th>\n",
       "      <td>2282983706</td>\n",
       "      <td>2322279887</td>\n",
       "      <td>2019-08-15</td>\n",
       "      <td>2308</td>\n",
       "      <td>B</td>\n",
       "    </tr>\n",
       "  </tbody>\n",
       "</table>\n",
       "</div>"
      ],
      "text/plain": [
       "     order_id     user_id       date  revenue group\n",
       "0  3667963787  3312258926 2019-08-15     1650     B\n",
       "1  2804400009  3642806036 2019-08-15      730     B\n",
       "2  2961555356  4069496402 2019-08-15      400     A\n",
       "3  3797467345  1196621759 2019-08-15     9759     B\n",
       "4  2282983706  2322279887 2019-08-15     2308     B"
      ]
     },
     "execution_count": 33,
     "metadata": {},
     "output_type": "execute_result"
    }
   ],
   "source": [
    "orders.head()"
   ]
  },
  {
   "cell_type": "code",
   "execution_count": 34,
   "metadata": {},
   "outputs": [
    {
     "data": {
      "text/html": [
       "<div>\n",
       "<style scoped>\n",
       "    .dataframe tbody tr th:only-of-type {\n",
       "        vertical-align: middle;\n",
       "    }\n",
       "\n",
       "    .dataframe tbody tr th {\n",
       "        vertical-align: top;\n",
       "    }\n",
       "\n",
       "    .dataframe thead th {\n",
       "        text-align: right;\n",
       "    }\n",
       "</style>\n",
       "<table border=\"1\" class=\"dataframe\">\n",
       "  <thead>\n",
       "    <tr style=\"text-align: right;\">\n",
       "      <th></th>\n",
       "      <th>user_id</th>\n",
       "      <th>orders</th>\n",
       "    </tr>\n",
       "  </thead>\n",
       "  <tbody>\n",
       "    <tr>\n",
       "      <th>0</th>\n",
       "      <td>8300375</td>\n",
       "      <td>1</td>\n",
       "    </tr>\n",
       "    <tr>\n",
       "      <th>1</th>\n",
       "      <td>11685486</td>\n",
       "      <td>1</td>\n",
       "    </tr>\n",
       "    <tr>\n",
       "      <th>2</th>\n",
       "      <td>54447517</td>\n",
       "      <td>1</td>\n",
       "    </tr>\n",
       "    <tr>\n",
       "      <th>3</th>\n",
       "      <td>66685450</td>\n",
       "      <td>1</td>\n",
       "    </tr>\n",
       "    <tr>\n",
       "      <th>4</th>\n",
       "      <td>78758296</td>\n",
       "      <td>1</td>\n",
       "    </tr>\n",
       "  </tbody>\n",
       "</table>\n",
       "</div>"
      ],
      "text/plain": [
       "    user_id  orders\n",
       "0   8300375       1\n",
       "1  11685486       1\n",
       "2  54447517       1\n",
       "3  66685450       1\n",
       "4  78758296       1"
      ]
     },
     "execution_count": 34,
     "metadata": {},
     "output_type": "execute_result"
    }
   ],
   "source": [
    "conver_a = orders.query('group == \"A\"').groupby('user_id', as_index=False).agg({'order_id':'nunique'})\n",
    "conver_a.columns = ['user_id','orders']\n",
    "conver_b = orders.query('group == \"B\"').groupby('user_id', as_index=False).agg({'order_id':'nunique'})\n",
    "conver_b.columns = ['user_id','orders']\n",
    "conver_a.head()"
   ]
  },
  {
   "cell_type": "code",
   "execution_count": 35,
   "metadata": {},
   "outputs": [
    {
     "data": {
      "text/html": [
       "<div>\n",
       "<style scoped>\n",
       "    .dataframe tbody tr th:only-of-type {\n",
       "        vertical-align: middle;\n",
       "    }\n",
       "\n",
       "    .dataframe tbody tr th {\n",
       "        vertical-align: top;\n",
       "    }\n",
       "\n",
       "    .dataframe thead th {\n",
       "        text-align: right;\n",
       "    }\n",
       "</style>\n",
       "<table border=\"1\" class=\"dataframe\">\n",
       "  <thead>\n",
       "    <tr style=\"text-align: right;\">\n",
       "      <th></th>\n",
       "      <th>date</th>\n",
       "      <th>group</th>\n",
       "      <th>visitors</th>\n",
       "    </tr>\n",
       "  </thead>\n",
       "  <tbody>\n",
       "    <tr>\n",
       "      <th>0</th>\n",
       "      <td>2019-08-01</td>\n",
       "      <td>A</td>\n",
       "      <td>719</td>\n",
       "    </tr>\n",
       "    <tr>\n",
       "      <th>1</th>\n",
       "      <td>2019-08-02</td>\n",
       "      <td>A</td>\n",
       "      <td>619</td>\n",
       "    </tr>\n",
       "    <tr>\n",
       "      <th>2</th>\n",
       "      <td>2019-08-03</td>\n",
       "      <td>A</td>\n",
       "      <td>507</td>\n",
       "    </tr>\n",
       "    <tr>\n",
       "      <th>3</th>\n",
       "      <td>2019-08-04</td>\n",
       "      <td>A</td>\n",
       "      <td>717</td>\n",
       "    </tr>\n",
       "    <tr>\n",
       "      <th>4</th>\n",
       "      <td>2019-08-05</td>\n",
       "      <td>A</td>\n",
       "      <td>756</td>\n",
       "    </tr>\n",
       "  </tbody>\n",
       "</table>\n",
       "</div>"
      ],
      "text/plain": [
       "        date group  visitors\n",
       "0 2019-08-01     A       719\n",
       "1 2019-08-02     A       619\n",
       "2 2019-08-03     A       507\n",
       "3 2019-08-04     A       717\n",
       "4 2019-08-05     A       756"
      ]
     },
     "execution_count": 35,
     "metadata": {},
     "output_type": "execute_result"
    }
   ],
   "source": [
    "visits_a = visits.query('group == \"A\"')\n",
    "visits_b = visits.query('group == \"B\"')\n",
    "visits_a.head()"
   ]
  },
  {
   "cell_type": "code",
   "execution_count": 36,
   "metadata": {},
   "outputs": [],
   "source": [
    "sampleA = pd.concat(\n",
    "    [conver_a['orders'],\n",
    "     pd.Series(\n",
    "         0,\n",
    "         index=np.arange(visits_a.visitors.sum() - len(conver_a['orders'])), name='orders'\n",
    "     )],axis=0)\n",
    "\n",
    "sampleB = pd.concat(\n",
    "    [conver_b['orders'],\n",
    "     pd.Series(\n",
    "         0,\n",
    "         index=np.arange(visits_b.visitors.sum() - len(conver_b['orders'])), name='orders'\n",
    "     )],axis=0)"
   ]
  },
  {
   "cell_type": "code",
   "execution_count": 37,
   "metadata": {},
   "outputs": [
    {
     "name": "stdout",
     "output_type": "stream",
     "text": [
      "p-значение:  0.016792355056752608\n",
      "0.13807884655320146\n"
     ]
    }
   ],
   "source": [
    "results = st.mannwhitneyu(sampleA, sampleB)\n",
    "print('p-значение: ', results.pvalue)\n",
    "print(sampleB.mean() / sampleA.mean() - 1)"
   ]
  },
  {
   "cell_type": "markdown",
   "metadata": {},
   "source": [
    "по результату p_value можно отметить, что мы отвергаем теорию о том, что группы одинаковые (показатель p_value составил 1,6 процента что достаточно низкий показатель). При этом группа В почти на 14 процентов превосходит группу А по показателю конверсии"
   ]
  },
  {
   "cell_type": "markdown",
   "metadata": {},
   "source": [
    "Посчитаем статистическую значимость различий в среднем чеке заказа между группами по «сырым» данным"
   ]
  },
  {
   "cell_type": "markdown",
   "metadata": {},
   "source": [
    "Нулевая гипотеза (Н0) будет состоять в том, что наблюдаемые группы одинаковые\n",
    "\n",
    "Альтернативная гиппотеза (Н1) будет состоять в том, что наблюдаемые группы различны\n",
    "\n",
    "Уровень значимости а = 0,05 (5%)\n",
    "\n",
    "Метод проверки гипотезы: непараметрический тест Уилкоксона-Манна-Уитни"
   ]
  },
  {
   "cell_type": "code",
   "execution_count": 38,
   "metadata": {},
   "outputs": [
    {
     "name": "stdout",
     "output_type": "stream",
     "text": [
      "p-значение:  0.7292909855432458\n",
      "0.2587136699126005\n"
     ]
    }
   ],
   "source": [
    "results = st.mannwhitneyu(\n",
    "    orders.query('group == \"A\"').revenue,\n",
    "    orders.query('group == \"B\"').revenue)\n",
    "print('p-значение: ', results.pvalue)\n",
    "print(orders.query('group == \"B\"').revenue.mean()/orders.query('group == \"A\"').revenue.mean() - 1)"
   ]
  },
  {
   "cell_type": "markdown",
   "metadata": {},
   "source": [
    "Мы не можем опровергнуть нулевую гиппотезу, о том что группы одинаковые, показатель p_value составляет 72 процента, что говорит о высокой вероятности равенства групп А и В по среднему чеку. Средний чек по группе B больше группы А на 25 процентов"
   ]
  },
  {
   "cell_type": "markdown",
   "metadata": {},
   "source": [
    "Посчитаем статистическую значимость различий в конверсии между группами по «очищенным» данным."
   ]
  },
  {
   "cell_type": "markdown",
   "metadata": {},
   "source": [
    "Нулевая гипотеза (Н0) будет состоять в том, что наблюдаемые группы одинаковые\n",
    "\n",
    "Альтернативная гиппотеза (Н1) будет состоять в том, что наблюдаемые группы различны\n",
    "\n",
    "Уровень значимости а = 0,05 (5%)\n",
    "\n",
    "Метод проверки гипотезы: непараметрический тест Уилкоксона-Манна-Уитни"
   ]
  },
  {
   "cell_type": "markdown",
   "metadata": {},
   "source": [
    "Для начала очистим данные сначало по заказам"
   ]
  },
  {
   "cell_type": "code",
   "execution_count": 39,
   "metadata": {},
   "outputs": [
    {
     "data": {
      "text/plain": [
       "[199603092,\n",
       " 237748145,\n",
       " 1230306981,\n",
       " 2038680547,\n",
       " 2378935119,\n",
       " 2458001652,\n",
       " 3062433592,\n",
       " 3717692402,\n",
       " 3803269165,\n",
       " 4256040402]"
      ]
     },
     "execution_count": 39,
     "metadata": {},
     "output_type": "execute_result"
    }
   ],
   "source": [
    "not_users = user_orders.query('order_id > 4').user_id\n",
    "list(not_users)"
   ]
  },
  {
   "cell_type": "code",
   "execution_count": 40,
   "metadata": {},
   "outputs": [],
   "source": [
    "conver_a = orders.query('group == \"A\" and user_id not in @not_users').groupby('user_id', as_index=False).agg({'order_id':'nunique'})\n",
    "conver_a.columns = ['user_id','orders']\n",
    "\n",
    "conver_b = orders.query('group == \"B\" and user_id not in @not_users').groupby('user_id', as_index=False).agg({'order_id':'nunique'})\n",
    "conver_b.columns = ['user_id','orders']\n"
   ]
  },
  {
   "cell_type": "markdown",
   "metadata": {},
   "source": [
    "Далее очистим данные по сумме заказа"
   ]
  },
  {
   "cell_type": "code",
   "execution_count": 41,
   "metadata": {},
   "outputs": [],
   "source": [
    "orders = orders.query('revenue <= 58233.2')\n"
   ]
  },
  {
   "cell_type": "markdown",
   "metadata": {},
   "source": [
    "Посчитайте статистическую значимость различий в конверсии между группами по «очищенным» данным"
   ]
  },
  {
   "cell_type": "markdown",
   "metadata": {},
   "source": [
    "Нулевая гипотеза (Н0) будет состоять в том, что наблюдаемые группы одинаковые\n",
    "\n",
    "Альтернативная гиппотеза (Н1) будет состоять в том, что наблюдаемые группы различны\n",
    "\n",
    "Уровень значимости а = 0,05 (5%)\n",
    "\n",
    "Метод проверки гипотезы: непараметрический тест Уилкоксона-Манна-Уитни"
   ]
  },
  {
   "cell_type": "code",
   "execution_count": 42,
   "metadata": {},
   "outputs": [],
   "source": [
    "sampleA = pd.concat(\n",
    "    [conver_a['orders'],\n",
    "     pd.Series(\n",
    "         0,\n",
    "         index=np.arange(visits_a.visitors.sum() - len(conver_a['orders'])), name='orders'\n",
    "     )],axis=0)\n",
    "\n",
    "sampleB = pd.concat(\n",
    "    [conver_b['orders'],\n",
    "     pd.Series(\n",
    "         0,\n",
    "         index=np.arange(visits_b.visitors.sum() - len(conver_b['orders'])), name='orders'\n",
    "     )],axis=0)"
   ]
  },
  {
   "cell_type": "code",
   "execution_count": 43,
   "metadata": {},
   "outputs": [
    {
     "name": "stdout",
     "output_type": "stream",
     "text": [
      "p-значение:  0.01569391625334781\n",
      "0.14987251563476045\n"
     ]
    }
   ],
   "source": [
    "results = st.mannwhitneyu(sampleA, sampleB)\n",
    "print('p-значение: ', results.pvalue)\n",
    "print(sampleB.mean() / sampleA.mean() - 1)"
   ]
  },
  {
   "cell_type": "markdown",
   "metadata": {},
   "source": [
    "Удаление пользователей с большим количеством заказов не повлияло на результат теста (нулевая гипотиза о равенстве групп может быть опровергнута). По чистым данным показатель конверсии по группе B увеличил отрыв и стал достигать 15 процентов.\n"
   ]
  },
  {
   "cell_type": "markdown",
   "metadata": {},
   "source": [
    "Посчитаем статистическую значимость различий в среднем чеке заказа между группами по «очищенным» данным"
   ]
  },
  {
   "cell_type": "markdown",
   "metadata": {},
   "source": [
    "Нулевая гипотеза (Н0) будет состоять в том, что наблюдаемые группы одинаковые\n",
    "\n",
    "Альтернативная гиппотеза (Н1) будет состоять в том, что наблюдаемые группы различны\n",
    "\n",
    "Уровень значимости а = 0,05 (5%)\n",
    "\n",
    "Метод проверки гипотезы: непараметрический тест Уилкоксона-Манна-Уитни"
   ]
  },
  {
   "cell_type": "code",
   "execution_count": 44,
   "metadata": {},
   "outputs": [
    {
     "name": "stdout",
     "output_type": "stream",
     "text": [
      "p-значение:  0.6208626966847455\n",
      "0.018870874545377614\n"
     ]
    }
   ],
   "source": [
    "results = st.mannwhitneyu(\n",
    "    orders.query('group == \"A\"').revenue,\n",
    "    orders.query('group == \"B\"').revenue)\n",
    "print('p-значение: ', results.pvalue)\n",
    "print(orders.query('group == \"B\"').revenue.mean()/orders.query('group == \"A\"').revenue.mean() - 1)"
   ]
  },
  {
   "cell_type": "markdown",
   "metadata": {},
   "source": [
    "Удаление в выбросах убрало разницу в размере средних чеков между группами, как и по сырым данным мы можем подвердить теорию о равенстве группы А и B по показателю среднего чека."
   ]
  },
  {
   "cell_type": "markdown",
   "metadata": {},
   "source": [
    "Очищение данных не повлияли на статистическую значимость в различиях конверсий между группами p-значение осталось таким же, разница В группы увеличилась на 1 процент.\n",
    "\n",
    "Очищение данных не волияло на статистическую значимость различий в среднем чеке p-значение осталось выше уровня значимости, но в подвержении нулевой гиппотезе теперь разница между группами А и В стала всего (1,18 %), вместо 25% по неочищенным данным"
   ]
  },
  {
   "cell_type": "markdown",
   "metadata": {},
   "source": [
    "## Вывод (часть 1)"
   ]
  },
  {
   "cell_type": "markdown",
   "metadata": {},
   "source": [
    "При анализе приоритезации гипотез были применены 2 параметра RICE и ICE\n",
    "Вывод параметров RICE и ICE не существенно но отличаются, данные изменения произошли после учёта параметра Reach (кол-во пользователей которых затронет изменение), те гипотезы которые были при анализе параметра ICE были на более высоком месте, из за не столько широкого охвата действующих пользователей, сместились на немного низкие позиции. "
   ]
  },
  {
   "cell_type": "markdown",
   "metadata": {},
   "source": [
    "Конечной вывод по приоритетности гипотез выглядит так:"
   ]
  },
  {
   "cell_type": "code",
   "execution_count": 45,
   "metadata": {},
   "outputs": [
    {
     "name": "stdout",
     "output_type": "stream",
     "text": [
      "1 Место\n",
      "Добавить форму подписки на все основные страницы, чтобы собрать базу клиентов для email-рассылок\n",
      "-------------------------------------------------------------------------------------------\n",
      "2 Место\n",
      "Добавить блоки рекомендаций товаров на сайт интернет магазина, чтобы повысить конверсию и средний чек заказа\n",
      "-------------------------------------------------------------------------------------------\n",
      "3 Место\n",
      "Добавить два новых канала привлечения трафика, что позволит привлекать на 30% больше пользователей\n",
      "-------------------------------------------------------------------------------------------\n",
      "4 Место\n",
      "Показать на главной странице баннеры с актуальными акциями и распродажами, чтобы увеличить конверсию\n",
      "-------------------------------------------------------------------------------------------\n",
      "5 Место\n",
      "Запустить акцию, дающую скидку на товар в день рождения\n",
      "-------------------------------------------------------------------------------------------\n",
      "6 Место\n",
      "Изменить структура категорий, что увеличит конверсию, т.к. пользователи быстрее найдут нужный товар\n",
      "-------------------------------------------------------------------------------------------\n",
      "7 Место\n",
      "Запустить собственную службу доставки, что сократит срок доставки заказов\n",
      "-------------------------------------------------------------------------------------------\n",
      "8 Место\n",
      "Добавить страницу отзывов клиентов о магазине, что позволит увеличить количество заказов\n",
      "-------------------------------------------------------------------------------------------\n",
      "9 Место\n",
      "Изменить цвет фона главной страницы, чтобы увеличить вовлеченность пользователей\n",
      "-------------------------------------------------------------------------------------------\n"
     ]
    }
   ],
   "source": [
    "e = enumerate(list(hyp['Hypothesis']))\n",
    "for x,y in e:\n",
    "    print(f'{x+1} Место')\n",
    "    print(f'{y}')\n",
    "    print('-------------------------------------------------------------------------------------------')\n",
    "    "
   ]
  },
  {
   "cell_type": "markdown",
   "metadata": {},
   "source": [
    "## Вывод (часть 2)"
   ]
  },
  {
   "cell_type": "markdown",
   "metadata": {},
   "source": [
    "При обработке датафреймов было выведено:\n",
    "1. Дубликатов нет\n",
    "2. Отсутсвующих значений нет\n",
    "3. Отклонение суммы заказов (слишком большие по стоимости затраты искажают данные ) у 1 процента пользоватетей (особенно у 0,2 %)\n",
    "4. даты были не втом формате"
   ]
  },
  {
   "cell_type": "markdown",
   "metadata": {},
   "source": [
    "А/В можно признать удачным и завершить, группа В показала лучшие параметры по куммулятивной выручки, лучше показатель кумулятивной конверсии. Анализируя две группы, очищенных от экстремально больших заказов, методом Манна Уитни. Выяснилось, что статистической значимости различий в среднем чеке между группами не выявилось, но выявилась статитистическая значимость в различии конверсий между группами,  за анализируемый период коверсия на 15 процентов была лучше у группы В. Делаем вывод, что внедряемые новшества положительно скажутся на бизнесе. "
   ]
  },
  {
   "cell_type": "markdown",
   "metadata": {},
   "source": [
    "Однако стоит отметить, что у группы В на протяжении половины периода снижались показатели кумулятивной выручки и куммулятивный график конверсии, необходимо провести работы по выявлению причин даного снижения."
   ]
  }
 ],
 "metadata": {
  "ExecuteTimeLog": [
   {
    "duration": 879,
    "start_time": "2022-05-07T14:56:48.466Z"
   },
   {
    "duration": 85,
    "start_time": "2022-05-07T14:57:48.674Z"
   },
   {
    "duration": 15,
    "start_time": "2022-05-07T14:57:52.660Z"
   },
   {
    "duration": 9,
    "start_time": "2022-05-07T14:57:54.444Z"
   },
   {
    "duration": 4,
    "start_time": "2022-05-07T15:04:21.679Z"
   },
   {
    "duration": 35,
    "start_time": "2022-05-07T15:07:26.658Z"
   },
   {
    "duration": 4,
    "start_time": "2022-05-07T15:08:23.282Z"
   },
   {
    "duration": 6,
    "start_time": "2022-05-07T15:08:34.061Z"
   },
   {
    "duration": 4,
    "start_time": "2022-05-07T15:08:50.303Z"
   },
   {
    "duration": 8,
    "start_time": "2022-05-07T15:11:32.867Z"
   },
   {
    "duration": 5,
    "start_time": "2022-05-07T15:11:53.409Z"
   },
   {
    "duration": 2,
    "start_time": "2022-05-07T15:13:03.077Z"
   },
   {
    "duration": 135,
    "start_time": "2022-05-07T15:19:26.352Z"
   },
   {
    "duration": 8,
    "start_time": "2022-05-07T15:25:08.030Z"
   },
   {
    "duration": 7,
    "start_time": "2022-05-07T15:25:19.558Z"
   },
   {
    "duration": 27,
    "start_time": "2022-05-07T15:25:31.048Z"
   },
   {
    "duration": 7,
    "start_time": "2022-05-07T15:25:41.057Z"
   },
   {
    "duration": 6,
    "start_time": "2022-05-07T15:25:49.971Z"
   },
   {
    "duration": 18,
    "start_time": "2022-05-07T15:26:45.834Z"
   },
   {
    "duration": 13,
    "start_time": "2022-05-07T15:27:20.739Z"
   },
   {
    "duration": 135,
    "start_time": "2022-05-07T15:27:59.337Z"
   },
   {
    "duration": 18,
    "start_time": "2022-05-07T15:29:13.087Z"
   },
   {
    "duration": 34,
    "start_time": "2022-05-07T15:29:40.175Z"
   },
   {
    "duration": 47,
    "start_time": "2022-05-07T15:30:01.239Z"
   },
   {
    "duration": 49,
    "start_time": "2022-05-07T15:30:19.045Z"
   },
   {
    "duration": 7,
    "start_time": "2022-05-07T15:31:44.443Z"
   },
   {
    "duration": 4,
    "start_time": "2022-05-07T15:32:19.453Z"
   },
   {
    "duration": 4,
    "start_time": "2022-05-07T15:32:31.823Z"
   },
   {
    "duration": 11,
    "start_time": "2022-05-07T15:33:20.685Z"
   },
   {
    "duration": 39,
    "start_time": "2022-05-07T15:33:28.500Z"
   },
   {
    "duration": 40,
    "start_time": "2022-05-07T15:33:40.120Z"
   },
   {
    "duration": 35,
    "start_time": "2022-05-07T15:33:48.817Z"
   },
   {
    "duration": 7,
    "start_time": "2022-05-07T15:46:52.242Z"
   },
   {
    "duration": 9,
    "start_time": "2022-05-07T15:47:00.610Z"
   },
   {
    "duration": 6,
    "start_time": "2022-05-07T15:47:44.098Z"
   },
   {
    "duration": 19,
    "start_time": "2022-05-07T15:48:14.747Z"
   },
   {
    "duration": 5,
    "start_time": "2022-05-07T15:51:45.713Z"
   },
   {
    "duration": 5,
    "start_time": "2022-05-07T15:51:54.508Z"
   },
   {
    "duration": 150,
    "start_time": "2022-05-07T15:54:28.269Z"
   },
   {
    "duration": 138,
    "start_time": "2022-05-07T15:54:45.437Z"
   },
   {
    "duration": 146,
    "start_time": "2022-05-07T15:55:09.689Z"
   },
   {
    "duration": 141,
    "start_time": "2022-05-07T15:55:16.713Z"
   },
   {
    "duration": 6,
    "start_time": "2022-05-07T16:02:36.395Z"
   },
   {
    "duration": 11,
    "start_time": "2022-05-07T16:02:55.029Z"
   },
   {
    "duration": 11,
    "start_time": "2022-05-07T16:04:54.867Z"
   },
   {
    "duration": 10,
    "start_time": "2022-05-07T16:05:09.916Z"
   },
   {
    "duration": 14,
    "start_time": "2022-05-07T16:05:19.245Z"
   },
   {
    "duration": 5,
    "start_time": "2022-05-07T16:05:47.040Z"
   },
   {
    "duration": 8,
    "start_time": "2022-05-07T16:06:39.245Z"
   },
   {
    "duration": 8,
    "start_time": "2022-05-07T16:06:43.821Z"
   },
   {
    "duration": 378,
    "start_time": "2022-05-07T16:07:02.648Z"
   },
   {
    "duration": 19,
    "start_time": "2022-05-07T16:07:06.888Z"
   },
   {
    "duration": 183,
    "start_time": "2022-05-07T16:07:15.353Z"
   },
   {
    "duration": 337,
    "start_time": "2022-05-07T16:08:41.867Z"
   },
   {
    "duration": 140,
    "start_time": "2022-05-07T16:08:54.696Z"
   },
   {
    "duration": 136,
    "start_time": "2022-05-07T16:08:57.093Z"
   },
   {
    "duration": 133,
    "start_time": "2022-05-07T16:09:30.257Z"
   },
   {
    "duration": 114,
    "start_time": "2022-05-07T16:09:42.580Z"
   },
   {
    "duration": 114,
    "start_time": "2022-05-07T16:12:38.263Z"
   },
   {
    "duration": 127,
    "start_time": "2022-05-07T16:13:35.972Z"
   },
   {
    "duration": 120,
    "start_time": "2022-05-07T16:13:50.493Z"
   },
   {
    "duration": 187,
    "start_time": "2022-05-07T16:15:06.184Z"
   },
   {
    "duration": 124,
    "start_time": "2022-05-07T16:15:58.982Z"
   },
   {
    "duration": 162,
    "start_time": "2022-05-07T16:18:02.236Z"
   },
   {
    "duration": 3,
    "start_time": "2022-05-07T16:18:09.062Z"
   },
   {
    "duration": 11,
    "start_time": "2022-05-07T16:18:30.511Z"
   },
   {
    "duration": 4,
    "start_time": "2022-05-07T16:18:39.046Z"
   },
   {
    "duration": 8,
    "start_time": "2022-05-07T16:18:50.017Z"
   },
   {
    "duration": 9,
    "start_time": "2022-05-07T16:19:00.315Z"
   },
   {
    "duration": 5,
    "start_time": "2022-05-07T16:19:36.373Z"
   },
   {
    "duration": 109,
    "start_time": "2022-05-07T16:19:48.549Z"
   },
   {
    "duration": 123,
    "start_time": "2022-05-07T16:20:57.823Z"
   },
   {
    "duration": 115,
    "start_time": "2022-05-07T16:21:14.010Z"
   },
   {
    "duration": 113,
    "start_time": "2022-05-07T16:21:36.010Z"
   },
   {
    "duration": 5,
    "start_time": "2022-05-07T16:21:42.780Z"
   },
   {
    "duration": 6,
    "start_time": "2022-05-07T16:22:26.273Z"
   },
   {
    "duration": 184,
    "start_time": "2022-05-07T16:22:59.780Z"
   },
   {
    "duration": 362,
    "start_time": "2022-05-07T16:23:09.278Z"
   },
   {
    "duration": 105,
    "start_time": "2022-05-07T16:23:20.170Z"
   },
   {
    "duration": 215,
    "start_time": "2022-05-07T16:30:54.937Z"
   },
   {
    "duration": 171,
    "start_time": "2022-05-07T16:31:08.181Z"
   },
   {
    "duration": 115,
    "start_time": "2022-05-07T16:31:17.347Z"
   },
   {
    "duration": 46,
    "start_time": "2022-05-09T16:11:56.299Z"
   },
   {
    "duration": 1594,
    "start_time": "2022-05-09T16:12:02.235Z"
   },
   {
    "duration": 102,
    "start_time": "2022-05-09T16:12:03.832Z"
   },
   {
    "duration": 13,
    "start_time": "2022-05-09T16:12:03.937Z"
   },
   {
    "duration": 4,
    "start_time": "2022-05-09T16:12:03.953Z"
   },
   {
    "duration": 21,
    "start_time": "2022-05-09T16:12:03.959Z"
   },
   {
    "duration": 4,
    "start_time": "2022-05-09T16:12:03.983Z"
   },
   {
    "duration": 5,
    "start_time": "2022-05-09T16:12:03.989Z"
   },
   {
    "duration": 8,
    "start_time": "2022-05-09T16:12:03.995Z"
   },
   {
    "duration": 29,
    "start_time": "2022-05-09T16:12:04.005Z"
   },
   {
    "duration": 33,
    "start_time": "2022-05-09T16:12:04.037Z"
   },
   {
    "duration": 7,
    "start_time": "2022-05-09T16:12:04.071Z"
   },
   {
    "duration": 19,
    "start_time": "2022-05-09T16:12:04.079Z"
   },
   {
    "duration": 180,
    "start_time": "2022-05-09T16:12:04.099Z"
   },
   {
    "duration": 5,
    "start_time": "2022-05-09T16:12:04.281Z"
   },
   {
    "duration": 131,
    "start_time": "2022-05-09T16:12:04.288Z"
   },
   {
    "duration": 139,
    "start_time": "2022-05-09T16:12:10.521Z"
   },
   {
    "duration": 126,
    "start_time": "2022-05-09T16:12:47.361Z"
   },
   {
    "duration": 115,
    "start_time": "2022-05-09T16:13:27.208Z"
   },
   {
    "duration": 116,
    "start_time": "2022-05-09T16:13:31.497Z"
   },
   {
    "duration": 119,
    "start_time": "2022-05-09T16:13:36.163Z"
   },
   {
    "duration": 188,
    "start_time": "2022-05-09T16:14:05.492Z"
   },
   {
    "duration": 231,
    "start_time": "2022-05-09T16:14:11.644Z"
   },
   {
    "duration": 127,
    "start_time": "2022-05-09T16:29:19.261Z"
   },
   {
    "duration": 201,
    "start_time": "2022-05-09T16:31:39.522Z"
   },
   {
    "duration": 244,
    "start_time": "2022-05-09T16:31:53.949Z"
   },
   {
    "duration": 110,
    "start_time": "2022-05-09T16:33:38.286Z"
   },
   {
    "duration": 113,
    "start_time": "2022-05-09T16:33:48.788Z"
   },
   {
    "duration": 137,
    "start_time": "2022-05-09T16:34:06.531Z"
   },
   {
    "duration": 136,
    "start_time": "2022-05-09T16:35:53.598Z"
   },
   {
    "duration": 111,
    "start_time": "2022-05-09T16:36:00.303Z"
   },
   {
    "duration": 137,
    "start_time": "2022-05-09T16:36:05.745Z"
   },
   {
    "duration": 108,
    "start_time": "2022-05-09T16:36:17.081Z"
   },
   {
    "duration": 103,
    "start_time": "2022-05-09T16:36:49.966Z"
   },
   {
    "duration": 128,
    "start_time": "2022-05-09T16:36:54.161Z"
   },
   {
    "duration": 12,
    "start_time": "2022-05-09T16:37:19.658Z"
   },
   {
    "duration": 132,
    "start_time": "2022-05-09T16:37:32.261Z"
   },
   {
    "duration": 252,
    "start_time": "2022-05-09T16:37:42.771Z"
   },
   {
    "duration": 11,
    "start_time": "2022-05-09T16:37:57.361Z"
   },
   {
    "duration": 212,
    "start_time": "2022-05-09T16:38:12.468Z"
   },
   {
    "duration": 235,
    "start_time": "2022-05-09T16:38:27.248Z"
   },
   {
    "duration": 199,
    "start_time": "2022-05-09T16:38:44.294Z"
   },
   {
    "duration": 313,
    "start_time": "2022-05-09T16:39:00.685Z"
   },
   {
    "duration": 104,
    "start_time": "2022-05-09T16:40:21.844Z"
   },
   {
    "duration": 189,
    "start_time": "2022-05-09T16:41:08.411Z"
   },
   {
    "duration": 100,
    "start_time": "2022-05-09T16:41:17.449Z"
   },
   {
    "duration": 96,
    "start_time": "2022-05-09T16:41:25.310Z"
   },
   {
    "duration": 181,
    "start_time": "2022-05-09T16:43:25.394Z"
   },
   {
    "duration": 175,
    "start_time": "2022-05-09T16:43:41.996Z"
   },
   {
    "duration": 163,
    "start_time": "2022-05-09T16:43:52.975Z"
   },
   {
    "duration": 354,
    "start_time": "2022-05-09T16:44:22.912Z"
   },
   {
    "duration": 250,
    "start_time": "2022-05-09T16:48:11.174Z"
   },
   {
    "duration": 254,
    "start_time": "2022-05-09T16:48:17.086Z"
   },
   {
    "duration": 220,
    "start_time": "2022-05-09T16:48:22.620Z"
   },
   {
    "duration": 244,
    "start_time": "2022-05-09T16:48:36.299Z"
   },
   {
    "duration": 150,
    "start_time": "2022-05-09T16:50:17.885Z"
   },
   {
    "duration": 321,
    "start_time": "2022-05-09T16:50:35.073Z"
   },
   {
    "duration": 282,
    "start_time": "2022-05-09T16:50:46.099Z"
   },
   {
    "duration": 2717,
    "start_time": "2022-05-09T16:50:54.377Z"
   },
   {
    "duration": 301,
    "start_time": "2022-05-09T16:51:09.095Z"
   },
   {
    "duration": 241,
    "start_time": "2022-05-09T16:51:20.805Z"
   },
   {
    "duration": 415,
    "start_time": "2022-05-09T16:51:32.894Z"
   },
   {
    "duration": 155,
    "start_time": "2022-05-09T16:51:39.173Z"
   },
   {
    "duration": 141,
    "start_time": "2022-05-09T16:51:54.433Z"
   },
   {
    "duration": 304,
    "start_time": "2022-05-09T16:52:05.517Z"
   },
   {
    "duration": 307,
    "start_time": "2022-05-09T16:59:45.073Z"
   },
   {
    "duration": 140,
    "start_time": "2022-05-09T17:00:58.409Z"
   },
   {
    "duration": 165,
    "start_time": "2022-05-09T17:01:04.641Z"
   },
   {
    "duration": 201,
    "start_time": "2022-05-09T17:01:46.194Z"
   },
   {
    "duration": 19,
    "start_time": "2022-05-09T17:07:45.695Z"
   },
   {
    "duration": 188,
    "start_time": "2022-05-09T17:07:55.430Z"
   },
   {
    "duration": 189,
    "start_time": "2022-05-09T17:08:06.409Z"
   },
   {
    "duration": 194,
    "start_time": "2022-05-09T17:08:20.899Z"
   },
   {
    "duration": 196,
    "start_time": "2022-05-09T17:08:41.437Z"
   },
   {
    "duration": 119,
    "start_time": "2022-05-09T17:09:53.173Z"
   },
   {
    "duration": 187,
    "start_time": "2022-05-09T17:10:20.374Z"
   },
   {
    "duration": 220,
    "start_time": "2022-05-09T17:10:42.722Z"
   },
   {
    "duration": 252,
    "start_time": "2022-05-09T17:10:53.917Z"
   },
   {
    "duration": 148,
    "start_time": "2022-05-09T17:12:27.070Z"
   },
   {
    "duration": 292,
    "start_time": "2022-05-09T17:13:48.386Z"
   },
   {
    "duration": 406,
    "start_time": "2022-05-09T17:16:25.530Z"
   },
   {
    "duration": 325,
    "start_time": "2022-05-09T17:16:49.372Z"
   },
   {
    "duration": 236,
    "start_time": "2022-05-09T17:17:10.779Z"
   },
   {
    "duration": 229,
    "start_time": "2022-05-09T17:17:36.113Z"
   },
   {
    "duration": 133,
    "start_time": "2022-05-09T17:19:21.010Z"
   },
   {
    "duration": 336,
    "start_time": "2022-05-09T17:19:40.722Z"
   },
   {
    "duration": 227,
    "start_time": "2022-05-09T17:20:19.547Z"
   },
   {
    "duration": 214,
    "start_time": "2022-05-09T17:22:55.079Z"
   },
   {
    "duration": 356,
    "start_time": "2022-05-09T17:26:10.063Z"
   },
   {
    "duration": 563,
    "start_time": "2022-05-09T17:26:18.517Z"
   },
   {
    "duration": 529,
    "start_time": "2022-05-09T17:26:40.095Z"
   },
   {
    "duration": 398,
    "start_time": "2022-05-09T17:26:48.681Z"
   },
   {
    "duration": 392,
    "start_time": "2022-05-09T17:27:38.839Z"
   },
   {
    "duration": 399,
    "start_time": "2022-05-09T17:29:10.384Z"
   },
   {
    "duration": 54,
    "start_time": "2022-05-10T13:54:43.877Z"
   },
   {
    "duration": 2041,
    "start_time": "2022-05-10T13:54:49.701Z"
   },
   {
    "duration": 87,
    "start_time": "2022-05-10T13:54:51.745Z"
   },
   {
    "duration": 10,
    "start_time": "2022-05-10T13:54:51.835Z"
   },
   {
    "duration": 6,
    "start_time": "2022-05-10T13:54:51.847Z"
   },
   {
    "duration": 10,
    "start_time": "2022-05-10T13:54:51.854Z"
   },
   {
    "duration": 5,
    "start_time": "2022-05-10T13:54:51.866Z"
   },
   {
    "duration": 7,
    "start_time": "2022-05-10T13:54:51.873Z"
   },
   {
    "duration": 8,
    "start_time": "2022-05-10T13:54:51.882Z"
   },
   {
    "duration": 51,
    "start_time": "2022-05-10T13:54:51.893Z"
   },
   {
    "duration": 15,
    "start_time": "2022-05-10T13:54:51.947Z"
   },
   {
    "duration": 7,
    "start_time": "2022-05-10T13:54:51.963Z"
   },
   {
    "duration": 20,
    "start_time": "2022-05-10T13:54:51.971Z"
   },
   {
    "duration": 157,
    "start_time": "2022-05-10T13:54:51.993Z"
   },
   {
    "duration": 5,
    "start_time": "2022-05-10T13:54:52.152Z"
   },
   {
    "duration": 484,
    "start_time": "2022-05-10T13:54:52.159Z"
   },
   {
    "duration": 4,
    "start_time": "2022-05-10T13:54:52.645Z"
   },
   {
    "duration": 16,
    "start_time": "2022-05-10T13:54:52.651Z"
   },
   {
    "duration": 3314,
    "start_time": "2022-05-10T14:11:57.126Z"
   },
   {
    "duration": 28,
    "start_time": "2022-05-10T14:12:43.203Z"
   },
   {
    "duration": 174,
    "start_time": "2022-05-10T14:13:48.210Z"
   },
   {
    "duration": 184,
    "start_time": "2022-05-10T14:13:56.099Z"
   },
   {
    "duration": 3826,
    "start_time": "2022-05-10T14:14:15.909Z"
   },
   {
    "duration": 3220,
    "start_time": "2022-05-10T14:15:21.548Z"
   },
   {
    "duration": 3087,
    "start_time": "2022-05-10T14:17:08.464Z"
   },
   {
    "duration": 1154,
    "start_time": "2022-05-10T14:18:02.440Z"
   },
   {
    "duration": 212,
    "start_time": "2022-05-10T14:18:56.842Z"
   },
   {
    "duration": 233,
    "start_time": "2022-05-10T14:19:18.587Z"
   },
   {
    "duration": 195,
    "start_time": "2022-05-10T14:19:38.715Z"
   },
   {
    "duration": 208,
    "start_time": "2022-05-10T14:19:53.649Z"
   },
   {
    "duration": 313,
    "start_time": "2022-05-10T14:20:18.030Z"
   },
   {
    "duration": 3718,
    "start_time": "2022-05-10T14:20:24.990Z"
   },
   {
    "duration": 39,
    "start_time": "2022-05-10T14:21:32.125Z"
   },
   {
    "duration": 182,
    "start_time": "2022-05-10T14:21:55.764Z"
   },
   {
    "duration": 192,
    "start_time": "2022-05-10T14:23:02.814Z"
   },
   {
    "duration": 253,
    "start_time": "2022-05-10T14:23:11.256Z"
   },
   {
    "duration": 191,
    "start_time": "2022-05-10T14:23:17.950Z"
   },
   {
    "duration": 178,
    "start_time": "2022-05-10T14:23:23.588Z"
   },
   {
    "duration": 212,
    "start_time": "2022-05-10T14:23:39.740Z"
   },
   {
    "duration": 169,
    "start_time": "2022-05-10T14:23:42.884Z"
   },
   {
    "duration": 255,
    "start_time": "2022-05-10T14:25:50.326Z"
   },
   {
    "duration": 12,
    "start_time": "2022-05-10T14:26:34.578Z"
   },
   {
    "duration": 12,
    "start_time": "2022-05-10T14:27:01.627Z"
   },
   {
    "duration": 99,
    "start_time": "2022-05-10T14:27:58.849Z"
   },
   {
    "duration": 199,
    "start_time": "2022-05-10T14:28:15.355Z"
   },
   {
    "duration": 15,
    "start_time": "2022-05-10T14:28:45.880Z"
   },
   {
    "duration": 249,
    "start_time": "2022-05-10T14:28:54.623Z"
   },
   {
    "duration": 256,
    "start_time": "2022-05-10T14:29:12.313Z"
   },
   {
    "duration": 261,
    "start_time": "2022-05-10T14:29:17.913Z"
   },
   {
    "duration": 563,
    "start_time": "2022-05-10T14:29:44.774Z"
   },
   {
    "duration": 497,
    "start_time": "2022-05-10T14:30:26.445Z"
   },
   {
    "duration": 366,
    "start_time": "2022-05-10T14:30:49.973Z"
   },
   {
    "duration": 356,
    "start_time": "2022-05-10T14:30:56.870Z"
   },
   {
    "duration": 11,
    "start_time": "2022-05-10T14:31:46.674Z"
   },
   {
    "duration": 8,
    "start_time": "2022-05-10T14:35:17.137Z"
   },
   {
    "duration": 19,
    "start_time": "2022-05-10T14:35:31.211Z"
   },
   {
    "duration": 4,
    "start_time": "2022-05-10T14:37:13.835Z"
   },
   {
    "duration": 19,
    "start_time": "2022-05-10T14:37:13.841Z"
   },
   {
    "duration": 6,
    "start_time": "2022-05-10T14:37:13.862Z"
   },
   {
    "duration": 6,
    "start_time": "2022-05-10T14:37:13.871Z"
   },
   {
    "duration": 6,
    "start_time": "2022-05-10T14:37:13.879Z"
   },
   {
    "duration": 5,
    "start_time": "2022-05-10T14:37:13.888Z"
   },
   {
    "duration": 29,
    "start_time": "2022-05-10T14:37:13.896Z"
   },
   {
    "duration": 13,
    "start_time": "2022-05-10T14:37:13.928Z"
   },
   {
    "duration": 51,
    "start_time": "2022-05-10T14:37:13.944Z"
   },
   {
    "duration": 14,
    "start_time": "2022-05-10T14:37:13.999Z"
   },
   {
    "duration": 16,
    "start_time": "2022-05-10T14:37:14.015Z"
   },
   {
    "duration": 29,
    "start_time": "2022-05-10T14:37:14.033Z"
   },
   {
    "duration": 181,
    "start_time": "2022-05-10T14:37:14.064Z"
   },
   {
    "duration": 10,
    "start_time": "2022-05-10T14:37:14.247Z"
   },
   {
    "duration": 836,
    "start_time": "2022-05-10T14:37:14.259Z"
   },
   {
    "duration": 9,
    "start_time": "2022-05-10T14:37:15.098Z"
   },
   {
    "duration": 23,
    "start_time": "2022-05-10T14:37:15.109Z"
   },
   {
    "duration": 290,
    "start_time": "2022-05-10T14:37:15.134Z"
   },
   {
    "duration": 517,
    "start_time": "2022-05-10T14:37:15.427Z"
   },
   {
    "duration": 16,
    "start_time": "2022-05-10T14:37:15.947Z"
   },
   {
    "duration": 10,
    "start_time": "2022-05-10T14:37:47.037Z"
   },
   {
    "duration": 16,
    "start_time": "2022-05-10T14:37:52.764Z"
   },
   {
    "duration": 8,
    "start_time": "2022-05-10T14:38:04.268Z"
   },
   {
    "duration": 178,
    "start_time": "2022-05-10T14:38:24.574Z"
   },
   {
    "duration": 292,
    "start_time": "2022-05-10T14:38:47.083Z"
   },
   {
    "duration": 11,
    "start_time": "2022-05-10T14:38:56.827Z"
   },
   {
    "duration": 6,
    "start_time": "2022-05-10T14:39:00.717Z"
   },
   {
    "duration": 18,
    "start_time": "2022-05-10T14:40:11.051Z"
   },
   {
    "duration": 14,
    "start_time": "2022-05-10T14:40:52.056Z"
   },
   {
    "duration": 20,
    "start_time": "2022-05-10T14:41:27.828Z"
   },
   {
    "duration": 6,
    "start_time": "2022-05-10T14:41:45.336Z"
   },
   {
    "duration": 22,
    "start_time": "2022-05-10T14:41:50.732Z"
   },
   {
    "duration": 6,
    "start_time": "2022-05-10T14:42:37.219Z"
   },
   {
    "duration": 6,
    "start_time": "2022-05-10T14:42:40.083Z"
   },
   {
    "duration": 18,
    "start_time": "2022-05-10T14:42:42.342Z"
   },
   {
    "duration": 7,
    "start_time": "2022-05-10T14:42:52.956Z"
   },
   {
    "duration": 13,
    "start_time": "2022-05-10T14:42:55.286Z"
   },
   {
    "duration": 4,
    "start_time": "2022-05-10T14:43:04.185Z"
   },
   {
    "duration": 11,
    "start_time": "2022-05-10T14:43:06.665Z"
   },
   {
    "duration": 343,
    "start_time": "2022-05-10T14:43:58.699Z"
   },
   {
    "duration": 402,
    "start_time": "2022-05-10T14:45:19.896Z"
   },
   {
    "duration": 603,
    "start_time": "2022-05-10T14:46:00.787Z"
   },
   {
    "duration": 410,
    "start_time": "2022-05-10T14:46:08.997Z"
   },
   {
    "duration": 300,
    "start_time": "2022-05-10T14:46:57.227Z"
   },
   {
    "duration": 397,
    "start_time": "2022-05-10T14:47:02.499Z"
   },
   {
    "duration": 155,
    "start_time": "2022-05-10T14:47:26.724Z"
   },
   {
    "duration": 408,
    "start_time": "2022-05-10T14:47:46.402Z"
   },
   {
    "duration": 394,
    "start_time": "2022-05-10T14:47:51.193Z"
   },
   {
    "duration": 338,
    "start_time": "2022-05-10T14:51:23.793Z"
   },
   {
    "duration": 387,
    "start_time": "2022-05-10T14:51:29.851Z"
   },
   {
    "duration": 473,
    "start_time": "2022-05-10T14:52:28.880Z"
   },
   {
    "duration": 318,
    "start_time": "2022-05-10T14:52:37.727Z"
   },
   {
    "duration": 444,
    "start_time": "2022-05-10T14:54:14.110Z"
   },
   {
    "duration": 353,
    "start_time": "2022-05-10T14:54:22.646Z"
   },
   {
    "duration": 385,
    "start_time": "2022-05-10T14:55:13.641Z"
   },
   {
    "duration": 289,
    "start_time": "2022-05-10T14:56:23.498Z"
   },
   {
    "duration": 353,
    "start_time": "2022-05-10T14:57:49.203Z"
   },
   {
    "duration": 395,
    "start_time": "2022-05-10T14:58:01.364Z"
   },
   {
    "duration": 372,
    "start_time": "2022-05-10T14:58:13.188Z"
   },
   {
    "duration": 390,
    "start_time": "2022-05-10T14:59:15.688Z"
   },
   {
    "duration": 355,
    "start_time": "2022-05-10T14:59:47.592Z"
   },
   {
    "duration": 447,
    "start_time": "2022-05-10T15:06:31.496Z"
   },
   {
    "duration": 366,
    "start_time": "2022-05-10T15:06:58.586Z"
   },
   {
    "duration": 331,
    "start_time": "2022-05-10T15:07:20.181Z"
   },
   {
    "duration": 313,
    "start_time": "2022-05-10T15:08:07.446Z"
   },
   {
    "duration": 405,
    "start_time": "2022-05-10T15:13:59.083Z"
   },
   {
    "duration": 392,
    "start_time": "2022-05-10T15:14:06.024Z"
   },
   {
    "duration": 371,
    "start_time": "2022-05-10T15:14:11.373Z"
   },
   {
    "duration": 321,
    "start_time": "2022-05-10T15:14:16.534Z"
   },
   {
    "duration": 469,
    "start_time": "2022-05-10T15:14:36.767Z"
   },
   {
    "duration": 381,
    "start_time": "2022-05-10T15:14:56.919Z"
   },
   {
    "duration": 313,
    "start_time": "2022-05-10T15:17:37.440Z"
   },
   {
    "duration": 433,
    "start_time": "2022-05-10T15:17:51.801Z"
   },
   {
    "duration": 327,
    "start_time": "2022-05-10T15:18:04.554Z"
   },
   {
    "duration": 405,
    "start_time": "2022-05-10T15:18:23.478Z"
   },
   {
    "duration": 218,
    "start_time": "2022-05-10T15:18:33.951Z"
   },
   {
    "duration": 445,
    "start_time": "2022-05-10T15:19:55.944Z"
   },
   {
    "duration": 352,
    "start_time": "2022-05-10T15:20:34.356Z"
   },
   {
    "duration": 308,
    "start_time": "2022-05-10T15:21:49.573Z"
   },
   {
    "duration": 360,
    "start_time": "2022-05-10T15:23:43.545Z"
   },
   {
    "duration": 363,
    "start_time": "2022-05-10T15:23:59.269Z"
   },
   {
    "duration": 351,
    "start_time": "2022-05-10T15:24:15.492Z"
   },
   {
    "duration": 364,
    "start_time": "2022-05-10T15:24:30.869Z"
   },
   {
    "duration": 371,
    "start_time": "2022-05-10T15:24:41.333Z"
   },
   {
    "duration": 882,
    "start_time": "2022-05-10T15:25:26.197Z"
   },
   {
    "duration": 356,
    "start_time": "2022-05-10T15:25:39.126Z"
   },
   {
    "duration": 438,
    "start_time": "2022-05-10T15:25:45.671Z"
   },
   {
    "duration": 573,
    "start_time": "2022-05-10T15:25:58.002Z"
   },
   {
    "duration": 15,
    "start_time": "2022-05-10T15:30:40.423Z"
   },
   {
    "duration": 12,
    "start_time": "2022-05-10T15:33:06.573Z"
   },
   {
    "duration": 11,
    "start_time": "2022-05-10T15:33:32.979Z"
   },
   {
    "duration": 180,
    "start_time": "2022-05-10T15:37:40.679Z"
   },
   {
    "duration": 127,
    "start_time": "2022-05-10T15:40:47.280Z"
   },
   {
    "duration": 20,
    "start_time": "2022-05-10T15:42:20.744Z"
   },
   {
    "duration": 16,
    "start_time": "2022-05-10T15:42:58.229Z"
   },
   {
    "duration": 16,
    "start_time": "2022-05-10T15:43:05.069Z"
   },
   {
    "duration": 17,
    "start_time": "2022-05-10T15:43:11.591Z"
   },
   {
    "duration": 13,
    "start_time": "2022-05-10T15:46:33.535Z"
   },
   {
    "duration": 11,
    "start_time": "2022-05-10T15:46:50.115Z"
   },
   {
    "duration": 15,
    "start_time": "2022-05-10T15:47:34.761Z"
   },
   {
    "duration": 380,
    "start_time": "2022-05-10T15:51:28.690Z"
   },
   {
    "duration": 186,
    "start_time": "2022-05-10T15:51:52.232Z"
   },
   {
    "duration": 218,
    "start_time": "2022-05-10T15:52:25.852Z"
   },
   {
    "duration": 415,
    "start_time": "2022-05-10T15:52:34.386Z"
   },
   {
    "duration": 21,
    "start_time": "2022-05-10T16:11:38.832Z"
   },
   {
    "duration": 11,
    "start_time": "2022-05-10T16:16:57.136Z"
   },
   {
    "duration": 36,
    "start_time": "2022-05-10T16:17:09.969Z"
   },
   {
    "duration": 24,
    "start_time": "2022-05-10T16:17:17.098Z"
   },
   {
    "duration": 32,
    "start_time": "2022-05-10T16:17:40.853Z"
   },
   {
    "duration": 35,
    "start_time": "2022-05-10T16:17:48.212Z"
   },
   {
    "duration": 5,
    "start_time": "2022-05-10T16:18:29.880Z"
   },
   {
    "duration": 34,
    "start_time": "2022-05-10T16:21:18.149Z"
   },
   {
    "duration": 26,
    "start_time": "2022-05-10T16:23:44.934Z"
   },
   {
    "duration": 196,
    "start_time": "2022-05-10T16:24:46.990Z"
   },
   {
    "duration": 188,
    "start_time": "2022-05-10T16:24:54.917Z"
   },
   {
    "duration": 149,
    "start_time": "2022-05-10T16:24:59.552Z"
   },
   {
    "duration": 227,
    "start_time": "2022-05-10T16:25:14.983Z"
   },
   {
    "duration": 191,
    "start_time": "2022-05-10T16:25:36.505Z"
   },
   {
    "duration": 185,
    "start_time": "2022-05-10T16:26:26.418Z"
   },
   {
    "duration": 197,
    "start_time": "2022-05-10T16:26:42.136Z"
   },
   {
    "duration": 374,
    "start_time": "2022-05-10T16:27:15.611Z"
   },
   {
    "duration": 284,
    "start_time": "2022-05-10T16:27:36.398Z"
   },
   {
    "duration": 369,
    "start_time": "2022-05-10T16:27:46.007Z"
   },
   {
    "duration": 302,
    "start_time": "2022-05-10T16:27:52.144Z"
   },
   {
    "duration": 293,
    "start_time": "2022-05-10T16:27:56.272Z"
   },
   {
    "duration": 310,
    "start_time": "2022-05-10T16:28:17.860Z"
   },
   {
    "duration": 310,
    "start_time": "2022-05-10T16:28:24.867Z"
   },
   {
    "duration": 194,
    "start_time": "2022-05-10T16:31:12.160Z"
   },
   {
    "duration": 12,
    "start_time": "2022-05-10T17:37:32.753Z"
   },
   {
    "duration": 13,
    "start_time": "2022-05-10T17:37:39.196Z"
   },
   {
    "duration": 14,
    "start_time": "2022-05-10T17:39:25.512Z"
   },
   {
    "duration": 4,
    "start_time": "2022-05-10T17:42:56.824Z"
   },
   {
    "duration": 50,
    "start_time": "2022-05-10T17:42:56.829Z"
   },
   {
    "duration": 5,
    "start_time": "2022-05-10T17:42:56.880Z"
   },
   {
    "duration": 5,
    "start_time": "2022-05-10T17:42:56.887Z"
   },
   {
    "duration": 5,
    "start_time": "2022-05-10T17:42:56.894Z"
   },
   {
    "duration": 5,
    "start_time": "2022-05-10T17:42:56.900Z"
   },
   {
    "duration": 6,
    "start_time": "2022-05-10T17:42:56.907Z"
   },
   {
    "duration": 9,
    "start_time": "2022-05-10T17:42:56.915Z"
   },
   {
    "duration": 117,
    "start_time": "2022-05-10T17:42:56.925Z"
   },
   {
    "duration": 14,
    "start_time": "2022-05-10T17:42:57.043Z"
   },
   {
    "duration": 7,
    "start_time": "2022-05-10T17:42:57.059Z"
   },
   {
    "duration": 22,
    "start_time": "2022-05-10T17:42:57.068Z"
   },
   {
    "duration": 155,
    "start_time": "2022-05-10T17:42:57.092Z"
   },
   {
    "duration": 5,
    "start_time": "2022-05-10T17:42:57.250Z"
   },
   {
    "duration": 473,
    "start_time": "2022-05-10T17:42:57.257Z"
   },
   {
    "duration": 6,
    "start_time": "2022-05-10T17:42:57.739Z"
   },
   {
    "duration": 172,
    "start_time": "2022-05-10T17:42:57.747Z"
   },
   {
    "duration": 329,
    "start_time": "2022-05-10T17:42:57.920Z"
   },
   {
    "duration": 27,
    "start_time": "2022-05-10T17:42:58.251Z"
   },
   {
    "duration": 0,
    "start_time": "2022-05-10T17:42:58.281Z"
   },
   {
    "duration": 0,
    "start_time": "2022-05-10T17:42:58.282Z"
   },
   {
    "duration": 0,
    "start_time": "2022-05-10T17:42:58.283Z"
   },
   {
    "duration": 0,
    "start_time": "2022-05-10T17:42:58.284Z"
   },
   {
    "duration": 0,
    "start_time": "2022-05-10T17:42:58.285Z"
   },
   {
    "duration": 0,
    "start_time": "2022-05-10T17:42:58.286Z"
   },
   {
    "duration": 0,
    "start_time": "2022-05-10T17:42:58.287Z"
   },
   {
    "duration": 143,
    "start_time": "2022-05-10T17:43:16.756Z"
   },
   {
    "duration": 3,
    "start_time": "2022-05-10T17:43:20.851Z"
   },
   {
    "duration": 23,
    "start_time": "2022-05-10T17:43:20.855Z"
   },
   {
    "duration": 5,
    "start_time": "2022-05-10T17:43:20.880Z"
   },
   {
    "duration": 7,
    "start_time": "2022-05-10T17:43:20.887Z"
   },
   {
    "duration": 5,
    "start_time": "2022-05-10T17:43:20.896Z"
   },
   {
    "duration": 5,
    "start_time": "2022-05-10T17:43:20.903Z"
   },
   {
    "duration": 11,
    "start_time": "2022-05-10T17:43:20.910Z"
   },
   {
    "duration": 10,
    "start_time": "2022-05-10T17:43:20.922Z"
   },
   {
    "duration": 58,
    "start_time": "2022-05-10T17:43:20.935Z"
   },
   {
    "duration": 15,
    "start_time": "2022-05-10T17:43:20.996Z"
   },
   {
    "duration": 15,
    "start_time": "2022-05-10T17:43:21.013Z"
   },
   {
    "duration": 24,
    "start_time": "2022-05-10T17:43:21.031Z"
   },
   {
    "duration": 145,
    "start_time": "2022-05-10T17:43:21.057Z"
   },
   {
    "duration": 5,
    "start_time": "2022-05-10T17:43:21.204Z"
   },
   {
    "duration": 574,
    "start_time": "2022-05-10T17:43:21.211Z"
   },
   {
    "duration": 6,
    "start_time": "2022-05-10T17:43:21.788Z"
   },
   {
    "duration": 198,
    "start_time": "2022-05-10T17:43:21.797Z"
   },
   {
    "duration": 372,
    "start_time": "2022-05-10T17:43:21.997Z"
   },
   {
    "duration": 218,
    "start_time": "2022-05-10T17:43:22.371Z"
   },
   {
    "duration": 17,
    "start_time": "2022-05-10T17:43:22.591Z"
   },
   {
    "duration": 26,
    "start_time": "2022-05-10T17:43:22.610Z"
   },
   {
    "duration": 0,
    "start_time": "2022-05-10T17:43:22.638Z"
   },
   {
    "duration": 0,
    "start_time": "2022-05-10T17:43:22.639Z"
   },
   {
    "duration": 0,
    "start_time": "2022-05-10T17:43:22.641Z"
   },
   {
    "duration": 0,
    "start_time": "2022-05-10T17:43:22.642Z"
   },
   {
    "duration": 0,
    "start_time": "2022-05-10T17:43:22.643Z"
   },
   {
    "duration": 11,
    "start_time": "2022-05-10T17:43:36.567Z"
   },
   {
    "duration": 207,
    "start_time": "2022-05-10T17:43:40.541Z"
   },
   {
    "duration": 17,
    "start_time": "2022-05-10T17:43:41.851Z"
   },
   {
    "duration": 323,
    "start_time": "2022-05-10T17:43:42.027Z"
   },
   {
    "duration": 16,
    "start_time": "2022-05-10T17:43:48.813Z"
   },
   {
    "duration": 19,
    "start_time": "2022-05-10T17:43:49.933Z"
   },
   {
    "duration": 4,
    "start_time": "2022-05-10T17:43:54.633Z"
   },
   {
    "duration": 24,
    "start_time": "2022-05-10T17:43:54.639Z"
   },
   {
    "duration": 8,
    "start_time": "2022-05-10T17:43:54.665Z"
   },
   {
    "duration": 22,
    "start_time": "2022-05-10T17:43:54.675Z"
   },
   {
    "duration": 7,
    "start_time": "2022-05-10T17:43:54.699Z"
   },
   {
    "duration": 26,
    "start_time": "2022-05-10T17:43:54.707Z"
   },
   {
    "duration": 13,
    "start_time": "2022-05-10T17:43:54.735Z"
   },
   {
    "duration": 21,
    "start_time": "2022-05-10T17:43:54.750Z"
   },
   {
    "duration": 57,
    "start_time": "2022-05-10T17:43:54.775Z"
   },
   {
    "duration": 12,
    "start_time": "2022-05-10T17:43:54.835Z"
   },
   {
    "duration": 14,
    "start_time": "2022-05-10T17:43:54.849Z"
   },
   {
    "duration": 34,
    "start_time": "2022-05-10T17:43:54.864Z"
   },
   {
    "duration": 138,
    "start_time": "2022-05-10T17:43:54.899Z"
   },
   {
    "duration": 5,
    "start_time": "2022-05-10T17:43:55.038Z"
   },
   {
    "duration": 424,
    "start_time": "2022-05-10T17:43:55.045Z"
   },
   {
    "duration": 7,
    "start_time": "2022-05-10T17:43:55.470Z"
   },
   {
    "duration": 177,
    "start_time": "2022-05-10T17:43:55.479Z"
   },
   {
    "duration": 367,
    "start_time": "2022-05-10T17:43:55.658Z"
   },
   {
    "duration": 135,
    "start_time": "2022-05-10T17:43:56.027Z"
   },
   {
    "duration": 12,
    "start_time": "2022-05-10T17:43:56.163Z"
   },
   {
    "duration": 10,
    "start_time": "2022-05-10T17:43:56.177Z"
   },
   {
    "duration": 216,
    "start_time": "2022-05-10T17:43:56.189Z"
   },
   {
    "duration": 23,
    "start_time": "2022-05-10T17:43:56.407Z"
   },
   {
    "duration": 302,
    "start_time": "2022-05-10T17:43:56.436Z"
   },
   {
    "duration": 12,
    "start_time": "2022-05-10T17:43:56.740Z"
   },
   {
    "duration": 17,
    "start_time": "2022-05-10T17:43:56.754Z"
   },
   {
    "duration": 16,
    "start_time": "2022-05-10T17:54:34.309Z"
   },
   {
    "duration": 12,
    "start_time": "2022-05-10T17:54:36.206Z"
   },
   {
    "duration": 315,
    "start_time": "2022-05-10T17:54:37.082Z"
   },
   {
    "duration": 19,
    "start_time": "2022-05-10T17:54:38.431Z"
   },
   {
    "duration": 309,
    "start_time": "2022-05-10T17:54:38.610Z"
   },
   {
    "duration": 11,
    "start_time": "2022-05-10T18:00:41.048Z"
   },
   {
    "duration": 4,
    "start_time": "2022-05-10T18:01:21.089Z"
   },
   {
    "duration": 16,
    "start_time": "2022-05-10T18:01:21.096Z"
   },
   {
    "duration": 5,
    "start_time": "2022-05-10T18:01:21.114Z"
   },
   {
    "duration": 9,
    "start_time": "2022-05-10T18:01:21.121Z"
   },
   {
    "duration": 7,
    "start_time": "2022-05-10T18:01:21.133Z"
   },
   {
    "duration": 4,
    "start_time": "2022-05-10T18:01:21.144Z"
   },
   {
    "duration": 6,
    "start_time": "2022-05-10T18:01:21.151Z"
   },
   {
    "duration": 16,
    "start_time": "2022-05-10T18:01:21.158Z"
   },
   {
    "duration": 55,
    "start_time": "2022-05-10T18:01:21.177Z"
   },
   {
    "duration": 16,
    "start_time": "2022-05-10T18:01:21.234Z"
   },
   {
    "duration": 7,
    "start_time": "2022-05-10T18:01:21.252Z"
   },
   {
    "duration": 23,
    "start_time": "2022-05-10T18:01:21.260Z"
   },
   {
    "duration": 189,
    "start_time": "2022-05-10T18:01:21.285Z"
   },
   {
    "duration": 5,
    "start_time": "2022-05-10T18:01:21.477Z"
   },
   {
    "duration": 470,
    "start_time": "2022-05-10T18:01:21.484Z"
   },
   {
    "duration": 6,
    "start_time": "2022-05-10T18:01:21.956Z"
   },
   {
    "duration": 203,
    "start_time": "2022-05-10T18:01:21.964Z"
   },
   {
    "duration": 423,
    "start_time": "2022-05-10T18:01:22.169Z"
   },
   {
    "duration": 148,
    "start_time": "2022-05-10T18:01:22.594Z"
   },
   {
    "duration": 12,
    "start_time": "2022-05-10T18:01:22.744Z"
   },
   {
    "duration": 11,
    "start_time": "2022-05-10T18:01:22.758Z"
   },
   {
    "duration": 221,
    "start_time": "2022-05-10T18:01:22.771Z"
   },
   {
    "duration": 17,
    "start_time": "2022-05-10T18:01:22.994Z"
   },
   {
    "duration": 352,
    "start_time": "2022-05-10T18:01:23.012Z"
   },
   {
    "duration": 215,
    "start_time": "2022-05-10T18:05:52.960Z"
   },
   {
    "duration": 228,
    "start_time": "2022-05-10T18:06:16.315Z"
   },
   {
    "duration": 10,
    "start_time": "2022-05-10T18:11:46.072Z"
   },
   {
    "duration": 8,
    "start_time": "2022-05-10T18:12:02.850Z"
   },
   {
    "duration": 19,
    "start_time": "2022-05-10T18:12:17.456Z"
   },
   {
    "duration": 7,
    "start_time": "2022-05-10T18:13:00.074Z"
   },
   {
    "duration": 19,
    "start_time": "2022-05-10T18:13:05.026Z"
   },
   {
    "duration": 28,
    "start_time": "2022-05-10T18:13:59.981Z"
   },
   {
    "duration": 33,
    "start_time": "2022-05-10T18:19:14.075Z"
   },
   {
    "duration": 22,
    "start_time": "2022-05-10T18:19:26.221Z"
   },
   {
    "duration": 11,
    "start_time": "2022-05-10T18:19:45.862Z"
   },
   {
    "duration": 11,
    "start_time": "2022-05-10T18:20:00.961Z"
   },
   {
    "duration": 19,
    "start_time": "2022-05-10T18:20:11.683Z"
   },
   {
    "duration": 19,
    "start_time": "2022-05-10T18:20:33.921Z"
   },
   {
    "duration": 17,
    "start_time": "2022-05-10T18:20:41.441Z"
   },
   {
    "duration": 15,
    "start_time": "2022-05-10T18:21:30.051Z"
   },
   {
    "duration": 157,
    "start_time": "2022-05-10T18:21:44.006Z"
   },
   {
    "duration": 266,
    "start_time": "2022-05-10T18:22:01.207Z"
   },
   {
    "duration": 189,
    "start_time": "2022-05-10T18:23:28.107Z"
   },
   {
    "duration": 18,
    "start_time": "2022-05-10T18:28:26.682Z"
   },
   {
    "duration": 378,
    "start_time": "2022-05-10T18:29:29.058Z"
   },
   {
    "duration": 300,
    "start_time": "2022-05-10T18:29:39.291Z"
   },
   {
    "duration": 292,
    "start_time": "2022-05-10T18:29:43.073Z"
   },
   {
    "duration": 304,
    "start_time": "2022-05-10T18:30:32.143Z"
   },
   {
    "duration": 360,
    "start_time": "2022-05-10T18:30:44.596Z"
   },
   {
    "duration": 310,
    "start_time": "2022-05-10T18:31:01.140Z"
   },
   {
    "duration": 347,
    "start_time": "2022-05-10T18:31:07.789Z"
   },
   {
    "duration": 338,
    "start_time": "2022-05-10T18:45:55.481Z"
   },
   {
    "duration": 122,
    "start_time": "2022-05-10T18:46:45.295Z"
   },
   {
    "duration": 196,
    "start_time": "2022-05-10T18:48:56.530Z"
   },
   {
    "duration": 5,
    "start_time": "2022-05-10T18:49:00.241Z"
   },
   {
    "duration": 8,
    "start_time": "2022-05-10T18:49:27.111Z"
   },
   {
    "duration": 132,
    "start_time": "2022-05-10T18:50:18.171Z"
   },
   {
    "duration": 13,
    "start_time": "2022-05-10T18:51:55.176Z"
   },
   {
    "duration": 9,
    "start_time": "2022-05-10T18:54:01.180Z"
   },
   {
    "duration": 12,
    "start_time": "2022-05-10T18:54:10.862Z"
   },
   {
    "duration": 103,
    "start_time": "2022-05-10T18:54:49.457Z"
   },
   {
    "duration": 220,
    "start_time": "2022-05-10T18:57:13.356Z"
   },
   {
    "duration": 5,
    "start_time": "2022-05-10T18:58:58.526Z"
   },
   {
    "duration": 9,
    "start_time": "2022-05-10T18:59:56.958Z"
   },
   {
    "duration": 6,
    "start_time": "2022-05-10T19:00:16.510Z"
   },
   {
    "duration": 6,
    "start_time": "2022-05-10T19:00:27.999Z"
   },
   {
    "duration": 5,
    "start_time": "2022-05-10T19:00:42.322Z"
   },
   {
    "duration": 5,
    "start_time": "2022-05-10T19:01:09.525Z"
   },
   {
    "duration": 5,
    "start_time": "2022-05-10T19:01:27.299Z"
   },
   {
    "duration": 5,
    "start_time": "2022-05-10T19:01:38.176Z"
   },
   {
    "duration": 5,
    "start_time": "2022-05-10T19:01:41.775Z"
   },
   {
    "duration": 4,
    "start_time": "2022-05-10T19:01:45.546Z"
   },
   {
    "duration": 5,
    "start_time": "2022-05-10T19:01:54.170Z"
   },
   {
    "duration": 5,
    "start_time": "2022-05-10T19:02:24.949Z"
   },
   {
    "duration": 5,
    "start_time": "2022-05-10T19:02:49.647Z"
   },
   {
    "duration": 5,
    "start_time": "2022-05-10T19:05:43.324Z"
   },
   {
    "duration": 5,
    "start_time": "2022-05-10T19:06:49.544Z"
   },
   {
    "duration": 135,
    "start_time": "2022-05-10T19:07:44.250Z"
   },
   {
    "duration": 13,
    "start_time": "2022-05-10T19:08:33.732Z"
   },
   {
    "duration": 295,
    "start_time": "2022-05-10T19:10:08.983Z"
   },
   {
    "duration": 283,
    "start_time": "2022-05-10T19:11:12.729Z"
   },
   {
    "duration": 246,
    "start_time": "2022-05-10T19:11:59.154Z"
   },
   {
    "duration": 254,
    "start_time": "2022-05-10T19:12:20.945Z"
   },
   {
    "duration": 291,
    "start_time": "2022-05-10T19:13:15.064Z"
   },
   {
    "duration": 8,
    "start_time": "2022-05-10T19:13:57.380Z"
   },
   {
    "duration": 5,
    "start_time": "2022-05-10T19:14:19.110Z"
   },
   {
    "duration": 5,
    "start_time": "2022-05-10T19:14:41.853Z"
   },
   {
    "duration": 246,
    "start_time": "2022-05-10T19:14:47.072Z"
   },
   {
    "duration": 273,
    "start_time": "2022-05-10T19:15:00.135Z"
   },
   {
    "duration": 260,
    "start_time": "2022-05-10T19:15:23.024Z"
   },
   {
    "duration": 250,
    "start_time": "2022-05-10T19:15:28.951Z"
   },
   {
    "duration": 269,
    "start_time": "2022-05-10T19:15:46.569Z"
   },
   {
    "duration": 250,
    "start_time": "2022-05-10T19:15:56.461Z"
   },
   {
    "duration": 277,
    "start_time": "2022-05-10T19:16:12.811Z"
   },
   {
    "duration": 185,
    "start_time": "2022-05-10T19:24:47.525Z"
   },
   {
    "duration": 9,
    "start_time": "2022-05-10T19:27:07.092Z"
   },
   {
    "duration": 10,
    "start_time": "2022-05-10T19:27:11.214Z"
   },
   {
    "duration": 223,
    "start_time": "2022-05-10T19:28:11.505Z"
   },
   {
    "duration": 7,
    "start_time": "2022-05-10T19:28:25.341Z"
   },
   {
    "duration": 13,
    "start_time": "2022-05-10T19:28:31.606Z"
   },
   {
    "duration": 19,
    "start_time": "2022-05-10T19:32:19.503Z"
   },
   {
    "duration": 15,
    "start_time": "2022-05-10T19:33:10.611Z"
   },
   {
    "duration": 10,
    "start_time": "2022-05-10T19:33:19.340Z"
   },
   {
    "duration": 10,
    "start_time": "2022-05-10T19:33:25.223Z"
   },
   {
    "duration": 16,
    "start_time": "2022-05-10T19:35:20.412Z"
   },
   {
    "duration": 13,
    "start_time": "2022-05-10T19:35:34.805Z"
   },
   {
    "duration": 149,
    "start_time": "2022-05-10T19:37:11.215Z"
   },
   {
    "duration": 6,
    "start_time": "2022-05-10T19:38:08.077Z"
   },
   {
    "duration": 5,
    "start_time": "2022-05-10T19:40:33.878Z"
   },
   {
    "duration": 5,
    "start_time": "2022-05-10T19:41:04.234Z"
   },
   {
    "duration": 4,
    "start_time": "2022-05-10T19:41:42.039Z"
   },
   {
    "duration": 7,
    "start_time": "2022-05-10T19:47:11.412Z"
   },
   {
    "duration": 12,
    "start_time": "2022-05-10T19:48:00.793Z"
   },
   {
    "duration": 7,
    "start_time": "2022-05-10T19:48:28.295Z"
   },
   {
    "duration": 29,
    "start_time": "2022-05-10T19:50:33.704Z"
   },
   {
    "duration": 23,
    "start_time": "2022-05-10T19:53:00.851Z"
   },
   {
    "duration": 192,
    "start_time": "2022-05-10T19:58:45.825Z"
   },
   {
    "duration": 16,
    "start_time": "2022-05-10T19:59:51.940Z"
   },
   {
    "duration": 15,
    "start_time": "2022-05-10T20:02:04.424Z"
   },
   {
    "duration": 20,
    "start_time": "2022-05-10T20:11:43.075Z"
   },
   {
    "duration": 18,
    "start_time": "2022-05-10T20:12:23.437Z"
   },
   {
    "duration": 9,
    "start_time": "2022-05-10T20:16:36.418Z"
   },
   {
    "duration": 11,
    "start_time": "2022-05-10T20:22:21.882Z"
   },
   {
    "duration": 124,
    "start_time": "2022-05-10T20:23:12.851Z"
   },
   {
    "duration": 13,
    "start_time": "2022-05-10T20:23:24.821Z"
   },
   {
    "duration": 27,
    "start_time": "2022-05-10T20:27:53.533Z"
   },
   {
    "duration": 41,
    "start_time": "2022-05-10T20:31:12.986Z"
   },
   {
    "duration": 21,
    "start_time": "2022-05-10T20:32:31.226Z"
   },
   {
    "duration": 14,
    "start_time": "2022-05-10T20:32:36.346Z"
   },
   {
    "duration": 23,
    "start_time": "2022-05-10T20:32:48.332Z"
   },
   {
    "duration": 22,
    "start_time": "2022-05-10T20:33:22.358Z"
   },
   {
    "duration": 19,
    "start_time": "2022-05-10T20:33:27.934Z"
   },
   {
    "duration": 27,
    "start_time": "2022-05-10T20:33:35.384Z"
   },
   {
    "duration": 19,
    "start_time": "2022-05-10T20:34:19.860Z"
   },
   {
    "duration": 18,
    "start_time": "2022-05-10T20:34:30.489Z"
   },
   {
    "duration": 50,
    "start_time": "2022-05-10T20:34:37.103Z"
   },
   {
    "duration": 12,
    "start_time": "2022-05-10T20:35:41.002Z"
   },
   {
    "duration": 4948,
    "start_time": "2022-05-10T20:35:45.094Z"
   },
   {
    "duration": 19,
    "start_time": "2022-05-10T20:37:12.855Z"
   },
   {
    "duration": 35,
    "start_time": "2022-05-10T20:37:26.944Z"
   },
   {
    "duration": 18,
    "start_time": "2022-05-10T20:37:59.237Z"
   },
   {
    "duration": 38,
    "start_time": "2022-05-10T20:40:13.767Z"
   },
   {
    "duration": 18,
    "start_time": "2022-05-10T20:40:31.272Z"
   },
   {
    "duration": 15,
    "start_time": "2022-05-10T20:41:07.890Z"
   },
   {
    "duration": 34,
    "start_time": "2022-05-10T20:41:11.011Z"
   },
   {
    "duration": 23,
    "start_time": "2022-05-10T20:43:02.639Z"
   },
   {
    "duration": 34,
    "start_time": "2022-05-10T20:43:06.810Z"
   },
   {
    "duration": 19,
    "start_time": "2022-05-10T20:43:19.762Z"
   },
   {
    "duration": 24,
    "start_time": "2022-05-10T20:43:26.170Z"
   },
   {
    "duration": 23,
    "start_time": "2022-05-10T20:43:36.186Z"
   },
   {
    "duration": 37,
    "start_time": "2022-05-10T20:45:39.738Z"
   },
   {
    "duration": 15,
    "start_time": "2022-05-10T20:46:17.106Z"
   },
   {
    "duration": 7,
    "start_time": "2022-05-10T20:48:40.395Z"
   },
   {
    "duration": 14,
    "start_time": "2022-05-10T20:50:23.115Z"
   },
   {
    "duration": 7,
    "start_time": "2022-05-10T20:50:37.543Z"
   },
   {
    "duration": 217,
    "start_time": "2022-05-10T20:51:20.310Z"
   },
   {
    "duration": 3086,
    "start_time": "2022-05-10T20:53:31.997Z"
   },
   {
    "duration": 9,
    "start_time": "2022-05-10T20:54:34.863Z"
   },
   {
    "duration": 22,
    "start_time": "2022-05-10T20:54:47.934Z"
   },
   {
    "duration": 8,
    "start_time": "2022-05-10T20:54:55.090Z"
   },
   {
    "duration": 43,
    "start_time": "2022-05-10T20:54:57.310Z"
   },
   {
    "duration": 17,
    "start_time": "2022-05-10T21:00:31.083Z"
   },
   {
    "duration": 67,
    "start_time": "2022-05-11T09:50:54.803Z"
   },
   {
    "duration": 1548,
    "start_time": "2022-05-11T09:50:58.939Z"
   },
   {
    "duration": 93,
    "start_time": "2022-05-11T09:51:00.490Z"
   },
   {
    "duration": 10,
    "start_time": "2022-05-11T09:51:00.585Z"
   },
   {
    "duration": 14,
    "start_time": "2022-05-11T09:51:00.598Z"
   },
   {
    "duration": 14,
    "start_time": "2022-05-11T09:51:00.614Z"
   },
   {
    "duration": 11,
    "start_time": "2022-05-11T09:51:00.630Z"
   },
   {
    "duration": 17,
    "start_time": "2022-05-11T09:51:00.643Z"
   },
   {
    "duration": 19,
    "start_time": "2022-05-11T09:51:00.662Z"
   },
   {
    "duration": 64,
    "start_time": "2022-05-11T09:51:00.683Z"
   },
   {
    "duration": 23,
    "start_time": "2022-05-11T09:51:00.751Z"
   },
   {
    "duration": 10,
    "start_time": "2022-05-11T09:51:00.776Z"
   },
   {
    "duration": 43,
    "start_time": "2022-05-11T09:51:00.789Z"
   },
   {
    "duration": 230,
    "start_time": "2022-05-11T09:51:00.835Z"
   },
   {
    "duration": 7,
    "start_time": "2022-05-11T09:51:01.068Z"
   },
   {
    "duration": 719,
    "start_time": "2022-05-11T09:51:01.077Z"
   },
   {
    "duration": 12,
    "start_time": "2022-05-11T09:51:01.798Z"
   },
   {
    "duration": 294,
    "start_time": "2022-05-11T09:51:01.812Z"
   },
   {
    "duration": 654,
    "start_time": "2022-05-11T09:51:02.108Z"
   },
   {
    "duration": 239,
    "start_time": "2022-05-11T09:51:02.764Z"
   },
   {
    "duration": 23,
    "start_time": "2022-05-11T09:51:03.006Z"
   },
   {
    "duration": 18,
    "start_time": "2022-05-11T09:51:03.031Z"
   },
   {
    "duration": 356,
    "start_time": "2022-05-11T09:51:03.052Z"
   },
   {
    "duration": 28,
    "start_time": "2022-05-11T09:51:03.410Z"
   },
   {
    "duration": 485,
    "start_time": "2022-05-11T09:51:03.440Z"
   },
   {
    "duration": 366,
    "start_time": "2022-05-11T09:51:03.927Z"
   },
   {
    "duration": 27,
    "start_time": "2022-05-11T09:51:04.295Z"
   },
   {
    "duration": 434,
    "start_time": "2022-05-11T09:51:04.324Z"
   },
   {
    "duration": 202,
    "start_time": "2022-05-11T09:51:04.765Z"
   },
   {
    "duration": 6,
    "start_time": "2022-05-11T09:51:04.970Z"
   },
   {
    "duration": 10,
    "start_time": "2022-05-11T09:51:04.992Z"
   },
   {
    "duration": 728,
    "start_time": "2022-05-11T09:51:05.005Z"
   },
   {
    "duration": 8,
    "start_time": "2022-05-11T09:51:05.736Z"
   },
   {
    "duration": 21,
    "start_time": "2022-05-11T09:51:05.747Z"
   },
   {
    "duration": 36,
    "start_time": "2022-05-11T09:51:05.793Z"
   },
   {
    "duration": 22,
    "start_time": "2022-05-11T09:51:05.832Z"
   },
   {
    "duration": 43,
    "start_time": "2022-05-11T09:51:05.856Z"
   },
   {
    "duration": 53,
    "start_time": "2022-05-11T09:51:05.902Z"
   },
   {
    "duration": 46,
    "start_time": "2022-05-11T09:51:05.958Z"
   },
   {
    "duration": 12,
    "start_time": "2022-05-11T09:51:06.007Z"
   },
   {
    "duration": 28,
    "start_time": "2022-05-11T09:51:06.022Z"
   },
   {
    "duration": 8,
    "start_time": "2022-05-11T09:51:06.053Z"
   },
   {
    "duration": 11,
    "start_time": "2022-05-11T09:51:06.093Z"
   },
   {
    "duration": 48,
    "start_time": "2022-05-11T09:51:06.107Z"
   },
   {
    "duration": 52,
    "start_time": "2022-05-11T09:51:06.157Z"
   },
   {
    "duration": 7,
    "start_time": "2022-05-11T09:51:06.211Z"
   },
   {
    "duration": 5,
    "start_time": "2022-05-11T09:51:29.016Z"
   },
   {
    "duration": 6,
    "start_time": "2022-05-11T09:52:52.153Z"
   },
   {
    "duration": 5,
    "start_time": "2022-05-11T09:53:00.394Z"
   },
   {
    "duration": 202,
    "start_time": "2022-05-11T09:53:15.331Z"
   },
   {
    "duration": 18,
    "start_time": "2022-05-11T09:53:22.211Z"
   },
   {
    "duration": 20,
    "start_time": "2022-05-11T09:54:18.219Z"
   },
   {
    "duration": 33,
    "start_time": "2022-05-11T09:54:49.637Z"
   },
   {
    "duration": 34,
    "start_time": "2022-05-11T09:54:56.271Z"
   },
   {
    "duration": 9,
    "start_time": "2022-05-11T09:55:10.992Z"
   },
   {
    "duration": 7,
    "start_time": "2022-05-11T09:55:37.991Z"
   },
   {
    "duration": 8,
    "start_time": "2022-05-11T09:55:47.157Z"
   },
   {
    "duration": 214,
    "start_time": "2022-05-11T10:09:01.758Z"
   },
   {
    "duration": 1081,
    "start_time": "2022-05-12T11:52:07.365Z"
   },
   {
    "duration": 68,
    "start_time": "2022-05-12T11:52:08.447Z"
   },
   {
    "duration": 7,
    "start_time": "2022-05-12T11:52:08.516Z"
   },
   {
    "duration": 5,
    "start_time": "2022-05-12T11:52:08.525Z"
   },
   {
    "duration": 5,
    "start_time": "2022-05-12T11:52:08.532Z"
   },
   {
    "duration": 4,
    "start_time": "2022-05-12T11:52:08.539Z"
   },
   {
    "duration": 6,
    "start_time": "2022-05-12T11:52:08.544Z"
   },
   {
    "duration": 8,
    "start_time": "2022-05-12T11:52:08.551Z"
   },
   {
    "duration": 50,
    "start_time": "2022-05-12T11:52:08.560Z"
   },
   {
    "duration": 16,
    "start_time": "2022-05-12T11:52:08.613Z"
   },
   {
    "duration": 7,
    "start_time": "2022-05-12T11:52:08.630Z"
   },
   {
    "duration": 22,
    "start_time": "2022-05-12T11:52:08.638Z"
   },
   {
    "duration": 166,
    "start_time": "2022-05-12T11:52:08.662Z"
   },
   {
    "duration": 6,
    "start_time": "2022-05-12T11:52:08.829Z"
   },
   {
    "duration": 467,
    "start_time": "2022-05-12T11:52:08.836Z"
   },
   {
    "duration": 7,
    "start_time": "2022-05-12T11:52:09.305Z"
   },
   {
    "duration": 195,
    "start_time": "2022-05-12T11:52:09.323Z"
   },
   {
    "duration": 407,
    "start_time": "2022-05-12T11:52:09.523Z"
   },
   {
    "duration": 147,
    "start_time": "2022-05-12T11:52:09.932Z"
   },
   {
    "duration": 14,
    "start_time": "2022-05-12T11:52:10.082Z"
   },
   {
    "duration": 31,
    "start_time": "2022-05-12T11:52:10.097Z"
   },
   {
    "duration": 213,
    "start_time": "2022-05-12T11:52:10.130Z"
   },
   {
    "duration": 17,
    "start_time": "2022-05-12T11:52:10.345Z"
   },
   {
    "duration": 285,
    "start_time": "2022-05-12T11:52:10.364Z"
   },
   {
    "duration": 234,
    "start_time": "2022-05-12T11:52:10.651Z"
   },
   {
    "duration": 19,
    "start_time": "2022-05-12T11:52:10.886Z"
   },
   {
    "duration": 307,
    "start_time": "2022-05-12T11:52:10.922Z"
   },
   {
    "duration": 127,
    "start_time": "2022-05-12T11:52:11.234Z"
   },
   {
    "duration": 4,
    "start_time": "2022-05-12T11:52:11.363Z"
   },
   {
    "duration": 10,
    "start_time": "2022-05-12T11:52:11.369Z"
   },
   {
    "duration": 375,
    "start_time": "2022-05-12T11:52:11.380Z"
   },
   {
    "duration": 6,
    "start_time": "2022-05-12T11:52:11.757Z"
   },
   {
    "duration": 10,
    "start_time": "2022-05-12T11:52:11.765Z"
   },
   {
    "duration": 46,
    "start_time": "2022-05-12T11:52:11.777Z"
   },
   {
    "duration": 12,
    "start_time": "2022-05-12T11:52:11.826Z"
   },
   {
    "duration": 7,
    "start_time": "2022-05-12T11:52:11.839Z"
   },
   {
    "duration": 25,
    "start_time": "2022-05-12T11:52:11.848Z"
   },
   {
    "duration": 48,
    "start_time": "2022-05-12T11:52:11.875Z"
   },
   {
    "duration": 8,
    "start_time": "2022-05-12T11:52:11.924Z"
   },
   {
    "duration": 18,
    "start_time": "2022-05-12T11:52:11.934Z"
   },
   {
    "duration": 7,
    "start_time": "2022-05-12T11:52:11.954Z"
   },
   {
    "duration": 7,
    "start_time": "2022-05-12T11:52:11.963Z"
   },
   {
    "duration": 24,
    "start_time": "2022-05-12T11:52:11.972Z"
   },
   {
    "duration": 18,
    "start_time": "2022-05-12T11:52:12.023Z"
   },
   {
    "duration": 10,
    "start_time": "2022-05-12T11:52:12.043Z"
   },
   {
    "duration": 8,
    "start_time": "2022-05-12T11:57:58.814Z"
   },
   {
    "duration": 136,
    "start_time": "2022-05-14T08:01:54.885Z"
   },
   {
    "duration": 1550,
    "start_time": "2022-05-14T08:01:59.880Z"
   },
   {
    "duration": 80,
    "start_time": "2022-05-14T08:02:01.434Z"
   },
   {
    "duration": 9,
    "start_time": "2022-05-14T08:02:01.516Z"
   },
   {
    "duration": 24,
    "start_time": "2022-05-14T08:02:01.528Z"
   },
   {
    "duration": 8,
    "start_time": "2022-05-14T08:02:01.554Z"
   },
   {
    "duration": 5,
    "start_time": "2022-05-14T08:02:01.564Z"
   },
   {
    "duration": 12,
    "start_time": "2022-05-14T08:02:01.571Z"
   },
   {
    "duration": 15,
    "start_time": "2022-05-14T08:02:01.585Z"
   },
   {
    "duration": 38,
    "start_time": "2022-05-14T08:02:01.602Z"
   },
   {
    "duration": 19,
    "start_time": "2022-05-14T08:02:01.653Z"
   },
   {
    "duration": 8,
    "start_time": "2022-05-14T08:02:01.675Z"
   },
   {
    "duration": 67,
    "start_time": "2022-05-14T08:02:01.685Z"
   },
   {
    "duration": 221,
    "start_time": "2022-05-14T08:02:01.754Z"
   },
   {
    "duration": 7,
    "start_time": "2022-05-14T08:02:01.977Z"
   },
   {
    "duration": 760,
    "start_time": "2022-05-14T08:02:01.986Z"
   },
   {
    "duration": 9,
    "start_time": "2022-05-14T08:02:02.752Z"
   },
   {
    "duration": 295,
    "start_time": "2022-05-14T08:02:02.763Z"
   },
   {
    "duration": 642,
    "start_time": "2022-05-14T08:02:03.060Z"
   },
   {
    "duration": 249,
    "start_time": "2022-05-14T08:02:03.704Z"
   },
   {
    "duration": 19,
    "start_time": "2022-05-14T08:02:03.955Z"
   },
   {
    "duration": 15,
    "start_time": "2022-05-14T08:02:03.976Z"
   },
   {
    "duration": 342,
    "start_time": "2022-05-14T08:02:03.993Z"
   },
   {
    "duration": 28,
    "start_time": "2022-05-14T08:02:04.338Z"
   },
   {
    "duration": 410,
    "start_time": "2022-05-14T08:02:04.368Z"
   },
   {
    "duration": 357,
    "start_time": "2022-05-14T08:02:04.781Z"
   },
   {
    "duration": 35,
    "start_time": "2022-05-14T08:02:05.140Z"
   },
   {
    "duration": 414,
    "start_time": "2022-05-14T08:02:05.178Z"
   },
   {
    "duration": 205,
    "start_time": "2022-05-14T08:02:05.597Z"
   },
   {
    "duration": 5,
    "start_time": "2022-05-14T08:02:05.805Z"
   },
   {
    "duration": 21,
    "start_time": "2022-05-14T08:02:05.813Z"
   },
   {
    "duration": 529,
    "start_time": "2022-05-14T08:02:05.837Z"
   },
   {
    "duration": 7,
    "start_time": "2022-05-14T08:02:06.369Z"
   },
   {
    "duration": 21,
    "start_time": "2022-05-14T08:02:06.378Z"
   },
   {
    "duration": 32,
    "start_time": "2022-05-14T08:02:06.401Z"
   },
   {
    "duration": 28,
    "start_time": "2022-05-14T08:02:06.435Z"
   },
   {
    "duration": 15,
    "start_time": "2022-05-14T08:02:06.465Z"
   },
   {
    "duration": 34,
    "start_time": "2022-05-14T08:02:06.483Z"
   },
   {
    "duration": 44,
    "start_time": "2022-05-14T08:02:06.519Z"
   },
   {
    "duration": 8,
    "start_time": "2022-05-14T08:02:06.566Z"
   },
   {
    "duration": 26,
    "start_time": "2022-05-14T08:02:06.576Z"
   },
   {
    "duration": 6,
    "start_time": "2022-05-14T08:02:06.604Z"
   },
   {
    "duration": 40,
    "start_time": "2022-05-14T08:02:06.612Z"
   },
   {
    "duration": 28,
    "start_time": "2022-05-14T08:02:06.654Z"
   },
   {
    "duration": 19,
    "start_time": "2022-05-14T08:02:06.684Z"
   },
   {
    "duration": 10,
    "start_time": "2022-05-14T08:02:06.705Z"
   },
   {
    "duration": 9,
    "start_time": "2022-05-14T08:02:31.548Z"
   },
   {
    "duration": 11,
    "start_time": "2022-05-14T08:02:42.491Z"
   },
   {
    "duration": 9,
    "start_time": "2022-05-14T08:03:19.728Z"
   },
   {
    "duration": 13,
    "start_time": "2022-05-14T08:05:10.196Z"
   },
   {
    "duration": 11,
    "start_time": "2022-05-14T08:23:29.358Z"
   },
   {
    "duration": 94,
    "start_time": "2022-05-14T08:29:03.859Z"
   },
   {
    "duration": 13,
    "start_time": "2022-05-14T08:29:09.843Z"
   },
   {
    "duration": 13,
    "start_time": "2022-05-14T08:29:18.694Z"
   },
   {
    "duration": 205,
    "start_time": "2022-05-14T08:29:25.124Z"
   },
   {
    "duration": 210,
    "start_time": "2022-05-14T08:29:38.656Z"
   },
   {
    "duration": 8,
    "start_time": "2022-05-14T08:29:51.488Z"
   },
   {
    "duration": 5,
    "start_time": "2022-05-14T08:30:00.970Z"
   },
   {
    "duration": 58,
    "start_time": "2022-05-14T08:30:00.979Z"
   },
   {
    "duration": 7,
    "start_time": "2022-05-14T08:30:01.039Z"
   },
   {
    "duration": 26,
    "start_time": "2022-05-14T08:30:01.049Z"
   },
   {
    "duration": 26,
    "start_time": "2022-05-14T08:30:01.077Z"
   },
   {
    "duration": 28,
    "start_time": "2022-05-14T08:30:01.105Z"
   },
   {
    "duration": 22,
    "start_time": "2022-05-14T08:30:01.136Z"
   },
   {
    "duration": 31,
    "start_time": "2022-05-14T08:30:01.160Z"
   },
   {
    "duration": 52,
    "start_time": "2022-05-14T08:30:01.193Z"
   },
   {
    "duration": 18,
    "start_time": "2022-05-14T08:30:01.249Z"
   },
   {
    "duration": 29,
    "start_time": "2022-05-14T08:30:01.269Z"
   },
   {
    "duration": 46,
    "start_time": "2022-05-14T08:30:01.300Z"
   },
   {
    "duration": 208,
    "start_time": "2022-05-14T08:30:01.349Z"
   },
   {
    "duration": 6,
    "start_time": "2022-05-14T08:30:01.560Z"
   },
   {
    "duration": 749,
    "start_time": "2022-05-14T08:30:01.569Z"
   },
   {
    "duration": 9,
    "start_time": "2022-05-14T08:30:02.320Z"
   },
   {
    "duration": 287,
    "start_time": "2022-05-14T08:30:02.331Z"
   },
   {
    "duration": 470,
    "start_time": "2022-05-14T08:30:02.620Z"
   },
   {
    "duration": 260,
    "start_time": "2022-05-14T08:30:03.092Z"
   },
   {
    "duration": 19,
    "start_time": "2022-05-14T08:30:03.354Z"
   },
   {
    "duration": 17,
    "start_time": "2022-05-14T08:30:03.375Z"
   },
   {
    "duration": 340,
    "start_time": "2022-05-14T08:30:03.395Z"
   },
   {
    "duration": 34,
    "start_time": "2022-05-14T08:30:03.737Z"
   },
   {
    "duration": 428,
    "start_time": "2022-05-14T08:30:03.773Z"
   },
   {
    "duration": 352,
    "start_time": "2022-05-14T08:30:04.204Z"
   },
   {
    "duration": 26,
    "start_time": "2022-05-14T08:30:04.559Z"
   },
   {
    "duration": 458,
    "start_time": "2022-05-14T08:30:04.587Z"
   },
   {
    "duration": 301,
    "start_time": "2022-05-14T08:30:05.053Z"
   },
   {
    "duration": 6,
    "start_time": "2022-05-14T08:30:05.356Z"
   },
   {
    "duration": 18,
    "start_time": "2022-05-14T08:30:05.363Z"
   },
   {
    "duration": 476,
    "start_time": "2022-05-14T08:30:05.383Z"
   },
   {
    "duration": 5,
    "start_time": "2022-05-14T08:30:05.862Z"
   },
   {
    "duration": 19,
    "start_time": "2022-05-14T08:30:05.870Z"
   },
   {
    "duration": 31,
    "start_time": "2022-05-14T08:30:05.892Z"
   },
   {
    "duration": 43,
    "start_time": "2022-05-14T08:30:05.925Z"
   },
   {
    "duration": 9,
    "start_time": "2022-05-14T08:30:05.971Z"
   },
   {
    "duration": 33,
    "start_time": "2022-05-14T08:30:05.982Z"
   },
   {
    "duration": 52,
    "start_time": "2022-05-14T08:30:06.018Z"
   },
   {
    "duration": 14,
    "start_time": "2022-05-14T08:30:06.072Z"
   },
   {
    "duration": 23,
    "start_time": "2022-05-14T08:30:06.089Z"
   },
   {
    "duration": 41,
    "start_time": "2022-05-14T08:30:06.114Z"
   },
   {
    "duration": 20,
    "start_time": "2022-05-14T08:30:06.157Z"
   },
   {
    "duration": 36,
    "start_time": "2022-05-14T08:30:06.179Z"
   },
   {
    "duration": 123,
    "start_time": "2022-05-14T08:30:06.217Z"
   },
   {
    "duration": 12,
    "start_time": "2022-05-14T08:30:06.343Z"
   },
   {
    "duration": 207,
    "start_time": "2022-05-14T08:30:14.595Z"
   },
   {
    "duration": 13,
    "start_time": "2022-05-14T08:30:55.920Z"
   },
   {
    "duration": 220,
    "start_time": "2022-05-14T08:31:06.632Z"
   },
   {
    "duration": 797,
    "start_time": "2022-05-14T08:32:02.476Z"
   },
   {
    "duration": 743,
    "start_time": "2022-05-14T08:32:24.118Z"
   },
   {
    "duration": 699,
    "start_time": "2022-05-14T08:32:42.468Z"
   },
   {
    "duration": 4,
    "start_time": "2022-05-14T08:32:47.206Z"
   },
   {
    "duration": 19,
    "start_time": "2022-05-14T08:32:47.213Z"
   },
   {
    "duration": 7,
    "start_time": "2022-05-14T08:32:47.236Z"
   },
   {
    "duration": 8,
    "start_time": "2022-05-14T08:32:47.246Z"
   },
   {
    "duration": 9,
    "start_time": "2022-05-14T08:32:47.257Z"
   },
   {
    "duration": 9,
    "start_time": "2022-05-14T08:32:47.269Z"
   },
   {
    "duration": 8,
    "start_time": "2022-05-14T08:32:47.280Z"
   },
   {
    "duration": 15,
    "start_time": "2022-05-14T08:32:47.290Z"
   },
   {
    "duration": 57,
    "start_time": "2022-05-14T08:32:47.307Z"
   },
   {
    "duration": 17,
    "start_time": "2022-05-14T08:32:47.366Z"
   },
   {
    "duration": 8,
    "start_time": "2022-05-14T08:32:47.387Z"
   },
   {
    "duration": 62,
    "start_time": "2022-05-14T08:32:47.398Z"
   },
   {
    "duration": 232,
    "start_time": "2022-05-14T08:32:47.462Z"
   },
   {
    "duration": 7,
    "start_time": "2022-05-14T08:32:47.697Z"
   },
   {
    "duration": 795,
    "start_time": "2022-05-14T08:32:47.706Z"
   },
   {
    "duration": 10,
    "start_time": "2022-05-14T08:32:48.503Z"
   },
   {
    "duration": 294,
    "start_time": "2022-05-14T08:32:48.516Z"
   },
   {
    "duration": 468,
    "start_time": "2022-05-14T08:32:48.813Z"
   },
   {
    "duration": 237,
    "start_time": "2022-05-14T08:32:49.284Z"
   },
   {
    "duration": 39,
    "start_time": "2022-05-14T08:32:49.524Z"
   },
   {
    "duration": 18,
    "start_time": "2022-05-14T08:32:49.565Z"
   },
   {
    "duration": 338,
    "start_time": "2022-05-14T08:32:49.586Z"
   },
   {
    "duration": 36,
    "start_time": "2022-05-14T08:32:49.926Z"
   },
   {
    "duration": 403,
    "start_time": "2022-05-14T08:32:49.965Z"
   },
   {
    "duration": 352,
    "start_time": "2022-05-14T08:32:50.370Z"
   },
   {
    "duration": 34,
    "start_time": "2022-05-14T08:32:50.724Z"
   },
   {
    "duration": 394,
    "start_time": "2022-05-14T08:32:50.760Z"
   },
   {
    "duration": 199,
    "start_time": "2022-05-14T08:32:51.156Z"
   },
   {
    "duration": 5,
    "start_time": "2022-05-14T08:32:51.360Z"
   },
   {
    "duration": 14,
    "start_time": "2022-05-14T08:32:51.367Z"
   },
   {
    "duration": 446,
    "start_time": "2022-05-14T08:32:51.383Z"
   },
   {
    "duration": 6,
    "start_time": "2022-05-14T08:32:51.831Z"
   },
   {
    "duration": 21,
    "start_time": "2022-05-14T08:32:51.839Z"
   },
   {
    "duration": 22,
    "start_time": "2022-05-14T08:32:51.863Z"
   },
   {
    "duration": 15,
    "start_time": "2022-05-14T08:32:51.887Z"
   },
   {
    "duration": 8,
    "start_time": "2022-05-14T08:32:51.904Z"
   },
   {
    "duration": 65,
    "start_time": "2022-05-14T08:32:51.914Z"
   },
   {
    "duration": 20,
    "start_time": "2022-05-14T08:32:51.981Z"
   },
   {
    "duration": 8,
    "start_time": "2022-05-14T08:32:52.003Z"
   },
   {
    "duration": 54,
    "start_time": "2022-05-14T08:32:52.013Z"
   },
   {
    "duration": 7,
    "start_time": "2022-05-14T08:32:52.069Z"
   },
   {
    "duration": 10,
    "start_time": "2022-05-14T08:32:52.077Z"
   },
   {
    "duration": 63,
    "start_time": "2022-05-14T08:32:52.090Z"
   },
   {
    "duration": 24,
    "start_time": "2022-05-14T08:32:52.156Z"
   },
   {
    "duration": 6,
    "start_time": "2022-05-14T08:32:52.183Z"
   },
   {
    "duration": 737,
    "start_time": "2022-05-14T08:33:46.869Z"
   },
   {
    "duration": 566,
    "start_time": "2022-05-14T08:35:47.986Z"
   },
   {
    "duration": 309,
    "start_time": "2022-05-14T08:36:32.976Z"
   },
   {
    "duration": 428,
    "start_time": "2022-05-14T08:37:59.432Z"
   },
   {
    "duration": 347,
    "start_time": "2022-05-14T08:38:59.197Z"
   },
   {
    "duration": 394,
    "start_time": "2022-05-14T08:39:38.578Z"
   },
   {
    "duration": 463,
    "start_time": "2022-05-14T08:40:18.704Z"
   },
   {
    "duration": 199,
    "start_time": "2022-05-14T08:40:52.955Z"
   },
   {
    "duration": 472,
    "start_time": "2022-05-14T08:41:50.435Z"
   },
   {
    "duration": 51,
    "start_time": "2022-05-14T08:45:10.068Z"
   },
   {
    "duration": 35,
    "start_time": "2022-05-14T08:45:32.048Z"
   },
   {
    "duration": 32,
    "start_time": "2022-05-14T08:46:46.832Z"
   },
   {
    "duration": 5,
    "start_time": "2022-05-14T08:56:38.057Z"
   },
   {
    "duration": 14,
    "start_time": "2022-05-14T08:56:38.065Z"
   },
   {
    "duration": 7,
    "start_time": "2022-05-14T08:56:38.081Z"
   },
   {
    "duration": 9,
    "start_time": "2022-05-14T08:56:38.090Z"
   },
   {
    "duration": 8,
    "start_time": "2022-05-14T08:56:38.102Z"
   },
   {
    "duration": 40,
    "start_time": "2022-05-14T08:56:38.112Z"
   },
   {
    "duration": 8,
    "start_time": "2022-05-14T08:56:38.155Z"
   },
   {
    "duration": 17,
    "start_time": "2022-05-14T08:56:38.165Z"
   },
   {
    "duration": 36,
    "start_time": "2022-05-14T08:56:38.185Z"
   },
   {
    "duration": 43,
    "start_time": "2022-05-14T08:56:38.224Z"
   },
   {
    "duration": 17,
    "start_time": "2022-05-14T08:56:38.269Z"
   },
   {
    "duration": 36,
    "start_time": "2022-05-14T08:56:38.288Z"
   },
   {
    "duration": 228,
    "start_time": "2022-05-14T08:56:38.353Z"
   },
   {
    "duration": 8,
    "start_time": "2022-05-14T08:56:38.584Z"
   },
   {
    "duration": 788,
    "start_time": "2022-05-14T08:56:38.594Z"
   },
   {
    "duration": 9,
    "start_time": "2022-05-14T08:56:39.384Z"
   },
   {
    "duration": 376,
    "start_time": "2022-05-14T08:56:39.395Z"
   },
   {
    "duration": 511,
    "start_time": "2022-05-14T08:56:39.773Z"
   },
   {
    "duration": 239,
    "start_time": "2022-05-14T08:56:40.287Z"
   },
   {
    "duration": 34,
    "start_time": "2022-05-14T08:56:40.528Z"
   },
   {
    "duration": 18,
    "start_time": "2022-05-14T08:56:40.564Z"
   },
   {
    "duration": 349,
    "start_time": "2022-05-14T08:56:40.584Z"
   },
   {
    "duration": 35,
    "start_time": "2022-05-14T08:56:40.936Z"
   },
   {
    "duration": 417,
    "start_time": "2022-05-14T08:56:40.974Z"
   },
   {
    "duration": 359,
    "start_time": "2022-05-14T08:56:41.393Z"
   },
   {
    "duration": 27,
    "start_time": "2022-05-14T08:56:41.754Z"
   },
   {
    "duration": 450,
    "start_time": "2022-05-14T08:56:41.783Z"
   },
   {
    "duration": 222,
    "start_time": "2022-05-14T08:56:42.236Z"
   },
   {
    "duration": 7,
    "start_time": "2022-05-14T08:56:42.461Z"
   },
   {
    "duration": 13,
    "start_time": "2022-05-14T08:56:42.471Z"
   },
   {
    "duration": 509,
    "start_time": "2022-05-14T08:56:42.487Z"
   },
   {
    "duration": 5,
    "start_time": "2022-05-14T08:56:42.998Z"
   },
   {
    "duration": 16,
    "start_time": "2022-05-14T08:56:43.006Z"
   },
   {
    "duration": 51,
    "start_time": "2022-05-14T08:56:43.024Z"
   },
   {
    "duration": 18,
    "start_time": "2022-05-14T08:56:43.078Z"
   },
   {
    "duration": 19,
    "start_time": "2022-05-14T08:56:43.098Z"
   },
   {
    "duration": 53,
    "start_time": "2022-05-14T08:56:43.123Z"
   },
   {
    "duration": 31,
    "start_time": "2022-05-14T08:56:43.178Z"
   },
   {
    "duration": 10,
    "start_time": "2022-05-14T08:56:43.211Z"
   },
   {
    "duration": 42,
    "start_time": "2022-05-14T08:56:43.224Z"
   },
   {
    "duration": 7,
    "start_time": "2022-05-14T08:56:43.268Z"
   },
   {
    "duration": 14,
    "start_time": "2022-05-14T08:56:43.277Z"
   },
   {
    "duration": 34,
    "start_time": "2022-05-14T08:56:43.294Z"
   },
   {
    "duration": 21,
    "start_time": "2022-05-14T08:56:43.351Z"
   },
   {
    "duration": 14,
    "start_time": "2022-05-14T08:56:43.374Z"
   },
   {
    "duration": 49,
    "start_time": "2022-05-14T08:57:33.401Z"
   },
   {
    "duration": 25,
    "start_time": "2022-05-14T09:01:53.554Z"
   },
   {
    "duration": 21,
    "start_time": "2022-05-14T09:03:03.810Z"
   },
   {
    "duration": 5,
    "start_time": "2022-05-14T09:03:52.983Z"
   },
   {
    "duration": 14,
    "start_time": "2022-05-14T09:03:52.994Z"
   },
   {
    "duration": 7,
    "start_time": "2022-05-14T09:03:53.011Z"
   },
   {
    "duration": 15,
    "start_time": "2022-05-14T09:03:53.021Z"
   },
   {
    "duration": 16,
    "start_time": "2022-05-14T09:03:53.038Z"
   },
   {
    "duration": 6,
    "start_time": "2022-05-14T09:03:53.057Z"
   },
   {
    "duration": 12,
    "start_time": "2022-05-14T09:03:53.066Z"
   },
   {
    "duration": 14,
    "start_time": "2022-05-14T09:03:53.081Z"
   },
   {
    "duration": 32,
    "start_time": "2022-05-14T09:03:53.097Z"
   },
   {
    "duration": 35,
    "start_time": "2022-05-14T09:03:53.131Z"
   },
   {
    "duration": 8,
    "start_time": "2022-05-14T09:03:53.169Z"
   },
   {
    "duration": 26,
    "start_time": "2022-05-14T09:03:53.180Z"
   },
   {
    "duration": 220,
    "start_time": "2022-05-14T09:03:53.252Z"
   },
   {
    "duration": 8,
    "start_time": "2022-05-14T09:03:53.474Z"
   },
   {
    "duration": 768,
    "start_time": "2022-05-14T09:03:53.487Z"
   },
   {
    "duration": 8,
    "start_time": "2022-05-14T09:03:54.257Z"
   },
   {
    "duration": 287,
    "start_time": "2022-05-14T09:03:54.267Z"
   },
   {
    "duration": 495,
    "start_time": "2022-05-14T09:03:54.556Z"
   },
   {
    "duration": 323,
    "start_time": "2022-05-14T09:03:55.053Z"
   },
   {
    "duration": 18,
    "start_time": "2022-05-14T09:03:55.378Z"
   },
   {
    "duration": 16,
    "start_time": "2022-05-14T09:03:55.398Z"
   },
   {
    "duration": 331,
    "start_time": "2022-05-14T09:03:55.417Z"
   },
   {
    "duration": 24,
    "start_time": "2022-05-14T09:03:55.753Z"
   },
   {
    "duration": 412,
    "start_time": "2022-05-14T09:03:55.779Z"
   },
   {
    "duration": 372,
    "start_time": "2022-05-14T09:03:56.194Z"
   },
   {
    "duration": 28,
    "start_time": "2022-05-14T09:03:56.568Z"
   },
   {
    "duration": 480,
    "start_time": "2022-05-14T09:03:56.598Z"
   },
   {
    "duration": 217,
    "start_time": "2022-05-14T09:03:57.081Z"
   },
   {
    "duration": 6,
    "start_time": "2022-05-14T09:03:57.300Z"
   },
   {
    "duration": 14,
    "start_time": "2022-05-14T09:03:57.307Z"
   },
   {
    "duration": 481,
    "start_time": "2022-05-14T09:03:57.323Z"
   },
   {
    "duration": 5,
    "start_time": "2022-05-14T09:03:57.807Z"
   },
   {
    "duration": 14,
    "start_time": "2022-05-14T09:03:57.815Z"
   },
   {
    "duration": 45,
    "start_time": "2022-05-14T09:03:57.830Z"
   },
   {
    "duration": 15,
    "start_time": "2022-05-14T09:03:57.877Z"
   },
   {
    "duration": 10,
    "start_time": "2022-05-14T09:03:57.894Z"
   },
   {
    "duration": 61,
    "start_time": "2022-05-14T09:03:57.906Z"
   },
   {
    "duration": 20,
    "start_time": "2022-05-14T09:03:57.969Z"
   },
   {
    "duration": 9,
    "start_time": "2022-05-14T09:03:57.991Z"
   },
   {
    "duration": 54,
    "start_time": "2022-05-14T09:03:58.002Z"
   },
   {
    "duration": 7,
    "start_time": "2022-05-14T09:03:58.058Z"
   },
   {
    "duration": 8,
    "start_time": "2022-05-14T09:03:58.071Z"
   },
   {
    "duration": 33,
    "start_time": "2022-05-14T09:03:58.081Z"
   },
   {
    "duration": 47,
    "start_time": "2022-05-14T09:03:58.116Z"
   },
   {
    "duration": 9,
    "start_time": "2022-05-14T09:03:58.165Z"
   },
   {
    "duration": 1133,
    "start_time": "2022-05-14T18:23:12.922Z"
   },
   {
    "duration": 82,
    "start_time": "2022-05-14T18:23:14.057Z"
   },
   {
    "duration": 9,
    "start_time": "2022-05-14T18:23:14.140Z"
   },
   {
    "duration": 4,
    "start_time": "2022-05-14T18:23:14.152Z"
   },
   {
    "duration": 7,
    "start_time": "2022-05-14T18:23:14.158Z"
   },
   {
    "duration": 5,
    "start_time": "2022-05-14T18:23:14.167Z"
   },
   {
    "duration": 5,
    "start_time": "2022-05-14T18:23:14.174Z"
   },
   {
    "duration": 45,
    "start_time": "2022-05-14T18:23:14.181Z"
   },
   {
    "duration": 11,
    "start_time": "2022-05-14T18:23:23.332Z"
   },
   {
    "duration": 71,
    "start_time": "2022-05-15T09:54:03.757Z"
   },
   {
    "duration": 1614,
    "start_time": "2022-05-15T09:54:18.630Z"
   },
   {
    "duration": 90,
    "start_time": "2022-05-15T09:54:20.247Z"
   },
   {
    "duration": 10,
    "start_time": "2022-05-15T09:54:20.339Z"
   },
   {
    "duration": 21,
    "start_time": "2022-05-15T09:54:20.352Z"
   },
   {
    "duration": 9,
    "start_time": "2022-05-15T09:54:20.382Z"
   },
   {
    "duration": 6,
    "start_time": "2022-05-15T09:54:20.394Z"
   },
   {
    "duration": 11,
    "start_time": "2022-05-15T09:54:20.403Z"
   },
   {
    "duration": 21,
    "start_time": "2022-05-15T09:54:20.417Z"
   },
   {
    "duration": 43,
    "start_time": "2022-05-15T09:54:20.440Z"
   },
   {
    "duration": 20,
    "start_time": "2022-05-15T09:54:20.487Z"
   },
   {
    "duration": 8,
    "start_time": "2022-05-15T09:54:20.510Z"
   },
   {
    "duration": 70,
    "start_time": "2022-05-15T09:54:20.520Z"
   },
   {
    "duration": 269,
    "start_time": "2022-05-15T09:54:20.593Z"
   },
   {
    "duration": 17,
    "start_time": "2022-05-15T09:54:20.865Z"
   },
   {
    "duration": 858,
    "start_time": "2022-05-15T09:54:20.884Z"
   },
   {
    "duration": 9,
    "start_time": "2022-05-15T09:54:21.744Z"
   },
   {
    "duration": 318,
    "start_time": "2022-05-15T09:54:21.755Z"
   },
   {
    "duration": 688,
    "start_time": "2022-05-15T09:54:22.075Z"
   },
   {
    "duration": 310,
    "start_time": "2022-05-15T09:54:22.766Z"
   },
   {
    "duration": 26,
    "start_time": "2022-05-15T09:54:23.082Z"
   },
   {
    "duration": 23,
    "start_time": "2022-05-15T09:54:23.110Z"
   },
   {
    "duration": 359,
    "start_time": "2022-05-15T09:54:23.136Z"
   },
   {
    "duration": 37,
    "start_time": "2022-05-15T09:54:23.498Z"
   },
   {
    "duration": 473,
    "start_time": "2022-05-15T09:54:23.538Z"
   },
   {
    "duration": 373,
    "start_time": "2022-05-15T09:54:24.013Z"
   },
   {
    "duration": 48,
    "start_time": "2022-05-15T09:54:24.388Z"
   },
   {
    "duration": 590,
    "start_time": "2022-05-15T09:54:24.439Z"
   },
   {
    "duration": 328,
    "start_time": "2022-05-15T09:54:25.036Z"
   },
   {
    "duration": 6,
    "start_time": "2022-05-15T09:54:25.367Z"
   },
   {
    "duration": 15,
    "start_time": "2022-05-15T09:54:25.382Z"
   },
   {
    "duration": 842,
    "start_time": "2022-05-15T09:54:25.400Z"
   },
   {
    "duration": 6,
    "start_time": "2022-05-15T09:54:26.245Z"
   },
   {
    "duration": 37,
    "start_time": "2022-05-15T09:54:26.254Z"
   },
   {
    "duration": 28,
    "start_time": "2022-05-15T09:54:26.294Z"
   },
   {
    "duration": 16,
    "start_time": "2022-05-15T09:54:26.324Z"
   },
   {
    "duration": 40,
    "start_time": "2022-05-15T09:54:26.342Z"
   },
   {
    "duration": 35,
    "start_time": "2022-05-15T09:54:26.384Z"
   },
   {
    "duration": 20,
    "start_time": "2022-05-15T09:54:26.421Z"
   },
   {
    "duration": 40,
    "start_time": "2022-05-15T09:54:26.444Z"
   },
   {
    "duration": 23,
    "start_time": "2022-05-15T09:54:26.487Z"
   },
   {
    "duration": 8,
    "start_time": "2022-05-15T09:54:26.513Z"
   },
   {
    "duration": 17,
    "start_time": "2022-05-15T09:54:26.524Z"
   },
   {
    "duration": 32,
    "start_time": "2022-05-15T09:54:26.581Z"
   },
   {
    "duration": 25,
    "start_time": "2022-05-15T09:54:26.616Z"
   },
   {
    "duration": 44,
    "start_time": "2022-05-15T09:54:26.644Z"
   },
   {
    "duration": 11,
    "start_time": "2022-05-15T09:56:11.984Z"
   },
   {
    "duration": 9,
    "start_time": "2022-05-15T09:56:50.253Z"
   },
   {
    "duration": 174,
    "start_time": "2022-05-15T09:57:00.077Z"
   },
   {
    "duration": 9,
    "start_time": "2022-05-15T09:57:12.543Z"
   },
   {
    "duration": 9,
    "start_time": "2022-05-15T09:58:11.855Z"
   },
   {
    "duration": 11,
    "start_time": "2022-05-15T09:58:24.816Z"
   },
   {
    "duration": 11,
    "start_time": "2022-05-15T10:00:02.177Z"
   },
   {
    "duration": 9,
    "start_time": "2022-05-15T10:00:34.093Z"
   },
   {
    "duration": 8,
    "start_time": "2022-05-15T10:00:42.670Z"
   },
   {
    "duration": 12,
    "start_time": "2022-05-15T10:00:51.052Z"
   }
  ],
  "kernelspec": {
   "display_name": "Python 3 (ipykernel)",
   "language": "python",
   "name": "python3"
  },
  "language_info": {
   "codemirror_mode": {
    "name": "ipython",
    "version": 3
   },
   "file_extension": ".py",
   "mimetype": "text/x-python",
   "name": "python",
   "nbconvert_exporter": "python",
   "pygments_lexer": "ipython3",
   "version": "3.9.5"
  },
  "toc": {
   "base_numbering": 1,
   "nav_menu": {},
   "number_sections": false,
   "sideBar": true,
   "skip_h1_title": false,
   "title_cell": "Table of Contents",
   "title_sidebar": "Contents",
   "toc_cell": false,
   "toc_position": {
    "height": "calc(100% - 180px)",
    "left": "10px",
    "top": "150px",
    "width": "260px"
   },
   "toc_section_display": true,
   "toc_window_display": true
  }
 },
 "nbformat": 4,
 "nbformat_minor": 2
}
